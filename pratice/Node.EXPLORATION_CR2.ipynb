{
 "cells": [
  {
   "cell_type": "markdown",
   "id": "6d953e6b",
   "metadata": {},
   "source": [
    "# 학습 전제\n",
    "\n",
    "numpy, pandas, matplotlib 등의 라이브러리를 자유롭게 활용할 수 있다.\n",
    "\n",
    "원핫인코딩 등의 간단한 데이터 전처리 방식의 개념에 대해 알고있다.\n",
    "\n",
    "고등 수학 과정 중 도함수의 정의와 미분계수 수식, 그리고 간단한 미분 공식을 알고 있다.\n",
    "\n",
    "머신러닝의 개념과 그 패러다임에 관해 학습해본 적이 있으며, 낯설지 않다.\n",
    "\n",
    "# 학습 목표\n",
    "\n",
    "입력데이터인 X, 정답데이터인 y, 모델의 출력인 prediction 각각의 개념을 알고, y에 가까운 prediction을 낼 수 있도록 학습한다는 철학을 이해한다.\n",
    "\n",
    "손실함수의 개념과 손실함수가 필요한 이유를 이해하고, 쓸 수 있는 함수의 종류와 구현을 익힌다.\n",
    "\n",
    "손실함수를 미분해서 구하는 기울기는 손실함수값을 줄이기 위해 필요한 것임을 이해하고, 그 구현을 수치미분과 해석미분 두 가지 방법으로 진행해본다.\n",
    "\n",
    "손실함수를 정의하고 경사하강법을 활용해 선형 방정식 형태로 된 모델을 학습시켜 실수형 데이터를 예측하는 선형 회귀 프로젝트의 전체 프로세스를 경험하고 익힌다.\n",
    "\n",
    "sklearn의 LinearRegression을 활용해 빠르고 간편하게 선형 회귀 하는 방법을 익힌다."
   ]
  },
  {
   "cell_type": "code",
   "execution_count": 1,
   "id": "59531ffd",
   "metadata": {},
   "outputs": [
    {
     "name": "stdout",
     "output_type": "stream",
     "text": [
      "슝=3\n"
     ]
    }
   ],
   "source": [
    "from IPython.display import display, Image\n",
    "print(\"슝=3\")"
   ]
  },
  {
   "cell_type": "code",
   "execution_count": 2,
   "id": "7d19d295",
   "metadata": {},
   "outputs": [
    {
     "name": "stdout",
     "output_type": "stream",
     "text": [
      "슝=3\n"
     ]
    }
   ],
   "source": [
    "import pandas as pd\n",
    "print(\"슝=3\")"
   ]
  },
  {
   "cell_type": "code",
   "execution_count": 3,
   "id": "90cf8579",
   "metadata": {},
   "outputs": [
    {
     "name": "stdout",
     "output_type": "stream",
     "text": [
      "(80, 2)\n"
     ]
    },
    {
     "data": {
      "text/html": [
       "<div>\n",
       "<style scoped>\n",
       "    .dataframe tbody tr th:only-of-type {\n",
       "        vertical-align: middle;\n",
       "    }\n",
       "\n",
       "    .dataframe tbody tr th {\n",
       "        vertical-align: top;\n",
       "    }\n",
       "\n",
       "    .dataframe thead th {\n",
       "        text-align: right;\n",
       "    }\n",
       "</style>\n",
       "<table border=\"1\" class=\"dataframe\">\n",
       "  <thead>\n",
       "    <tr style=\"text-align: right;\">\n",
       "      <th></th>\n",
       "      <th>used_years</th>\n",
       "      <th>price</th>\n",
       "    </tr>\n",
       "  </thead>\n",
       "  <tbody>\n",
       "    <tr>\n",
       "      <th>0</th>\n",
       "      <td>2.65</td>\n",
       "      <td>175</td>\n",
       "    </tr>\n",
       "    <tr>\n",
       "      <th>1</th>\n",
       "      <td>3.80</td>\n",
       "      <td>63</td>\n",
       "    </tr>\n",
       "    <tr>\n",
       "      <th>2</th>\n",
       "      <td>0.95</td>\n",
       "      <td>273</td>\n",
       "    </tr>\n",
       "    <tr>\n",
       "      <th>3</th>\n",
       "      <td>4.50</td>\n",
       "      <td>133</td>\n",
       "    </tr>\n",
       "    <tr>\n",
       "      <th>4</th>\n",
       "      <td>4.45</td>\n",
       "      <td>106</td>\n",
       "    </tr>\n",
       "  </tbody>\n",
       "</table>\n",
       "</div>"
      ],
      "text/plain": [
       "   used_years  price\n",
       "0        2.65    175\n",
       "1        3.80     63\n",
       "2        0.95    273\n",
       "3        4.50    133\n",
       "4        4.45    106"
      ]
     },
     "execution_count": 3,
     "metadata": {},
     "output_type": "execute_result"
    }
   ],
   "source": [
    "macbook = pd.read_csv('~/aiffel/bike_regression/data/macbook.csv')\n",
    "print(macbook.shape)\n",
    "macbook.head()"
   ]
  },
  {
   "cell_type": "code",
   "execution_count": 4,
   "id": "956a0141",
   "metadata": {},
   "outputs": [
    {
     "name": "stdout",
     "output_type": "stream",
     "text": [
      "슝=3\n"
     ]
    }
   ],
   "source": [
    "import matplotlib.pyplot as plt\n",
    "# 실행한 브라우저에서 바로 그림을 볼 수 있게 해줌\n",
    "%matplotlib inline \n",
    "%config InlineBackend.figure_format = 'retina' # 더 높은 해상도로 출력한다.\n",
    "print(\"슝=3\")"
   ]
  },
  {
   "cell_type": "code",
   "execution_count": 5,
   "id": "0dca8b1b",
   "metadata": {},
   "outputs": [
    {
     "data": {
      "image/png": "[encoded data removed]",
      "text/plain": [
       "<Figure size 432x288 with 1 Axes>"
      ]
     },
     "metadata": {
      "image/png": {
       "height": 248,
       "width": 375
      },
      "needs_background": "light"
     },
     "output_type": "display_data"
    }
   ],
   "source": [
    "plt.scatter(macbook['used_years'], macbook['price'])\n",
    "plt.show()"
   ]
  },
  {
   "cell_type": "code",
   "execution_count": 7,
   "id": "e6aa1980",
   "metadata": {},
   "outputs": [
    {
     "data": {
      "text/plain": [
       "array([[ 1.        , -0.78972238],\n",
       "       [-0.78972238,  1.        ]])"
      ]
     },
     "execution_count": 7,
     "metadata": {},
     "output_type": "execute_result"
    }
   ],
   "source": [
    "import numpy as np\n",
    "\n",
    "# np.corrcoef(x, y)를 사용합니다.\n",
    "np.corrcoef(macbook['used_years'], macbook['price'])"
   ]
  },
  {
   "cell_type": "code",
   "execution_count": 8,
   "id": "40d02577",
   "metadata": {},
   "outputs": [
    {
     "name": "stdout",
     "output_type": "stream",
     "text": [
      "슝=3\n"
     ]
    }
   ],
   "source": [
    "x = macbook[\"used_years\"].values\n",
    "y = macbook[\"price\"].values\n",
    "print(\"슝=3\")"
   ]
  },
  {
   "cell_type": "code",
   "execution_count": 9,
   "id": "b64eb5ee",
   "metadata": {},
   "outputs": [
    {
     "name": "stdout",
     "output_type": "stream",
     "text": [
      "슝=3\n"
     ]
    }
   ],
   "source": [
    "def model(x, w, b):\n",
    "    y = w * x + b\n",
    "    return y\n",
    "print(\"슝=3\")"
   ]
  },
  {
   "cell_type": "code",
   "execution_count": 10,
   "id": "324031de",
   "metadata": {},
   "outputs": [
    {
     "data": {
      "text/plain": [
       "11"
      ]
     },
     "execution_count": 10,
     "metadata": {},
     "output_type": "execute_result"
    }
   ],
   "source": [
    "model(x=5, w=2, b=1)"
   ]
  },
  {
   "cell_type": "code",
   "execution_count": 11,
   "id": "40389eb5",
   "metadata": {},
   "outputs": [
    {
     "data": {
      "image/png": "[encoded data removed]",
      "text/plain": [
       "<Figure size 432x288 with 1 Axes>"
      ]
     },
     "metadata": {
      "image/png": {
       "height": 248,
       "width": 377
      },
      "needs_background": "light"
     },
     "output_type": "display_data"
    }
   ],
   "source": [
    "# x축, y축 그리기\n",
    "plt.axvline(x=0, c='black')\n",
    "plt.axhline(y=0, c='black')\n",
    "\n",
    "# y = wx + b 일차함수 그리기\n",
    "x = np.linspace(0, 8, 9)\n",
    "y = model(x, w=-20, b=140) # y = -20x + 140\n",
    "plt.plot(y)\n",
    "\n",
    "# 나의 (x, y) 점 찍기\n",
    "x_data = [2, 5, 6]\n",
    "y_data = [100, 40, 20]\n",
    "plt.scatter(x_data, y_data, c='r', s=50)\n",
    "\n",
    "plt.show()"
   ]
  },
  {
   "cell_type": "code",
   "execution_count": 13,
   "id": "f77637eb",
   "metadata": {},
   "outputs": [
    {
     "name": "stdout",
     "output_type": "stream",
     "text": [
      "슝=3\n"
     ]
    }
   ],
   "source": [
    "w = 3.1\n",
    "b = 2.3\n",
    "print(\"슝=3\")"
   ]
  },
  {
   "cell_type": "code",
   "execution_count": 32,
   "id": "fbf2521f",
   "metadata": {},
   "outputs": [
    {
     "data": {
      "image/png": "[encoded data removed]",
      "text/plain": [
       "<Figure size 432x288 with 1 Axes>"
      ]
     },
     "metadata": {
      "image/png": {
       "height": 248,
       "width": 375
      },
      "needs_background": "light"
     },
     "output_type": "display_data"
    }
   ],
   "source": [
    "x = np.linspace(1, 5, 6)\n",
    "y = model(x, w, b) # y = 3.1x + 2.3\n",
    "plt.plot(y, c='r')\n",
    "\n",
    "plt.scatter(macbook['used_years'], macbook['price'])\n",
    "plt.show()"
   ]
  },
  {
   "cell_type": "code",
   "execution_count": 15,
   "id": "bb968e4c",
   "metadata": {},
   "outputs": [
    {
     "data": {
      "text/plain": [
       "array([2.65, 3.8 , 0.95, 4.5 , 4.45, 2.7 , 3.05, 2.25, 2.3 , 1.85, 1.5 ,\n",
       "       0.95, 2.6 , 0.55, 2.05, 0.75, 3.95, 2.8 , 2.05, 1.15, 1.35, 3.35,\n",
       "       1.35, 2.45, 2.4 , 0.1 , 3.45, 2.35, 0.7 , 1.05, 1.75, 4.1 , 4.5 ,\n",
       "       4.  , 2.  , 2.45, 2.5 , 2.1 , 3.  , 4.05, 2.7 , 2.15, 3.3 , 2.4 ,\n",
       "       2.85, 1.65, 1.55, 2.15, 3.4 , 1.55, 0.8 , 2.95, 2.4 , 1.4 , 1.65,\n",
       "       2.25, 3.85, 3.9 , 4.6 , 2.35, 4.05, 1.2 , 1.95, 1.6 , 2.  , 1.8 ,\n",
       "       3.75, 3.65, 2.35, 2.2 , 1.  , 4.15, 1.1 , 1.55, 2.95, 1.5 , 1.65,\n",
       "       1.1 , 3.25, 0.75])"
      ]
     },
     "execution_count": 15,
     "metadata": {},
     "output_type": "execute_result"
    }
   ],
   "source": [
    "x = macbook[\"used_years\"].values\n",
    "x"
   ]
  },
  {
   "cell_type": "code",
   "execution_count": 16,
   "id": "7702b5a8",
   "metadata": {},
   "outputs": [
    {
     "data": {
      "text/plain": [
       "array([10.515, 14.08 ,  5.245, 16.25 , 16.095, 10.67 , 11.755,  9.275,\n",
       "        9.43 ,  8.035,  6.95 ,  5.245, 10.36 ,  4.005,  8.655,  4.625,\n",
       "       14.545, 10.98 ,  8.655,  5.865,  6.485, 12.685,  6.485,  9.895,\n",
       "        9.74 ,  2.61 , 12.995,  9.585,  4.47 ,  5.555,  7.725, 15.01 ,\n",
       "       16.25 , 14.7  ,  8.5  ,  9.895, 10.05 ,  8.81 , 11.6  , 14.855,\n",
       "       10.67 ,  8.965, 12.53 ,  9.74 , 11.135,  7.415,  7.105,  8.965,\n",
       "       12.84 ,  7.105,  4.78 , 11.445,  9.74 ,  6.64 ,  7.415,  9.275,\n",
       "       14.235, 14.39 , 16.56 ,  9.585, 14.855,  6.02 ,  8.345,  7.26 ,\n",
       "        8.5  ,  7.88 , 13.925, 13.615,  9.585,  9.12 ,  5.4  , 15.165,\n",
       "        5.71 ,  7.105, 11.445,  6.95 ,  7.415,  5.71 , 12.375,  4.625])"
      ]
     },
     "execution_count": 16,
     "metadata": {},
     "output_type": "execute_result"
    }
   ],
   "source": [
    "prediction = model(x, w, b) # 현재 w = 3.1, b = 2.3\n",
    "prediction"
   ]
  },
  {
   "cell_type": "code",
   "execution_count": 17,
   "id": "7d230255",
   "metadata": {},
   "outputs": [
    {
     "data": {
      "text/html": [
       "<div>\n",
       "<style scoped>\n",
       "    .dataframe tbody tr th:only-of-type {\n",
       "        vertical-align: middle;\n",
       "    }\n",
       "\n",
       "    .dataframe tbody tr th {\n",
       "        vertical-align: top;\n",
       "    }\n",
       "\n",
       "    .dataframe thead th {\n",
       "        text-align: right;\n",
       "    }\n",
       "</style>\n",
       "<table border=\"1\" class=\"dataframe\">\n",
       "  <thead>\n",
       "    <tr style=\"text-align: right;\">\n",
       "      <th></th>\n",
       "      <th>used_years</th>\n",
       "      <th>price</th>\n",
       "      <th>prediction</th>\n",
       "    </tr>\n",
       "  </thead>\n",
       "  <tbody>\n",
       "    <tr>\n",
       "      <th>0</th>\n",
       "      <td>2.65</td>\n",
       "      <td>175</td>\n",
       "      <td>10.515</td>\n",
       "    </tr>\n",
       "    <tr>\n",
       "      <th>1</th>\n",
       "      <td>3.80</td>\n",
       "      <td>63</td>\n",
       "      <td>14.080</td>\n",
       "    </tr>\n",
       "    <tr>\n",
       "      <th>2</th>\n",
       "      <td>0.95</td>\n",
       "      <td>273</td>\n",
       "      <td>5.245</td>\n",
       "    </tr>\n",
       "    <tr>\n",
       "      <th>3</th>\n",
       "      <td>4.50</td>\n",
       "      <td>133</td>\n",
       "      <td>16.250</td>\n",
       "    </tr>\n",
       "    <tr>\n",
       "      <th>4</th>\n",
       "      <td>4.45</td>\n",
       "      <td>106</td>\n",
       "      <td>16.095</td>\n",
       "    </tr>\n",
       "  </tbody>\n",
       "</table>\n",
       "</div>"
      ],
      "text/plain": [
       "   used_years  price  prediction\n",
       "0        2.65    175      10.515\n",
       "1        3.80     63      14.080\n",
       "2        0.95    273       5.245\n",
       "3        4.50    133      16.250\n",
       "4        4.45    106      16.095"
      ]
     },
     "execution_count": 17,
     "metadata": {},
     "output_type": "execute_result"
    }
   ],
   "source": [
    "macbook['prediction'] = prediction\n",
    "macbook.head()"
   ]
  },
  {
   "cell_type": "code",
   "execution_count": 18,
   "id": "2d977fa6",
   "metadata": {},
   "outputs": [
    {
     "data": {
      "text/html": [
       "<div>\n",
       "<style scoped>\n",
       "    .dataframe tbody tr th:only-of-type {\n",
       "        vertical-align: middle;\n",
       "    }\n",
       "\n",
       "    .dataframe tbody tr th {\n",
       "        vertical-align: top;\n",
       "    }\n",
       "\n",
       "    .dataframe thead th {\n",
       "        text-align: right;\n",
       "    }\n",
       "</style>\n",
       "<table border=\"1\" class=\"dataframe\">\n",
       "  <thead>\n",
       "    <tr style=\"text-align: right;\">\n",
       "      <th></th>\n",
       "      <th>used_years</th>\n",
       "      <th>price</th>\n",
       "      <th>prediction</th>\n",
       "      <th>error</th>\n",
       "    </tr>\n",
       "  </thead>\n",
       "  <tbody>\n",
       "    <tr>\n",
       "      <th>0</th>\n",
       "      <td>2.65</td>\n",
       "      <td>175</td>\n",
       "      <td>10.515</td>\n",
       "      <td>164.485</td>\n",
       "    </tr>\n",
       "    <tr>\n",
       "      <th>1</th>\n",
       "      <td>3.80</td>\n",
       "      <td>63</td>\n",
       "      <td>14.080</td>\n",
       "      <td>48.920</td>\n",
       "    </tr>\n",
       "    <tr>\n",
       "      <th>2</th>\n",
       "      <td>0.95</td>\n",
       "      <td>273</td>\n",
       "      <td>5.245</td>\n",
       "      <td>267.755</td>\n",
       "    </tr>\n",
       "    <tr>\n",
       "      <th>3</th>\n",
       "      <td>4.50</td>\n",
       "      <td>133</td>\n",
       "      <td>16.250</td>\n",
       "      <td>116.750</td>\n",
       "    </tr>\n",
       "    <tr>\n",
       "      <th>4</th>\n",
       "      <td>4.45</td>\n",
       "      <td>106</td>\n",
       "      <td>16.095</td>\n",
       "      <td>89.905</td>\n",
       "    </tr>\n",
       "  </tbody>\n",
       "</table>\n",
       "</div>"
      ],
      "text/plain": [
       "   used_years  price  prediction    error\n",
       "0        2.65    175      10.515  164.485\n",
       "1        3.80     63      14.080   48.920\n",
       "2        0.95    273       5.245  267.755\n",
       "3        4.50    133      16.250  116.750\n",
       "4        4.45    106      16.095   89.905"
      ]
     },
     "execution_count": 18,
     "metadata": {},
     "output_type": "execute_result"
    }
   ],
   "source": [
    "macbook['error'] = macbook['price'] - macbook['prediction']\n",
    "macbook.head()"
   ]
  },
  {
   "cell_type": "code",
   "execution_count": 19,
   "id": "30640137",
   "metadata": {},
   "outputs": [
    {
     "name": "stdout",
     "output_type": "stream",
     "text": [
      "슝=3\n"
     ]
    }
   ],
   "source": [
    "def RMSE(a, b):\n",
    "    mse = ((a - b) ** 2).mean()  # 두 값의 차이의 제곱의 평균\n",
    "    rmse = mse ** 0.5        # MSE의 제곱근\n",
    "    return rmse\n",
    "print(\"슝=3\")"
   ]
  },
  {
   "cell_type": "code",
   "execution_count": 20,
   "id": "52dae931",
   "metadata": {},
   "outputs": [
    {
     "name": "stdout",
     "output_type": "stream",
     "text": [
      "[10.515 14.08   5.245 16.25  16.095 10.67  11.755  9.275  9.43   8.035\n",
      "  6.95   5.245 10.36   4.005  8.655  4.625 14.545 10.98   8.655  5.865\n",
      "  6.485 12.685  6.485  9.895  9.74   2.61  12.995  9.585  4.47   5.555\n",
      "  7.725 15.01  16.25  14.7    8.5    9.895 10.05   8.81  11.6   14.855\n",
      " 10.67   8.965 12.53   9.74  11.135  7.415  7.105  8.965 12.84   7.105\n",
      "  4.78  11.445  9.74   6.64   7.415  9.275 14.235 14.39  16.56   9.585\n",
      " 14.855  6.02   8.345  7.26   8.5    7.88  13.925 13.615  9.585  9.12\n",
      "  5.4   15.165  5.71   7.105 11.445  6.95   7.415  5.71  12.375  4.625]\n"
     ]
    }
   ],
   "source": [
    "x = macbook[\"used_years\"].values\n",
    "y = macbook[\"price\"].values\n",
    "\n",
    "predictions = model(x, w, b)\n",
    "print(predictions)"
   ]
  },
  {
   "cell_type": "code",
   "execution_count": 21,
   "id": "a5eef53b",
   "metadata": {},
   "outputs": [
    {
     "data": {
      "text/plain": [
       "188.81322969819274"
      ]
     },
     "execution_count": 21,
     "metadata": {},
     "output_type": "execute_result"
    }
   ],
   "source": [
    "rmse = RMSE(predictions, y)\n",
    "rmse"
   ]
  },
  {
   "cell_type": "code",
   "execution_count": 22,
   "id": "85cbba3a",
   "metadata": {},
   "outputs": [
    {
     "name": "stdout",
     "output_type": "stream",
     "text": [
      "슝=3\n"
     ]
    }
   ],
   "source": [
    "def loss(x, w, b, y):\n",
    "    predictions = model(x, w, b)\n",
    "    L = RMSE(predictions, y)\n",
    "    return L\n",
    "print(\"슝=3\")"
   ]
  },
  {
   "cell_type": "code",
   "execution_count": 24,
   "id": "251f33a1",
   "metadata": {},
   "outputs": [
    {
     "name": "stdout",
     "output_type": "stream",
     "text": [
      "슝=3\n"
     ]
    }
   ],
   "source": [
    "def gradient(x, w, b, y):\n",
    "    dw = (loss(x, w + 0.0001, b, y) - loss(x, w, b, y)) / 0.0001\n",
    "    db = (loss(x, w, b + 0.0001, y) - loss(x, w, b, y)) / 0.0001\n",
    "    return dw, db\n",
    "print(\"슝=3\")"
   ]
  },
  {
   "cell_type": "code",
   "execution_count": 25,
   "id": "9a33b6d1",
   "metadata": {},
   "outputs": [
    {
     "name": "stdout",
     "output_type": "stream",
     "text": [
      "슝=3\n"
     ]
    }
   ],
   "source": [
    "LEARNING_RATE = 1\n",
    "print(\"슝=3\")"
   ]
  },
  {
   "cell_type": "code",
   "execution_count": null,
   "id": "2ae783ee",
   "metadata": {},
   "outputs": [],
   "source": [
    "# 입력 데이터 x와 정답 데이터 y 준비\n",
    "# 초기 w, b를 랜덤하게 선택\n",
    "# 현재의 w와 b로 모델이 prediction을 예측하고, 그 값과 y 값을 비교해서 손실함수값 계산\n",
    "# 손실함수값을 계산함과 동시에 그 점에서의 기울기, gradient 계산\n",
    "# 계산된 gradient를 활용해서 w'=w-\\eta gw \n",
    "# ′\n",
    "#  =w−ηg , b'=b-\\eta gb \n",
    "# ′\n",
    "#  =b−ηg 로 업데이트\n",
    "# 3~5 번의 과정을 손실함수가 충분히 줄어들 때까지 반복"
   ]
  },
  {
   "cell_type": "code",
   "execution_count": 26,
   "id": "c9b0338f",
   "metadata": {},
   "outputs": [
    {
     "name": "stdout",
     "output_type": "stream",
     "text": [
      "슝=3\n"
     ]
    }
   ],
   "source": [
    "x = macbook[\"used_years\"].values\n",
    "y = macbook[\"price\"].values\n",
    "print(\"슝=3\")"
   ]
  },
  {
   "cell_type": "code",
   "execution_count": 27,
   "id": "271d9529",
   "metadata": {},
   "outputs": [
    {
     "data": {
      "text/plain": [
       "(3.1, 2.3)"
      ]
     },
     "execution_count": 27,
     "metadata": {},
     "output_type": "execute_result"
    }
   ],
   "source": [
    "w = 3.1\n",
    "b = 2.3\n",
    "w, b"
   ]
  },
  {
   "cell_type": "code",
   "execution_count": 28,
   "id": "7be03737",
   "metadata": {},
   "outputs": [
    {
     "name": "stdout",
     "output_type": "stream",
     "text": [
      "슝=3\n"
     ]
    }
   ],
   "source": [
    "losses = []\n",
    "print(\"슝=3\")"
   ]
  },
  {
   "cell_type": "code",
   "execution_count": 29,
   "id": "188212de",
   "metadata": {},
   "outputs": [
    {
     "name": "stdout",
     "output_type": "stream",
     "text": [
      "Iteration 100 : Loss 108.0080\n",
      "Iteration 200 : Loss 94.5709\n",
      "Iteration 300 : Loss 81.8560\n",
      "Iteration 400 : Loss 70.1799\n",
      "Iteration 500 : Loss 59.9778\n",
      "Iteration 600 : Loss 51.7475\n",
      "Iteration 700 : Loss 45.8356\n",
      "Iteration 800 : Loss 42.1474\n",
      "Iteration 900 : Loss 40.1357\n",
      "Iteration 1000 : Loss 39.1420\n",
      "Iteration 1100 : Loss 38.6793\n",
      "Iteration 1200 : Loss 38.4703\n",
      "Iteration 1300 : Loss 38.3772\n",
      "Iteration 1400 : Loss 38.3360\n",
      "Iteration 1500 : Loss 38.3179\n",
      "Iteration 1600 : Loss 38.3099\n",
      "Iteration 1700 : Loss 38.3064\n",
      "Iteration 1800 : Loss 38.3048\n",
      "Iteration 1900 : Loss 38.3041\n",
      "Iteration 2000 : Loss 38.3038\n"
     ]
    }
   ],
   "source": [
    "for i in range(1, 2001):\n",
    "    dw, db = gradient(x, w, b, y)   # 3, 4번: 모델이 prediction을 예측하고, 손실함수값을 계산함과 동시에 기울기 계산\n",
    "    w -= LEARNING_RATE * dw         # 5번: w = w - η * dw 로 업데이트\n",
    "    b -= LEARNING_RATE * db         # 5번: b = b - η * db 로 업데이트 \n",
    "    L = loss(x, w, b, y)            # 현재의 loss 값 계산\n",
    "    losses.append(L)                # loss 값 기록\n",
    "    if i % 100 == 0:\n",
    "        print('Iteration %d : Loss %0.4f' % (i, L))"
   ]
  },
  {
   "cell_type": "code",
   "execution_count": 33,
   "id": "029455e1",
   "metadata": {},
   "outputs": [
    {
     "data": {
      "image/png": "[encoded data removed]",
      "text/plain": [
       "<Figure size 432x288 with 1 Axes>"
      ]
     },
     "metadata": {
      "image/png": {
       "height": 248,
       "width": 375
      },
      "needs_background": "light"
     },
     "output_type": "display_data"
    }
   ],
   "source": [
    "plt.plot(losses)\n",
    "plt.show()"
   ]
  },
  {
   "cell_type": "code",
   "execution_count": 34,
   "id": "b248ccef",
   "metadata": {},
   "outputs": [
    {
     "data": {
      "image/png": "[encoded data removed]",
      "text/plain": [
       "<Figure size 432x288 with 1 Axes>"
      ]
     },
     "metadata": {
      "image/png": {
       "height": 248,
       "width": 375
      },
      "needs_background": "light"
     },
     "output_type": "display_data"
    }
   ],
   "source": [
    "# 모델에 넣을 x 값들 준비\n",
    "x = np.linspace(0, 5, 6)\n",
    "\n",
    "# x, w, b를 모델에 넣어 y값 출력\n",
    "y = model(x, w, b)\n",
    "\n",
    "# 일차함수 y 그리기\n",
    "plt.plot(y, c=\"r\")\n",
    "\n",
    "\n",
    "# 원본 데이터 점찍기\n",
    "plt.scatter(macbook['used_years'], macbook['price'])\n",
    "plt.show()"
   ]
  },
  {
   "cell_type": "code",
   "execution_count": 35,
   "id": "c5c018bc",
   "metadata": {},
   "outputs": [
    {
     "name": "stdout",
     "output_type": "stream",
     "text": [
      "(20, 2)\n"
     ]
    },
    {
     "data": {
      "text/html": [
       "<div>\n",
       "<style scoped>\n",
       "    .dataframe tbody tr th:only-of-type {\n",
       "        vertical-align: middle;\n",
       "    }\n",
       "\n",
       "    .dataframe tbody tr th {\n",
       "        vertical-align: top;\n",
       "    }\n",
       "\n",
       "    .dataframe thead th {\n",
       "        text-align: right;\n",
       "    }\n",
       "</style>\n",
       "<table border=\"1\" class=\"dataframe\">\n",
       "  <thead>\n",
       "    <tr style=\"text-align: right;\">\n",
       "      <th></th>\n",
       "      <th>used_years</th>\n",
       "      <th>price</th>\n",
       "    </tr>\n",
       "  </thead>\n",
       "  <tbody>\n",
       "    <tr>\n",
       "      <th>0</th>\n",
       "      <td>1.20</td>\n",
       "      <td>203</td>\n",
       "    </tr>\n",
       "    <tr>\n",
       "      <th>1</th>\n",
       "      <td>1.85</td>\n",
       "      <td>206</td>\n",
       "    </tr>\n",
       "    <tr>\n",
       "      <th>2</th>\n",
       "      <td>2.40</td>\n",
       "      <td>191</td>\n",
       "    </tr>\n",
       "    <tr>\n",
       "      <th>3</th>\n",
       "      <td>2.85</td>\n",
       "      <td>164</td>\n",
       "    </tr>\n",
       "    <tr>\n",
       "      <th>4</th>\n",
       "      <td>3.05</td>\n",
       "      <td>176</td>\n",
       "    </tr>\n",
       "  </tbody>\n",
       "</table>\n",
       "</div>"
      ],
      "text/plain": [
       "   used_years  price\n",
       "0        1.20    203\n",
       "1        1.85    206\n",
       "2        2.40    191\n",
       "3        2.85    164\n",
       "4        3.05    176"
      ]
     },
     "execution_count": 35,
     "metadata": {},
     "output_type": "execute_result"
    }
   ],
   "source": [
    "test = pd.read_csv(\"~/aiffel/bike_regression/data/macbook_test.csv\")\n",
    "print(test.shape)\n",
    "test.head()"
   ]
  },
  {
   "cell_type": "code",
   "execution_count": 36,
   "id": "a835b6bb",
   "metadata": {},
   "outputs": [],
   "source": [
    "test_x = test['used_years'].values\n",
    "test_y = test['price'].values"
   ]
  },
  {
   "cell_type": "code",
   "execution_count": 37,
   "id": "e43067cc",
   "metadata": {},
   "outputs": [
    {
     "data": {
      "text/html": [
       "<div>\n",
       "<style scoped>\n",
       "    .dataframe tbody tr th:only-of-type {\n",
       "        vertical-align: middle;\n",
       "    }\n",
       "\n",
       "    .dataframe tbody tr th {\n",
       "        vertical-align: top;\n",
       "    }\n",
       "\n",
       "    .dataframe thead th {\n",
       "        text-align: right;\n",
       "    }\n",
       "</style>\n",
       "<table border=\"1\" class=\"dataframe\">\n",
       "  <thead>\n",
       "    <tr style=\"text-align: right;\">\n",
       "      <th></th>\n",
       "      <th>used_years</th>\n",
       "      <th>price</th>\n",
       "      <th>prediction</th>\n",
       "    </tr>\n",
       "  </thead>\n",
       "  <tbody>\n",
       "    <tr>\n",
       "      <th>0</th>\n",
       "      <td>1.20</td>\n",
       "      <td>203</td>\n",
       "      <td>239.168506</td>\n",
       "    </tr>\n",
       "    <tr>\n",
       "      <th>1</th>\n",
       "      <td>1.85</td>\n",
       "      <td>206</td>\n",
       "      <td>209.965591</td>\n",
       "    </tr>\n",
       "    <tr>\n",
       "      <th>2</th>\n",
       "      <td>2.40</td>\n",
       "      <td>191</td>\n",
       "      <td>185.255432</td>\n",
       "    </tr>\n",
       "    <tr>\n",
       "      <th>3</th>\n",
       "      <td>2.85</td>\n",
       "      <td>164</td>\n",
       "      <td>165.038030</td>\n",
       "    </tr>\n",
       "    <tr>\n",
       "      <th>4</th>\n",
       "      <td>3.05</td>\n",
       "      <td>176</td>\n",
       "      <td>156.052518</td>\n",
       "    </tr>\n",
       "    <tr>\n",
       "      <th>5</th>\n",
       "      <td>3.35</td>\n",
       "      <td>136</td>\n",
       "      <td>142.574250</td>\n",
       "    </tr>\n",
       "    <tr>\n",
       "      <th>6</th>\n",
       "      <td>2.55</td>\n",
       "      <td>133</td>\n",
       "      <td>178.516298</td>\n",
       "    </tr>\n",
       "    <tr>\n",
       "      <th>7</th>\n",
       "      <td>2.60</td>\n",
       "      <td>181</td>\n",
       "      <td>176.269920</td>\n",
       "    </tr>\n",
       "    <tr>\n",
       "      <th>8</th>\n",
       "      <td>2.50</td>\n",
       "      <td>181</td>\n",
       "      <td>180.762676</td>\n",
       "    </tr>\n",
       "    <tr>\n",
       "      <th>9</th>\n",
       "      <td>3.10</td>\n",
       "      <td>86</td>\n",
       "      <td>153.806140</td>\n",
       "    </tr>\n",
       "    <tr>\n",
       "      <th>10</th>\n",
       "      <td>2.70</td>\n",
       "      <td>171</td>\n",
       "      <td>171.777164</td>\n",
       "    </tr>\n",
       "    <tr>\n",
       "      <th>11</th>\n",
       "      <td>3.40</td>\n",
       "      <td>253</td>\n",
       "      <td>140.327872</td>\n",
       "    </tr>\n",
       "    <tr>\n",
       "      <th>12</th>\n",
       "      <td>1.30</td>\n",
       "      <td>263</td>\n",
       "      <td>234.675749</td>\n",
       "    </tr>\n",
       "    <tr>\n",
       "      <th>13</th>\n",
       "      <td>1.80</td>\n",
       "      <td>129</td>\n",
       "      <td>212.211969</td>\n",
       "    </tr>\n",
       "    <tr>\n",
       "      <th>14</th>\n",
       "      <td>3.10</td>\n",
       "      <td>135</td>\n",
       "      <td>153.806140</td>\n",
       "    </tr>\n",
       "    <tr>\n",
       "      <th>15</th>\n",
       "      <td>1.55</td>\n",
       "      <td>236</td>\n",
       "      <td>223.443859</td>\n",
       "    </tr>\n",
       "    <tr>\n",
       "      <th>16</th>\n",
       "      <td>1.80</td>\n",
       "      <td>206</td>\n",
       "      <td>212.211969</td>\n",
       "    </tr>\n",
       "    <tr>\n",
       "      <th>17</th>\n",
       "      <td>3.55</td>\n",
       "      <td>203</td>\n",
       "      <td>133.588737</td>\n",
       "    </tr>\n",
       "    <tr>\n",
       "      <th>18</th>\n",
       "      <td>3.40</td>\n",
       "      <td>96</td>\n",
       "      <td>140.327872</td>\n",
       "    </tr>\n",
       "    <tr>\n",
       "      <th>19</th>\n",
       "      <td>2.50</td>\n",
       "      <td>115</td>\n",
       "      <td>180.762676</td>\n",
       "    </tr>\n",
       "  </tbody>\n",
       "</table>\n",
       "</div>"
      ],
      "text/plain": [
       "    used_years  price  prediction\n",
       "0         1.20    203  239.168506\n",
       "1         1.85    206  209.965591\n",
       "2         2.40    191  185.255432\n",
       "3         2.85    164  165.038030\n",
       "4         3.05    176  156.052518\n",
       "5         3.35    136  142.574250\n",
       "6         2.55    133  178.516298\n",
       "7         2.60    181  176.269920\n",
       "8         2.50    181  180.762676\n",
       "9         3.10     86  153.806140\n",
       "10        2.70    171  171.777164\n",
       "11        3.40    253  140.327872\n",
       "12        1.30    263  234.675749\n",
       "13        1.80    129  212.211969\n",
       "14        3.10    135  153.806140\n",
       "15        1.55    236  223.443859\n",
       "16        1.80    206  212.211969\n",
       "17        3.55    203  133.588737\n",
       "18        3.40     96  140.327872\n",
       "19        2.50    115  180.762676"
      ]
     },
     "execution_count": 37,
     "metadata": {},
     "output_type": "execute_result"
    }
   ],
   "source": [
    "prediction = model(test_x, w, b)\n",
    "test['prediction'] = prediction\n",
    "test"
   ]
  },
  {
   "cell_type": "code",
   "execution_count": 38,
   "id": "17cccd62",
   "metadata": {},
   "outputs": [
    {
     "data": {
      "text/html": [
       "<div>\n",
       "<style scoped>\n",
       "    .dataframe tbody tr th:only-of-type {\n",
       "        vertical-align: middle;\n",
       "    }\n",
       "\n",
       "    .dataframe tbody tr th {\n",
       "        vertical-align: top;\n",
       "    }\n",
       "\n",
       "    .dataframe thead th {\n",
       "        text-align: right;\n",
       "    }\n",
       "</style>\n",
       "<table border=\"1\" class=\"dataframe\">\n",
       "  <thead>\n",
       "    <tr style=\"text-align: right;\">\n",
       "      <th></th>\n",
       "      <th>used_years</th>\n",
       "      <th>price</th>\n",
       "      <th>prediction</th>\n",
       "      <th>error</th>\n",
       "    </tr>\n",
       "  </thead>\n",
       "  <tbody>\n",
       "    <tr>\n",
       "      <th>0</th>\n",
       "      <td>1.20</td>\n",
       "      <td>203</td>\n",
       "      <td>239.168506</td>\n",
       "      <td>-36.168506</td>\n",
       "    </tr>\n",
       "    <tr>\n",
       "      <th>1</th>\n",
       "      <td>1.85</td>\n",
       "      <td>206</td>\n",
       "      <td>209.965591</td>\n",
       "      <td>-3.965591</td>\n",
       "    </tr>\n",
       "    <tr>\n",
       "      <th>2</th>\n",
       "      <td>2.40</td>\n",
       "      <td>191</td>\n",
       "      <td>185.255432</td>\n",
       "      <td>5.744568</td>\n",
       "    </tr>\n",
       "    <tr>\n",
       "      <th>3</th>\n",
       "      <td>2.85</td>\n",
       "      <td>164</td>\n",
       "      <td>165.038030</td>\n",
       "      <td>-1.038030</td>\n",
       "    </tr>\n",
       "    <tr>\n",
       "      <th>4</th>\n",
       "      <td>3.05</td>\n",
       "      <td>176</td>\n",
       "      <td>156.052518</td>\n",
       "      <td>19.947482</td>\n",
       "    </tr>\n",
       "    <tr>\n",
       "      <th>5</th>\n",
       "      <td>3.35</td>\n",
       "      <td>136</td>\n",
       "      <td>142.574250</td>\n",
       "      <td>-6.574250</td>\n",
       "    </tr>\n",
       "    <tr>\n",
       "      <th>6</th>\n",
       "      <td>2.55</td>\n",
       "      <td>133</td>\n",
       "      <td>178.516298</td>\n",
       "      <td>-45.516298</td>\n",
       "    </tr>\n",
       "    <tr>\n",
       "      <th>7</th>\n",
       "      <td>2.60</td>\n",
       "      <td>181</td>\n",
       "      <td>176.269920</td>\n",
       "      <td>4.730080</td>\n",
       "    </tr>\n",
       "    <tr>\n",
       "      <th>8</th>\n",
       "      <td>2.50</td>\n",
       "      <td>181</td>\n",
       "      <td>180.762676</td>\n",
       "      <td>0.237324</td>\n",
       "    </tr>\n",
       "    <tr>\n",
       "      <th>9</th>\n",
       "      <td>3.10</td>\n",
       "      <td>86</td>\n",
       "      <td>153.806140</td>\n",
       "      <td>-67.806140</td>\n",
       "    </tr>\n",
       "    <tr>\n",
       "      <th>10</th>\n",
       "      <td>2.70</td>\n",
       "      <td>171</td>\n",
       "      <td>171.777164</td>\n",
       "      <td>-0.777164</td>\n",
       "    </tr>\n",
       "    <tr>\n",
       "      <th>11</th>\n",
       "      <td>3.40</td>\n",
       "      <td>253</td>\n",
       "      <td>140.327872</td>\n",
       "      <td>112.672128</td>\n",
       "    </tr>\n",
       "    <tr>\n",
       "      <th>12</th>\n",
       "      <td>1.30</td>\n",
       "      <td>263</td>\n",
       "      <td>234.675749</td>\n",
       "      <td>28.324251</td>\n",
       "    </tr>\n",
       "    <tr>\n",
       "      <th>13</th>\n",
       "      <td>1.80</td>\n",
       "      <td>129</td>\n",
       "      <td>212.211969</td>\n",
       "      <td>-83.211969</td>\n",
       "    </tr>\n",
       "    <tr>\n",
       "      <th>14</th>\n",
       "      <td>3.10</td>\n",
       "      <td>135</td>\n",
       "      <td>153.806140</td>\n",
       "      <td>-18.806140</td>\n",
       "    </tr>\n",
       "    <tr>\n",
       "      <th>15</th>\n",
       "      <td>1.55</td>\n",
       "      <td>236</td>\n",
       "      <td>223.443859</td>\n",
       "      <td>12.556141</td>\n",
       "    </tr>\n",
       "    <tr>\n",
       "      <th>16</th>\n",
       "      <td>1.80</td>\n",
       "      <td>206</td>\n",
       "      <td>212.211969</td>\n",
       "      <td>-6.211969</td>\n",
       "    </tr>\n",
       "    <tr>\n",
       "      <th>17</th>\n",
       "      <td>3.55</td>\n",
       "      <td>203</td>\n",
       "      <td>133.588737</td>\n",
       "      <td>69.411263</td>\n",
       "    </tr>\n",
       "    <tr>\n",
       "      <th>18</th>\n",
       "      <td>3.40</td>\n",
       "      <td>96</td>\n",
       "      <td>140.327872</td>\n",
       "      <td>-44.327872</td>\n",
       "    </tr>\n",
       "    <tr>\n",
       "      <th>19</th>\n",
       "      <td>2.50</td>\n",
       "      <td>115</td>\n",
       "      <td>180.762676</td>\n",
       "      <td>-65.762676</td>\n",
       "    </tr>\n",
       "  </tbody>\n",
       "</table>\n",
       "</div>"
      ],
      "text/plain": [
       "    used_years  price  prediction       error\n",
       "0         1.20    203  239.168506  -36.168506\n",
       "1         1.85    206  209.965591   -3.965591\n",
       "2         2.40    191  185.255432    5.744568\n",
       "3         2.85    164  165.038030   -1.038030\n",
       "4         3.05    176  156.052518   19.947482\n",
       "5         3.35    136  142.574250   -6.574250\n",
       "6         2.55    133  178.516298  -45.516298\n",
       "7         2.60    181  176.269920    4.730080\n",
       "8         2.50    181  180.762676    0.237324\n",
       "9         3.10     86  153.806140  -67.806140\n",
       "10        2.70    171  171.777164   -0.777164\n",
       "11        3.40    253  140.327872  112.672128\n",
       "12        1.30    263  234.675749   28.324251\n",
       "13        1.80    129  212.211969  -83.211969\n",
       "14        3.10    135  153.806140  -18.806140\n",
       "15        1.55    236  223.443859   12.556141\n",
       "16        1.80    206  212.211969   -6.211969\n",
       "17        3.55    203  133.588737   69.411263\n",
       "18        3.40     96  140.327872  -44.327872\n",
       "19        2.50    115  180.762676  -65.762676"
      ]
     },
     "execution_count": 38,
     "metadata": {},
     "output_type": "execute_result"
    }
   ],
   "source": [
    "test['error'] = test['price'] - test['prediction']\n",
    "test"
   ]
  },
  {
   "cell_type": "code",
   "execution_count": 39,
   "id": "d8c9734d",
   "metadata": {},
   "outputs": [
    {
     "data": {
      "text/plain": [
       "45.03918284717212"
      ]
     },
     "execution_count": 39,
     "metadata": {},
     "output_type": "execute_result"
    }
   ],
   "source": [
    "rmse = ((test['error'] ** 2).sum() / len(test)) ** 0.5\n",
    "rmse"
   ]
  },
  {
   "cell_type": "code",
   "execution_count": 40,
   "id": "edbd53a7",
   "metadata": {},
   "outputs": [
    {
     "data": {
      "image/png": "[encoded data removed]",
      "text/plain": [
       "<Figure size 432x288 with 1 Axes>"
      ]
     },
     "metadata": {
      "image/png": {
       "height": 248,
       "width": 375
      },
      "needs_background": "light"
     },
     "output_type": "display_data"
    }
   ],
   "source": [
    "# 모델 일차함수 그리기\n",
    "x = np.linspace(0, 5, 6)\n",
    "y = model(x, w, b)\n",
    "plt.plot(y, c=\"r\")\n",
    "\n",
    "# 실제 데이터 값\n",
    "plt.scatter(test['used_years'], test['price'])\n",
    "\n",
    "# 모델이 예측한 값\n",
    "plt.scatter(test['used_years'], test['prediction'])\n",
    "plt.show()"
   ]
  },
  {
   "cell_type": "code",
   "execution_count": 41,
   "id": "ec61033e",
   "metadata": {},
   "outputs": [
    {
     "data": {
      "text/plain": [
       "['anagrams',\n",
       " 'anscombe',\n",
       " 'attention',\n",
       " 'brain_networks',\n",
       " 'car_crashes',\n",
       " 'diamonds',\n",
       " 'dots',\n",
       " 'dowjones',\n",
       " 'exercise',\n",
       " 'flights',\n",
       " 'fmri',\n",
       " 'geyser',\n",
       " 'glue',\n",
       " 'healthexp',\n",
       " 'iris',\n",
       " 'mpg',\n",
       " 'penguins',\n",
       " 'planets',\n",
       " 'seaice',\n",
       " 'taxis',\n",
       " 'tips',\n",
       " 'titanic']"
      ]
     },
     "execution_count": 41,
     "metadata": {},
     "output_type": "execute_result"
    }
   ],
   "source": [
    "import seaborn as sns\n",
    "\n",
    "sns.get_dataset_names()"
   ]
  },
  {
   "cell_type": "code",
   "execution_count": 42,
   "id": "7b274f2d",
   "metadata": {},
   "outputs": [
    {
     "name": "stdout",
     "output_type": "stream",
     "text": [
      "(244, 7)\n"
     ]
    },
    {
     "data": {
      "text/html": [
       "<div>\n",
       "<style scoped>\n",
       "    .dataframe tbody tr th:only-of-type {\n",
       "        vertical-align: middle;\n",
       "    }\n",
       "\n",
       "    .dataframe tbody tr th {\n",
       "        vertical-align: top;\n",
       "    }\n",
       "\n",
       "    .dataframe thead th {\n",
       "        text-align: right;\n",
       "    }\n",
       "</style>\n",
       "<table border=\"1\" class=\"dataframe\">\n",
       "  <thead>\n",
       "    <tr style=\"text-align: right;\">\n",
       "      <th></th>\n",
       "      <th>total_bill</th>\n",
       "      <th>tip</th>\n",
       "      <th>sex</th>\n",
       "      <th>smoker</th>\n",
       "      <th>day</th>\n",
       "      <th>time</th>\n",
       "      <th>size</th>\n",
       "    </tr>\n",
       "  </thead>\n",
       "  <tbody>\n",
       "    <tr>\n",
       "      <th>0</th>\n",
       "      <td>16.99</td>\n",
       "      <td>1.01</td>\n",
       "      <td>Female</td>\n",
       "      <td>No</td>\n",
       "      <td>Sun</td>\n",
       "      <td>Dinner</td>\n",
       "      <td>2</td>\n",
       "    </tr>\n",
       "    <tr>\n",
       "      <th>1</th>\n",
       "      <td>10.34</td>\n",
       "      <td>1.66</td>\n",
       "      <td>Male</td>\n",
       "      <td>No</td>\n",
       "      <td>Sun</td>\n",
       "      <td>Dinner</td>\n",
       "      <td>3</td>\n",
       "    </tr>\n",
       "    <tr>\n",
       "      <th>2</th>\n",
       "      <td>21.01</td>\n",
       "      <td>3.50</td>\n",
       "      <td>Male</td>\n",
       "      <td>No</td>\n",
       "      <td>Sun</td>\n",
       "      <td>Dinner</td>\n",
       "      <td>3</td>\n",
       "    </tr>\n",
       "    <tr>\n",
       "      <th>3</th>\n",
       "      <td>23.68</td>\n",
       "      <td>3.31</td>\n",
       "      <td>Male</td>\n",
       "      <td>No</td>\n",
       "      <td>Sun</td>\n",
       "      <td>Dinner</td>\n",
       "      <td>2</td>\n",
       "    </tr>\n",
       "    <tr>\n",
       "      <th>4</th>\n",
       "      <td>24.59</td>\n",
       "      <td>3.61</td>\n",
       "      <td>Female</td>\n",
       "      <td>No</td>\n",
       "      <td>Sun</td>\n",
       "      <td>Dinner</td>\n",
       "      <td>4</td>\n",
       "    </tr>\n",
       "  </tbody>\n",
       "</table>\n",
       "</div>"
      ],
      "text/plain": [
       "   total_bill   tip     sex smoker  day    time  size\n",
       "0       16.99  1.01  Female     No  Sun  Dinner     2\n",
       "1       10.34  1.66    Male     No  Sun  Dinner     3\n",
       "2       21.01  3.50    Male     No  Sun  Dinner     3\n",
       "3       23.68  3.31    Male     No  Sun  Dinner     2\n",
       "4       24.59  3.61  Female     No  Sun  Dinner     4"
      ]
     },
     "execution_count": 42,
     "metadata": {},
     "output_type": "execute_result"
    }
   ],
   "source": [
    "tips = sns.load_dataset(\"tips\")\n",
    "print(tips.shape)\n",
    "tips.head()"
   ]
  },
  {
   "cell_type": "code",
   "execution_count": 43,
   "id": "48376adf",
   "metadata": {},
   "outputs": [
    {
     "data": {
      "text/html": [
       "<div>\n",
       "<style scoped>\n",
       "    .dataframe tbody tr th:only-of-type {\n",
       "        vertical-align: middle;\n",
       "    }\n",
       "\n",
       "    .dataframe tbody tr th {\n",
       "        vertical-align: top;\n",
       "    }\n",
       "\n",
       "    .dataframe thead th {\n",
       "        text-align: right;\n",
       "    }\n",
       "</style>\n",
       "<table border=\"1\" class=\"dataframe\">\n",
       "  <thead>\n",
       "    <tr style=\"text-align: right;\">\n",
       "      <th></th>\n",
       "      <th>total_bill</th>\n",
       "      <th>tip</th>\n",
       "      <th>size</th>\n",
       "      <th>sex_Male</th>\n",
       "      <th>sex_Female</th>\n",
       "      <th>smoker_Yes</th>\n",
       "      <th>smoker_No</th>\n",
       "      <th>day_Thur</th>\n",
       "      <th>day_Fri</th>\n",
       "      <th>day_Sat</th>\n",
       "      <th>day_Sun</th>\n",
       "      <th>time_Lunch</th>\n",
       "      <th>time_Dinner</th>\n",
       "    </tr>\n",
       "  </thead>\n",
       "  <tbody>\n",
       "    <tr>\n",
       "      <th>0</th>\n",
       "      <td>16.99</td>\n",
       "      <td>1.01</td>\n",
       "      <td>2</td>\n",
       "      <td>0</td>\n",
       "      <td>1</td>\n",
       "      <td>0</td>\n",
       "      <td>1</td>\n",
       "      <td>0</td>\n",
       "      <td>0</td>\n",
       "      <td>0</td>\n",
       "      <td>1</td>\n",
       "      <td>0</td>\n",
       "      <td>1</td>\n",
       "    </tr>\n",
       "    <tr>\n",
       "      <th>1</th>\n",
       "      <td>10.34</td>\n",
       "      <td>1.66</td>\n",
       "      <td>3</td>\n",
       "      <td>1</td>\n",
       "      <td>0</td>\n",
       "      <td>0</td>\n",
       "      <td>1</td>\n",
       "      <td>0</td>\n",
       "      <td>0</td>\n",
       "      <td>0</td>\n",
       "      <td>1</td>\n",
       "      <td>0</td>\n",
       "      <td>1</td>\n",
       "    </tr>\n",
       "    <tr>\n",
       "      <th>2</th>\n",
       "      <td>21.01</td>\n",
       "      <td>3.50</td>\n",
       "      <td>3</td>\n",
       "      <td>1</td>\n",
       "      <td>0</td>\n",
       "      <td>0</td>\n",
       "      <td>1</td>\n",
       "      <td>0</td>\n",
       "      <td>0</td>\n",
       "      <td>0</td>\n",
       "      <td>1</td>\n",
       "      <td>0</td>\n",
       "      <td>1</td>\n",
       "    </tr>\n",
       "    <tr>\n",
       "      <th>3</th>\n",
       "      <td>23.68</td>\n",
       "      <td>3.31</td>\n",
       "      <td>2</td>\n",
       "      <td>1</td>\n",
       "      <td>0</td>\n",
       "      <td>0</td>\n",
       "      <td>1</td>\n",
       "      <td>0</td>\n",
       "      <td>0</td>\n",
       "      <td>0</td>\n",
       "      <td>1</td>\n",
       "      <td>0</td>\n",
       "      <td>1</td>\n",
       "    </tr>\n",
       "    <tr>\n",
       "      <th>4</th>\n",
       "      <td>24.59</td>\n",
       "      <td>3.61</td>\n",
       "      <td>4</td>\n",
       "      <td>0</td>\n",
       "      <td>1</td>\n",
       "      <td>0</td>\n",
       "      <td>1</td>\n",
       "      <td>0</td>\n",
       "      <td>0</td>\n",
       "      <td>0</td>\n",
       "      <td>1</td>\n",
       "      <td>0</td>\n",
       "      <td>1</td>\n",
       "    </tr>\n",
       "  </tbody>\n",
       "</table>\n",
       "</div>"
      ],
      "text/plain": [
       "   total_bill   tip  size  sex_Male  sex_Female  smoker_Yes  smoker_No  \\\n",
       "0       16.99  1.01     2         0           1           0          1   \n",
       "1       10.34  1.66     3         1           0           0          1   \n",
       "2       21.01  3.50     3         1           0           0          1   \n",
       "3       23.68  3.31     2         1           0           0          1   \n",
       "4       24.59  3.61     4         0           1           0          1   \n",
       "\n",
       "   day_Thur  day_Fri  day_Sat  day_Sun  time_Lunch  time_Dinner  \n",
       "0         0        0        0        1           0            1  \n",
       "1         0        0        0        1           0            1  \n",
       "2         0        0        0        1           0            1  \n",
       "3         0        0        0        1           0            1  \n",
       "4         0        0        0        1           0            1  "
      ]
     },
     "execution_count": 43,
     "metadata": {},
     "output_type": "execute_result"
    }
   ],
   "source": [
    "import pandas as pd\n",
    "tips = pd.get_dummies(tips, columns=['sex', 'smoker', 'day', 'time'])\n",
    "tips.head()"
   ]
  },
  {
   "cell_type": "code",
   "execution_count": 44,
   "id": "9455d38e",
   "metadata": {},
   "outputs": [
    {
     "data": {
      "text/html": [
       "<div>\n",
       "<style scoped>\n",
       "    .dataframe tbody tr th:only-of-type {\n",
       "        vertical-align: middle;\n",
       "    }\n",
       "\n",
       "    .dataframe tbody tr th {\n",
       "        vertical-align: top;\n",
       "    }\n",
       "\n",
       "    .dataframe thead th {\n",
       "        text-align: right;\n",
       "    }\n",
       "</style>\n",
       "<table border=\"1\" class=\"dataframe\">\n",
       "  <thead>\n",
       "    <tr style=\"text-align: right;\">\n",
       "      <th></th>\n",
       "      <th>total_bill</th>\n",
       "      <th>size</th>\n",
       "      <th>sex_Male</th>\n",
       "      <th>sex_Female</th>\n",
       "      <th>smoker_Yes</th>\n",
       "      <th>smoker_No</th>\n",
       "      <th>day_Thur</th>\n",
       "      <th>day_Fri</th>\n",
       "      <th>day_Sat</th>\n",
       "      <th>day_Sun</th>\n",
       "      <th>time_Lunch</th>\n",
       "      <th>time_Dinner</th>\n",
       "      <th>tip</th>\n",
       "    </tr>\n",
       "  </thead>\n",
       "  <tbody>\n",
       "    <tr>\n",
       "      <th>0</th>\n",
       "      <td>16.99</td>\n",
       "      <td>2</td>\n",
       "      <td>0</td>\n",
       "      <td>1</td>\n",
       "      <td>0</td>\n",
       "      <td>1</td>\n",
       "      <td>0</td>\n",
       "      <td>0</td>\n",
       "      <td>0</td>\n",
       "      <td>1</td>\n",
       "      <td>0</td>\n",
       "      <td>1</td>\n",
       "      <td>1.01</td>\n",
       "    </tr>\n",
       "    <tr>\n",
       "      <th>1</th>\n",
       "      <td>10.34</td>\n",
       "      <td>3</td>\n",
       "      <td>1</td>\n",
       "      <td>0</td>\n",
       "      <td>0</td>\n",
       "      <td>1</td>\n",
       "      <td>0</td>\n",
       "      <td>0</td>\n",
       "      <td>0</td>\n",
       "      <td>1</td>\n",
       "      <td>0</td>\n",
       "      <td>1</td>\n",
       "      <td>1.66</td>\n",
       "    </tr>\n",
       "    <tr>\n",
       "      <th>2</th>\n",
       "      <td>21.01</td>\n",
       "      <td>3</td>\n",
       "      <td>1</td>\n",
       "      <td>0</td>\n",
       "      <td>0</td>\n",
       "      <td>1</td>\n",
       "      <td>0</td>\n",
       "      <td>0</td>\n",
       "      <td>0</td>\n",
       "      <td>1</td>\n",
       "      <td>0</td>\n",
       "      <td>1</td>\n",
       "      <td>3.50</td>\n",
       "    </tr>\n",
       "    <tr>\n",
       "      <th>3</th>\n",
       "      <td>23.68</td>\n",
       "      <td>2</td>\n",
       "      <td>1</td>\n",
       "      <td>0</td>\n",
       "      <td>0</td>\n",
       "      <td>1</td>\n",
       "      <td>0</td>\n",
       "      <td>0</td>\n",
       "      <td>0</td>\n",
       "      <td>1</td>\n",
       "      <td>0</td>\n",
       "      <td>1</td>\n",
       "      <td>3.31</td>\n",
       "    </tr>\n",
       "    <tr>\n",
       "      <th>4</th>\n",
       "      <td>24.59</td>\n",
       "      <td>4</td>\n",
       "      <td>0</td>\n",
       "      <td>1</td>\n",
       "      <td>0</td>\n",
       "      <td>1</td>\n",
       "      <td>0</td>\n",
       "      <td>0</td>\n",
       "      <td>0</td>\n",
       "      <td>1</td>\n",
       "      <td>0</td>\n",
       "      <td>1</td>\n",
       "      <td>3.61</td>\n",
       "    </tr>\n",
       "  </tbody>\n",
       "</table>\n",
       "</div>"
      ],
      "text/plain": [
       "   total_bill  size  sex_Male  sex_Female  smoker_Yes  smoker_No  day_Thur  \\\n",
       "0       16.99     2         0           1           0          1         0   \n",
       "1       10.34     3         1           0           0          1         0   \n",
       "2       21.01     3         1           0           0          1         0   \n",
       "3       23.68     2         1           0           0          1         0   \n",
       "4       24.59     4         0           1           0          1         0   \n",
       "\n",
       "   day_Fri  day_Sat  day_Sun  time_Lunch  time_Dinner   tip  \n",
       "0        0        0        1           0            1  1.01  \n",
       "1        0        0        1           0            1  1.66  \n",
       "2        0        0        1           0            1  3.50  \n",
       "3        0        0        1           0            1  3.31  \n",
       "4        0        0        1           0            1  3.61  "
      ]
     },
     "execution_count": 44,
     "metadata": {},
     "output_type": "execute_result"
    }
   ],
   "source": [
    "tips = tips[['total_bill', 'size', 'sex_Male', 'sex_Female', 'smoker_Yes', 'smoker_No',\n",
    "             'day_Thur', 'day_Fri', 'day_Sat', 'day_Sun', 'time_Lunch', 'time_Dinner', 'tip']]\n",
    "tips.head()"
   ]
  },
  {
   "cell_type": "code",
   "execution_count": 45,
   "id": "f968f134",
   "metadata": {},
   "outputs": [
    {
     "name": "stdout",
     "output_type": "stream",
     "text": [
      "슝=3\n"
     ]
    }
   ],
   "source": [
    "X = tips[['total_bill', 'size', 'sex_Male', 'sex_Female', 'smoker_Yes', 'smoker_No',\n",
    "          'day_Thur', 'day_Fri', 'day_Sat', 'day_Sun', 'time_Lunch', 'time_Dinner']].values\n",
    "y = tips['tip'].values\n",
    "print(\"슝=3\")"
   ]
  },
  {
   "cell_type": "code",
   "execution_count": 46,
   "id": "c9b2616e",
   "metadata": {},
   "outputs": [
    {
     "name": "stdout",
     "output_type": "stream",
     "text": [
      "(195, 12) (195,)\n",
      "(49, 12) (49,)\n"
     ]
    }
   ],
   "source": [
    "from sklearn.model_selection import train_test_split\n",
    "\n",
    "X_train, X_test, y_train, y_test = train_test_split(X, y, test_size=0.2, random_state=42)\n",
    "\n",
    "print(X_train.shape, y_train.shape)\n",
    "print(X_test.shape, y_test.shape)"
   ]
  },
  {
   "cell_type": "code",
   "execution_count": 63,
   "id": "555310fb",
   "metadata": {},
   "outputs": [
    {
     "name": "stdout",
     "output_type": "stream",
     "text": [
      "슝=3\n"
     ]
    }
   ],
   "source": [
    "import numpy as np\n",
    "W = np.random.rand(12)\n",
    "b = np.random.rand()\n",
    "print(\"슝=3\")"
   ]
  },
  {
   "cell_type": "code",
   "execution_count": 64,
   "id": "1d45b3b8",
   "metadata": {},
   "outputs": [
    {
     "data": {
      "text/plain": [
       "array([0.22660647, 0.41508779, 0.28688364, 0.00975362, 0.51915547,\n",
       "       0.06107684, 0.76801337, 0.42674624, 0.60710255, 0.68265257,\n",
       "       0.6709042 , 0.04729126])"
      ]
     },
     "execution_count": 64,
     "metadata": {},
     "output_type": "execute_result"
    }
   ],
   "source": [
    "W"
   ]
  },
  {
   "cell_type": "code",
   "execution_count": 65,
   "id": "513bf02b",
   "metadata": {},
   "outputs": [
    {
     "data": {
      "text/plain": [
       "0.17959880254860583"
      ]
     },
     "execution_count": 65,
     "metadata": {},
     "output_type": "execute_result"
    }
   ],
   "source": [
    "b"
   ]
  },
  {
   "cell_type": "markdown",
   "id": "c044fc58",
   "metadata": {},
   "source": [
    "다음은 모델을 준비하겠습니다. 모델은 이전 단계와 같이 x, w, b를 입력받는 함수입니다.\n",
    "정확히는 다음 식을 연산하는 함수면 되죠.\n",
    "\n",
    "y = w_1x_1 + w_2x_2 + w_3x_3 + w_4x_4 + w_5x_5 + w_6x_6 + w_7x_7 + w_8x_8 + w_9x_9 + w_{10} x_{10} + w_{11} x_{11} + w_{12} x_{12} + b\n",
    "\n",
    "따라서 for 구문을 활용해 1부터 12까지 x * w를 수행하고, 마지막에 b를 더해주도록 하겠습니다"
   ]
  },
  {
   "cell_type": "code",
   "execution_count": 66,
   "id": "b08f2384",
   "metadata": {},
   "outputs": [
    {
     "name": "stdout",
     "output_type": "stream",
     "text": [
      "슝=3\n"
     ]
    }
   ],
   "source": [
    "def model(X, W, b):\n",
    "    predictions = 0\n",
    "    for i in range(12):\n",
    "        predictions += X[:, i] * W[i]\n",
    "    predictions += b\n",
    "    return predictions\n",
    "print(\"슝=3\")"
   ]
  },
  {
   "cell_type": "code",
   "execution_count": 67,
   "id": "95c37b50",
   "metadata": {},
   "outputs": [
    {
     "name": "stdout",
     "output_type": "stream",
     "text": [
      "슝=3\n"
     ]
    }
   ],
   "source": [
    "def MSE(a, b):\n",
    "    mse = ((a - b) ** 2).mean()  # 두 값의 차이의 제곱의 평균\n",
    "    return mse\n",
    "print(\"슝=3\")"
   ]
  },
  {
   "cell_type": "code",
   "execution_count": 68,
   "id": "4f99b478",
   "metadata": {},
   "outputs": [
    {
     "name": "stdout",
     "output_type": "stream",
     "text": [
      "슝=3\n"
     ]
    }
   ],
   "source": [
    "def loss(X, W, b, y):\n",
    "    predictions = model(X, W, b)\n",
    "    L = MSE(predictions, y)\n",
    "    return L\n",
    "print(\"슝=3\")"
   ]
  },
  {
   "cell_type": "code",
   "execution_count": 69,
   "id": "5854b5c4",
   "metadata": {},
   "outputs": [
    {
     "name": "stdout",
     "output_type": "stream",
     "text": [
      "슝=3\n"
     ]
    }
   ],
   "source": [
    "def gradient(X, W, b, y):\n",
    "    # N은 데이터 포인트의 개수\n",
    "    N = len(y)\n",
    "    \n",
    "    # y_pred 준비\n",
    "    y_pred = model(X, W, b)\n",
    "    \n",
    "    # 공식에 맞게 gradient 계산\n",
    "    dW = 1/N * 2 * X.T.dot(y_pred - y)\n",
    "        \n",
    "    # b의 gradient 계산\n",
    "    db = 2 * (y_pred - y).mean()\n",
    "    return dW, db\n",
    "print(\"슝=3\")"
   ]
  },
  {
   "cell_type": "code",
   "execution_count": 71,
   "id": "c126746f",
   "metadata": {},
   "outputs": [
    {
     "name": "stdout",
     "output_type": "stream",
     "text": [
      "dW: [182.75872138  22.41025644   5.45421299   2.61356325   3.35888152\n",
      "   4.70889472   2.13045856   0.54313661   2.85090782   2.54327325\n",
      "   2.28924973   5.77852651]\n",
      "db: 8.067776240469575\n"
     ]
    }
   ],
   "source": [
    "dW, db = gradient(X, W, b, y)\n",
    "print(\"dW:\", dW)\n",
    "print(\"db:\", db)"
   ]
  },
  {
   "cell_type": "code",
   "execution_count": 72,
   "id": "cd574f3f",
   "metadata": {},
   "outputs": [],
   "source": [
    "LEARNING_RATE = 0.0001"
   ]
  },
  {
   "cell_type": "code",
   "execution_count": 73,
   "id": "0bef50ba",
   "metadata": {},
   "outputs": [
    {
     "name": "stdout",
     "output_type": "stream",
     "text": [
      "Iteration 10 : Loss 3.6805\n",
      "Iteration 20 : Loss 1.7532\n",
      "Iteration 30 : Loss 1.5123\n",
      "Iteration 40 : Loss 1.4815\n",
      "Iteration 50 : Loss 1.4768\n",
      "Iteration 60 : Loss 1.4754\n",
      "Iteration 70 : Loss 1.4744\n",
      "Iteration 80 : Loss 1.4735\n",
      "Iteration 90 : Loss 1.4726\n",
      "Iteration 100 : Loss 1.4717\n",
      "Iteration 110 : Loss 1.4708\n",
      "Iteration 120 : Loss 1.4699\n",
      "Iteration 130 : Loss 1.4689\n",
      "Iteration 140 : Loss 1.4680\n",
      "Iteration 150 : Loss 1.4671\n",
      "Iteration 160 : Loss 1.4662\n",
      "Iteration 170 : Loss 1.4653\n",
      "Iteration 180 : Loss 1.4645\n",
      "Iteration 190 : Loss 1.4636\n",
      "Iteration 200 : Loss 1.4627\n",
      "Iteration 210 : Loss 1.4618\n",
      "Iteration 220 : Loss 1.4609\n",
      "Iteration 230 : Loss 1.4600\n",
      "Iteration 240 : Loss 1.4592\n",
      "Iteration 250 : Loss 1.4583\n",
      "Iteration 260 : Loss 1.4574\n",
      "Iteration 270 : Loss 1.4565\n",
      "Iteration 280 : Loss 1.4557\n",
      "Iteration 290 : Loss 1.4548\n",
      "Iteration 300 : Loss 1.4540\n",
      "Iteration 310 : Loss 1.4531\n",
      "Iteration 320 : Loss 1.4523\n",
      "Iteration 330 : Loss 1.4514\n",
      "Iteration 340 : Loss 1.4506\n",
      "Iteration 350 : Loss 1.4497\n",
      "Iteration 360 : Loss 1.4489\n",
      "Iteration 370 : Loss 1.4480\n",
      "Iteration 380 : Loss 1.4472\n",
      "Iteration 390 : Loss 1.4464\n",
      "Iteration 400 : Loss 1.4455\n",
      "Iteration 410 : Loss 1.4447\n",
      "Iteration 420 : Loss 1.4439\n",
      "Iteration 430 : Loss 1.4430\n",
      "Iteration 440 : Loss 1.4422\n",
      "Iteration 450 : Loss 1.4414\n",
      "Iteration 460 : Loss 1.4406\n",
      "Iteration 470 : Loss 1.4398\n",
      "Iteration 480 : Loss 1.4390\n",
      "Iteration 490 : Loss 1.4381\n",
      "Iteration 500 : Loss 1.4373\n",
      "Iteration 510 : Loss 1.4365\n",
      "Iteration 520 : Loss 1.4357\n",
      "Iteration 530 : Loss 1.4349\n",
      "Iteration 540 : Loss 1.4341\n",
      "Iteration 550 : Loss 1.4333\n",
      "Iteration 560 : Loss 1.4326\n",
      "Iteration 570 : Loss 1.4318\n",
      "Iteration 580 : Loss 1.4310\n",
      "Iteration 590 : Loss 1.4302\n",
      "Iteration 600 : Loss 1.4294\n",
      "Iteration 610 : Loss 1.4286\n",
      "Iteration 620 : Loss 1.4279\n",
      "Iteration 630 : Loss 1.4271\n",
      "Iteration 640 : Loss 1.4263\n",
      "Iteration 650 : Loss 1.4255\n",
      "Iteration 660 : Loss 1.4248\n",
      "Iteration 670 : Loss 1.4240\n",
      "Iteration 680 : Loss 1.4233\n",
      "Iteration 690 : Loss 1.4225\n",
      "Iteration 700 : Loss 1.4217\n",
      "Iteration 710 : Loss 1.4210\n",
      "Iteration 720 : Loss 1.4202\n",
      "Iteration 730 : Loss 1.4195\n",
      "Iteration 740 : Loss 1.4187\n",
      "Iteration 750 : Loss 1.4180\n",
      "Iteration 760 : Loss 1.4172\n",
      "Iteration 770 : Loss 1.4165\n",
      "Iteration 780 : Loss 1.4158\n",
      "Iteration 790 : Loss 1.4150\n",
      "Iteration 800 : Loss 1.4143\n",
      "Iteration 810 : Loss 1.4136\n",
      "Iteration 820 : Loss 1.4128\n",
      "Iteration 830 : Loss 1.4121\n",
      "Iteration 840 : Loss 1.4114\n",
      "Iteration 850 : Loss 1.4107\n",
      "Iteration 860 : Loss 1.4099\n",
      "Iteration 870 : Loss 1.4092\n",
      "Iteration 880 : Loss 1.4085\n",
      "Iteration 890 : Loss 1.4078\n",
      "Iteration 900 : Loss 1.4071\n",
      "Iteration 910 : Loss 1.4064\n",
      "Iteration 920 : Loss 1.4057\n",
      "Iteration 930 : Loss 1.4050\n",
      "Iteration 940 : Loss 1.4042\n",
      "Iteration 950 : Loss 1.4035\n",
      "Iteration 960 : Loss 1.4028\n",
      "Iteration 970 : Loss 1.4022\n",
      "Iteration 980 : Loss 1.4015\n",
      "Iteration 990 : Loss 1.4008\n",
      "Iteration 1000 : Loss 1.4001\n"
     ]
    }
   ],
   "source": [
    "losses = []\n",
    "\n",
    "for i in range(1, 1001):\n",
    "    dW, db = gradient(X_train, W, b, y_train)\n",
    "    W -= LEARNING_RATE * dW\n",
    "    b -= LEARNING_RATE * db\n",
    "    L = loss(X_train, W, b, y_train)\n",
    "    losses.append(L)\n",
    "    if i % 10 == 0:\n",
    "        print('Iteration %d : Loss %0.4f' % (i, L))"
   ]
  },
  {
   "cell_type": "code",
   "execution_count": 74,
   "id": "26118ee5",
   "metadata": {},
   "outputs": [
    {
     "data": {
      "image/png": "[encoded data removed]",
      "text/plain": [
       "<Figure size 432x288 with 1 Axes>"
      ]
     },
     "metadata": {
      "image/png": {
       "height": 248,
       "width": 369
      },
      "needs_background": "light"
     },
     "output_type": "display_data"
    }
   ],
   "source": [
    "import matplotlib.pyplot as plt\n",
    "plt.plot(losses)\n",
    "plt.show()"
   ]
  },
  {
   "cell_type": "code",
   "execution_count": 75,
   "id": "35b1926a",
   "metadata": {},
   "outputs": [
    {
     "data": {
      "text/plain": [
       "(array([ 0.04843871,  0.34244234,  0.25841713, -0.00208511,  0.48328236,\n",
       "         0.05664471,  0.73337288,  0.42317113,  0.60104949,  0.68661598,\n",
       "         0.63065911,  0.04723111]),\n",
       " 0.13929355908376667)"
      ]
     },
     "execution_count": 75,
     "metadata": {},
     "output_type": "execute_result"
    }
   ],
   "source": [
    "W, b"
   ]
  },
  {
   "cell_type": "code",
   "execution_count": 76,
   "id": "8a1e2fb5",
   "metadata": {},
   "outputs": [
    {
     "data": {
      "text/plain": [
       "0.9490596220280152"
      ]
     },
     "execution_count": 76,
     "metadata": {},
     "output_type": "execute_result"
    }
   ],
   "source": [
    "prediction = model(X_test, W, b)\n",
    "mse = loss(X_test, W, b, y_test)\n",
    "mse"
   ]
  },
  {
   "cell_type": "code",
   "execution_count": 77,
   "id": "92ae1f63",
   "metadata": {},
   "outputs": [
    {
     "data": {
      "image/png": "[encoded data removed]",
      "text/plain": [
       "<Figure size 432x288 with 1 Axes>"
      ]
     },
     "metadata": {
      "image/png": {
       "height": 248,
       "width": 366
      },
      "needs_background": "light"
     },
     "output_type": "display_data"
    }
   ],
   "source": [
    "plt.scatter(X_test[:, 0], y_test)\n",
    "plt.scatter(X_test[:, 0], prediction)\n",
    "plt.show()"
   ]
  },
  {
   "cell_type": "code",
   "execution_count": 78,
   "id": "f63c1ea9",
   "metadata": {},
   "outputs": [
    {
     "name": "stdout",
     "output_type": "stream",
     "text": [
      "슝=3\n"
     ]
    }
   ],
   "source": [
    "tips = sns.load_dataset(\"tips\")\n",
    "tips = pd.get_dummies(tips, columns=['sex', 'smoker', 'day', 'time'])\n",
    "tips = tips[['total_bill', 'size', 'sex_Male', 'sex_Female', 'smoker_Yes', 'smoker_No',\n",
    "             'day_Thur', 'day_Fri', 'day_Sat', 'day_Sun', 'time_Lunch', 'time_Dinner', 'tip']]\n",
    "print(\"슝=3\")"
   ]
  },
  {
   "cell_type": "code",
   "execution_count": 79,
   "id": "5085e62c",
   "metadata": {},
   "outputs": [
    {
     "name": "stdout",
     "output_type": "stream",
     "text": [
      "슝=3\n"
     ]
    }
   ],
   "source": [
    "X = tips[['total_bill', 'size', 'sex_Male', 'sex_Female', 'smoker_Yes', 'smoker_No',\n",
    "          'day_Thur', 'day_Fri', 'day_Sat', 'day_Sun', 'time_Lunch', 'time_Dinner']].values\n",
    "y = tips['tip'].values\n",
    "print(\"슝=3\")"
   ]
  },
  {
   "cell_type": "code",
   "execution_count": 80,
   "id": "75513e29",
   "metadata": {},
   "outputs": [
    {
     "name": "stdout",
     "output_type": "stream",
     "text": [
      "슝=3\n"
     ]
    }
   ],
   "source": [
    "X_train, X_test, y_train, y_test = train_test_split(X, y, test_size=0.2, random_state=42)\n",
    "print(\"슝=3\")"
   ]
  },
  {
   "cell_type": "code",
   "execution_count": 81,
   "id": "edf17136",
   "metadata": {},
   "outputs": [
    {
     "name": "stdout",
     "output_type": "stream",
     "text": [
      "슝=3\n"
     ]
    }
   ],
   "source": [
    "from sklearn.linear_model import LinearRegression\n",
    "\n",
    "model = LinearRegression()\n",
    "print(\"슝=3\")"
   ]
  },
  {
   "cell_type": "code",
   "execution_count": 82,
   "id": "0ba82eb0",
   "metadata": {},
   "outputs": [
    {
     "data": {
      "text/plain": [
       "array([2.91436632, 2.00292613, 3.96425583, 3.76380832, 2.14836306,\n",
       "       2.67423448, 3.63934628, 2.29147245, 2.57207155, 2.45851225,\n",
       "       2.90446763, 2.0573337 , 2.11817193, 2.35130838, 1.82976215,\n",
       "       3.10830675, 2.95140176, 3.21602976, 2.56640892, 5.73957295,\n",
       "       3.43490366, 3.22645102, 2.17139823, 1.94180002, 3.16394533,\n",
       "       2.24547894, 2.14497574, 3.21025435, 3.20097595, 6.66803147,\n",
       "       5.01111235, 1.57804024, 3.1909877 , 2.76652194, 2.98412862,\n",
       "       3.85695724, 2.17008741, 5.46673999, 2.35586827, 2.99190732,\n",
       "       2.03271177, 2.48465991, 3.44046814, 2.35532237, 1.92528104,\n",
       "       0.87348926, 1.81911521, 3.04083954, 1.85436902])"
      ]
     },
     "execution_count": 82,
     "metadata": {},
     "output_type": "execute_result"
    }
   ],
   "source": [
    "model.fit(X_train, y_train)\n",
    "\n",
    "predictions = model.predict(X_test)\n",
    "predictions"
   ]
  },
  {
   "cell_type": "code",
   "execution_count": 83,
   "id": "d796d0ab",
   "metadata": {},
   "outputs": [
    {
     "data": {
      "text/plain": [
       "0.7033566017436103"
      ]
     },
     "execution_count": 83,
     "metadata": {},
     "output_type": "execute_result"
    }
   ],
   "source": [
    "from sklearn.metrics import mean_squared_error\n",
    "\n",
    "mse = mean_squared_error(y_test, predictions)\n",
    "mse"
   ]
  },
  {
   "cell_type": "code",
   "execution_count": 84,
   "id": "5189ab4e",
   "metadata": {},
   "outputs": [
    {
     "data": {
      "image/png": "[encoded data removed]",
      "text/plain": [
       "<Figure size 432x288 with 1 Axes>"
      ]
     },
     "metadata": {
      "image/png": {
       "height": 248,
       "width": 366
      },
      "needs_background": "light"
     },
     "output_type": "display_data"
    }
   ],
   "source": [
    "plt.scatter(X_test[:, 0], y_test, label=\"true\")\n",
    "plt.scatter(X_test[:, 0], predictions, label=\"pred\")\n",
    "plt.legend()\n",
    "plt.show()"
   ]
  },
  {
   "cell_type": "code",
   "execution_count": null,
   "id": "86f29cf4",
   "metadata": {},
   "outputs": [],
   "source": []
  },
  {
   "cell_type": "code",
   "execution_count": null,
   "id": "75787084",
   "metadata": {},
   "outputs": [],
   "source": []
  },
  {
   "cell_type": "code",
   "execution_count": null,
   "id": "2fb4e066",
   "metadata": {},
   "outputs": [],
   "source": []
  },
  {
   "cell_type": "code",
   "execution_count": null,
   "id": "3b55613c",
   "metadata": {},
   "outputs": [],
   "source": []
  },
  {
   "cell_type": "code",
   "execution_count": null,
   "id": "13f62ac0",
   "metadata": {},
   "outputs": [],
   "source": []
  },
  {
   "cell_type": "code",
   "execution_count": null,
   "id": "05c56bfc",
   "metadata": {},
   "outputs": [],
   "source": []
  },
  {
   "cell_type": "code",
   "execution_count": null,
   "id": "7776c779",
   "metadata": {},
   "outputs": [],
   "source": []
  },
  {
   "cell_type": "code",
   "execution_count": null,
   "id": "43ca6921",
   "metadata": {},
   "outputs": [],
   "source": []
  },
  {
   "cell_type": "code",
   "execution_count": null,
   "id": "26f51993",
   "metadata": {},
   "outputs": [],
   "source": []
  }
 ],
 "metadata": {
  "kernelspec": {
   "display_name": "Python 3 (ipykernel)",
   "language": "python",
   "name": "python3"
  },
  "language_info": {
   "codemirror_mode": {
    "name": "ipython",
    "version": 3
   },
   "file_extension": ".py",
   "mimetype": "text/x-python",
   "name": "python",
   "nbconvert_exporter": "python",
   "pygments_lexer": "ipython3",
   "version": "3.9.7"
  }
 },
 "nbformat": 4,
 "nbformat_minor": 5
}
