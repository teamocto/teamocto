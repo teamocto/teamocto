{
 "cells": [
  {
   "cell_type": "code",
   "execution_count": 1,
   "id": "1b21c52a",
   "metadata": {},
   "outputs": [
    {
     "name": "stdout",
     "output_type": "stream",
     "text": [
      "[1, 2]\n",
      "3\n",
      "[[4, 5, 6], 7]\n",
      "8\n",
      "9\n"
     ]
    }
   ],
   "source": [
    "overlap = [[1, 2], 3, [[4, 5, 6], 7], 8, 9]\n",
    "\n",
    "for element in overlap:\n",
    "    print(element)"
   ]
  },
  {
   "cell_type": "code",
   "execution_count": 2,
   "id": "d7eccd43",
   "metadata": {},
   "outputs": [],
   "source": [
    "a = [[1, 2], 3, [[4, 5, 6], 7], 8, 9]\n",
    "def flatten(data):\n",
    "    return output"
   ]
  },
  {
   "cell_type": "code",
   "execution_count": 3,
   "id": "7df4cdba",
   "metadata": {},
   "outputs": [
    {
     "data": {
      "text/plain": [
       "list"
      ]
     },
     "execution_count": 3,
     "metadata": {},
     "output_type": "execute_result"
    }
   ],
   "source": [
    "type(a[0])"
   ]
  },
  {
   "cell_type": "code",
   "execution_count": 8,
   "id": "a2bbb134",
   "metadata": {},
   "outputs": [],
   "source": [
    "def flatten(data):\n",
    "    output = []  # 빈 리스트를 만듭니다.\n",
    "    for item in data:\n",
    "         if type(item) == list:\n",
    "            output += flatten(item)\n",
    "         else: # 리스트가 아닐 때\n",
    "            output.append(item) # 빈 리스트에 요소를 더해주기\n",
    "    return output"
   ]
  },
  {
   "cell_type": "code",
   "execution_count": 9,
   "id": "38521264",
   "metadata": {},
   "outputs": [
    {
     "data": {
      "text/plain": [
       "[1, 2, 3, 4, 5, 6, 7, 8, 9]"
      ]
     },
     "execution_count": 9,
     "metadata": {},
     "output_type": "execute_result"
    }
   ],
   "source": [
    "a = [[1, 2], 3, [[4, 5, 6], 7], 8, 9]\n",
    "flatten(a)"
   ]
  }
 ],
 "metadata": {
  "kernelspec": {
   "display_name": "Python 3 (ipykernel)",
   "language": "python",
   "name": "python3"
  },
  "language_info": {
   "codemirror_mode": {
    "name": "ipython",
    "version": 3
   },
   "file_extension": ".py",
   "mimetype": "text/x-python",
   "name": "python",
   "nbconvert_exporter": "python",
   "pygments_lexer": "ipython3",
   "version": "3.9.7"
  }
 },
 "nbformat": 4,
 "nbformat_minor": 5
}
