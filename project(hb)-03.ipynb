{
 "cells": [
  {
   "cell_type": "code",
   "execution_count": 1,
   "id": "369b3e86",
   "metadata": {},
   "outputs": [
    {
     "name": "stdout",
     "output_type": "stream",
     "text": [
      "정수입니다\n"
     ]
    }
   ],
   "source": [
    "x = 10\n",
    "\n",
    "if type(x) == int:\n",
    "    print('정수입니다')"
   ]
  },
  {
   "cell_type": "code",
   "execution_count": 3,
   "id": "1e8beda0",
   "metadata": {},
   "outputs": [],
   "source": [
    "x = 10.0\n",
    "\n",
    "if type(x) == int:\n",
    "    print('정수입니다')"
   ]
  },
  {
   "cell_type": "code",
   "execution_count": 4,
   "id": "d47f7581",
   "metadata": {},
   "outputs": [
    {
     "name": "stdout",
     "output_type": "stream",
     "text": [
      "정수입니다\n"
     ]
    }
   ],
   "source": [
    "x = 10\n",
    "\n",
    "if x % 1 == 0:\n",
    "    print('정수입니다')"
   ]
  },
  {
   "cell_type": "code",
   "execution_count": 5,
   "id": "63dea768",
   "metadata": {},
   "outputs": [
    {
     "name": "stdout",
     "output_type": "stream",
     "text": [
      "정수입니다\n"
     ]
    }
   ],
   "source": [
    "x = 10.0\n",
    "\n",
    "if x % 1 == 0:\n",
    "    print('정수입니다')"
   ]
  },
  {
   "cell_type": "code",
   "execution_count": 9,
   "id": "376f2002",
   "metadata": {},
   "outputs": [],
   "source": [
    "def int_divider(x, y):\n",
    "    if x % 1 == 0 and y % 1 == 0:\n",
    "        answer = x / y\n",
    "        \n",
    "    else:\n",
    "        print('정수만 가능합니다.')\n",
    "        answer = None\n",
    "        \n",
    "    return answer    "
   ]
  },
  {
   "cell_type": "code",
   "execution_count": 10,
   "id": "b87fa6ed",
   "metadata": {},
   "outputs": [
    {
     "data": {
      "text/plain": [
       "3.3333333333333335"
      ]
     },
     "execution_count": 10,
     "metadata": {},
     "output_type": "execute_result"
    }
   ],
   "source": [
    "int_divider(10,3)"
   ]
  },
  {
   "cell_type": "code",
   "execution_count": 11,
   "id": "6cf91b7e",
   "metadata": {},
   "outputs": [
    {
     "name": "stdout",
     "output_type": "stream",
     "text": [
      "정수만 가능합니다.\n"
     ]
    }
   ],
   "source": [
    "int_divider(-1,0.9)"
   ]
  },
  {
   "cell_type": "code",
   "execution_count": 12,
   "id": "3972d1f1",
   "metadata": {},
   "outputs": [
    {
     "data": {
      "text/plain": [
       "3.0"
      ]
     },
     "execution_count": 12,
     "metadata": {},
     "output_type": "execute_result"
    }
   ],
   "source": [
    "int_divider(6.0, 2)"
   ]
  },
  {
   "cell_type": "code",
   "execution_count": 13,
   "id": "b5c629c7",
   "metadata": {},
   "outputs": [],
   "source": [
    "def mul(*values):\n",
    "    return output"
   ]
  },
  {
   "cell_type": "code",
   "execution_count": 16,
   "id": "35203a43",
   "metadata": {},
   "outputs": [],
   "source": [
    "def mul(*values):\n",
    "    output = 1\n",
    "    for num in values:\n",
    "        if num <= 10:\n",
    "           output *= num"
   ]
  },
  {
   "cell_type": "code",
   "execution_count": 17,
   "id": "a52e44bc",
   "metadata": {},
   "outputs": [],
   "source": [
    "def mul(*values):\n",
    "    output = 1\n",
    "    for num in values:\n",
    "        if num <= 10:\n",
    "           output *= num\n",
    "        else:\n",
    "            pass\n",
    "    return output    "
   ]
  },
  {
   "cell_type": "code",
   "execution_count": 18,
   "id": "9032b965",
   "metadata": {},
   "outputs": [
    {
     "data": {
      "text/plain": [
       "120"
      ]
     },
     "execution_count": 18,
     "metadata": {},
     "output_type": "execute_result"
    }
   ],
   "source": [
    "mul(2, 3, 4, 5)"
   ]
  },
  {
   "cell_type": "code",
   "execution_count": 19,
   "id": "3220254d",
   "metadata": {},
   "outputs": [
    {
     "data": {
      "text/plain": [
       "30"
      ]
     },
     "execution_count": 19,
     "metadata": {},
     "output_type": "execute_result"
    }
   ],
   "source": [
    "mul(3, 12, 10)"
   ]
  }
 ],
 "metadata": {
  "kernelspec": {
   "display_name": "Python 3 (ipykernel)",
   "language": "python",
   "name": "python3"
  },
  "language_info": {
   "codemirror_mode": {
    "name": "ipython",
    "version": 3
   },
   "file_extension": ".py",
   "mimetype": "text/x-python",
   "name": "python",
   "nbconvert_exporter": "python",
   "pygments_lexer": "ipython3",
   "version": "3.9.7"
  }
 },
 "nbformat": 4,
 "nbformat_minor": 5
}
