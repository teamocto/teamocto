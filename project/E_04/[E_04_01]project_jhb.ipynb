{
 "cells": [
  {
   "cell_type": "markdown",
   "id": "719e2139",
   "metadata": {},
   "source": [
    "# 프로젝트 1 : 손수 설계하는 선형회귀, 당뇨병 수치를 맞춰보자!"
   ]
  },
  {
   "cell_type": "markdown",
   "id": "9be59d8e",
   "metadata": {},
   "source": [
    "## 1.데이터 가져오기"
   ]
  },
  {
   "cell_type": "code",
   "execution_count": 1,
   "id": "feea9c46",
   "metadata": {},
   "outputs": [],
   "source": [
    "import numpy as np\n",
    "import pandas as pd\n",
    "import matplotlib.pyplot as plt"
   ]
  },
  {
   "cell_type": "markdown",
   "id": "f9ffa630",
   "metadata": {},
   "source": [
    "### -. diabetes의 data를 df_X에 저장, diabetes의 target을 df_y에 저장"
   ]
  },
  {
   "cell_type": "code",
   "execution_count": 2,
   "id": "f4181f16",
   "metadata": {},
   "outputs": [],
   "source": [
    "from sklearn.datasets import load_diabetes\n",
    "diabetes = load_diabetes()\n",
    "\n",
    "df_X = diabetes.data #diabetes.data를 변수 df_X에 저장\n",
    "df_y = diabetes.target #diabetes.target을 변수 df_y에 저장"
   ]
  },
  {
   "cell_type": "code",
   "execution_count": 3,
   "id": "e56505be",
   "metadata": {},
   "outputs": [
    {
     "name": "stdout",
     "output_type": "stream",
     "text": [
      "['age', 'sex', 'bmi', 'bp', 's1', 's2', 's3', 's4', 's5', 's6']\n",
      ".. _diabetes_dataset:\n",
      "\n",
      "Diabetes dataset\n",
      "----------------\n",
      "\n",
      "Ten baseline variables, age, sex, body mass index, average blood\n",
      "pressure, and six blood serum measurements were obtained for each of n =\n",
      "442 diabetes patients, as well as the response of interest, a\n",
      "quantitative measure of disease progression one year after baseline.\n",
      "\n",
      "**Data Set Characteristics:**\n",
      "\n",
      "  :Number of Instances: 442\n",
      "\n",
      "  :Number of Attributes: First 10 columns are numeric predictive values\n",
      "\n",
      "  :Target: Column 11 is a quantitative measure of disease progression one year after baseline\n",
      "\n",
      "  :Attribute Information:\n",
      "      - age     age in years\n",
      "      - sex\n",
      "      - bmi     body mass index\n",
      "      - bp      average blood pressure\n",
      "      - s1      tc, total serum cholesterol\n",
      "      - s2      ldl, low-density lipoproteins\n",
      "      - s3      hdl, high-density lipoproteins\n",
      "      - s4      tch, total cholesterol / HDL\n",
      "      - s5      ltg, possibly log of serum triglycerides level\n",
      "      - s6      glu, blood sugar level\n",
      "\n",
      "Note: Each of these 10 feature variables have been mean centered and scaled by the standard deviation times `n_samples` (i.e. the sum of squares of each column totals 1).\n",
      "\n",
      "Source URL:\n",
      "https://www4.stat.ncsu.edu/~boos/var.select/diabetes.html\n",
      "\n",
      "For more information see:\n",
      "Bradley Efron, Trevor Hastie, Iain Johnstone and Robert Tibshirani (2004) \"Least Angle Regression,\" Annals of Statistics (with discussion), 407-499.\n",
      "(https://web.stanford.edu/~hastie/Papers/LARS/LeastAngle_2002.pdf)\n"
     ]
    }
   ],
   "source": [
    "print(diabetes.feature_names)\n",
    "print(diabetes.DESCR)"
   ]
  },
  {
   "cell_type": "code",
   "execution_count": 4,
   "id": "3b69203e",
   "metadata": {},
   "outputs": [
    {
     "name": "stdout",
     "output_type": "stream",
     "text": [
      "df_X의 shape :  (442, 10)\n",
      "<class 'pandas.core.frame.DataFrame'>\n",
      "RangeIndex: 442 entries, 0 to 441\n",
      "Data columns (total 10 columns):\n",
      " #   Column  Non-Null Count  Dtype  \n",
      "---  ------  --------------  -----  \n",
      " 0   age     442 non-null    float64\n",
      " 1   sex     442 non-null    float64\n",
      " 2   bmi     442 non-null    float64\n",
      " 3   bp      442 non-null    float64\n",
      " 4   s1      442 non-null    float64\n",
      " 5   s2      442 non-null    float64\n",
      " 6   s3      442 non-null    float64\n",
      " 7   s4      442 non-null    float64\n",
      " 8   s5      442 non-null    float64\n",
      " 9   s6      442 non-null    float64\n",
      "dtypes: float64(10)\n",
      "memory usage: 34.7 KB\n"
     ]
    },
    {
     "data": {
      "text/html": [
       "<div>\n",
       "<style scoped>\n",
       "    .dataframe tbody tr th:only-of-type {\n",
       "        vertical-align: middle;\n",
       "    }\n",
       "\n",
       "    .dataframe tbody tr th {\n",
       "        vertical-align: top;\n",
       "    }\n",
       "\n",
       "    .dataframe thead th {\n",
       "        text-align: right;\n",
       "    }\n",
       "</style>\n",
       "<table border=\"1\" class=\"dataframe\">\n",
       "  <thead>\n",
       "    <tr style=\"text-align: right;\">\n",
       "      <th></th>\n",
       "      <th>age</th>\n",
       "      <th>sex</th>\n",
       "      <th>bmi</th>\n",
       "      <th>bp</th>\n",
       "      <th>s1</th>\n",
       "      <th>s2</th>\n",
       "      <th>s3</th>\n",
       "      <th>s4</th>\n",
       "      <th>s5</th>\n",
       "      <th>s6</th>\n",
       "    </tr>\n",
       "  </thead>\n",
       "  <tbody>\n",
       "    <tr>\n",
       "      <th>0</th>\n",
       "      <td>0.038076</td>\n",
       "      <td>0.050680</td>\n",
       "      <td>0.061696</td>\n",
       "      <td>0.021872</td>\n",
       "      <td>-0.044223</td>\n",
       "      <td>-0.034821</td>\n",
       "      <td>-0.043401</td>\n",
       "      <td>-0.002592</td>\n",
       "      <td>0.019908</td>\n",
       "      <td>-0.017646</td>\n",
       "    </tr>\n",
       "    <tr>\n",
       "      <th>1</th>\n",
       "      <td>-0.001882</td>\n",
       "      <td>-0.044642</td>\n",
       "      <td>-0.051474</td>\n",
       "      <td>-0.026328</td>\n",
       "      <td>-0.008449</td>\n",
       "      <td>-0.019163</td>\n",
       "      <td>0.074412</td>\n",
       "      <td>-0.039493</td>\n",
       "      <td>-0.068330</td>\n",
       "      <td>-0.092204</td>\n",
       "    </tr>\n",
       "    <tr>\n",
       "      <th>2</th>\n",
       "      <td>0.085299</td>\n",
       "      <td>0.050680</td>\n",
       "      <td>0.044451</td>\n",
       "      <td>-0.005671</td>\n",
       "      <td>-0.045599</td>\n",
       "      <td>-0.034194</td>\n",
       "      <td>-0.032356</td>\n",
       "      <td>-0.002592</td>\n",
       "      <td>0.002864</td>\n",
       "      <td>-0.025930</td>\n",
       "    </tr>\n",
       "    <tr>\n",
       "      <th>3</th>\n",
       "      <td>-0.089063</td>\n",
       "      <td>-0.044642</td>\n",
       "      <td>-0.011595</td>\n",
       "      <td>-0.036656</td>\n",
       "      <td>0.012191</td>\n",
       "      <td>0.024991</td>\n",
       "      <td>-0.036038</td>\n",
       "      <td>0.034309</td>\n",
       "      <td>0.022692</td>\n",
       "      <td>-0.009362</td>\n",
       "    </tr>\n",
       "    <tr>\n",
       "      <th>4</th>\n",
       "      <td>0.005383</td>\n",
       "      <td>-0.044642</td>\n",
       "      <td>-0.036385</td>\n",
       "      <td>0.021872</td>\n",
       "      <td>0.003935</td>\n",
       "      <td>0.015596</td>\n",
       "      <td>0.008142</td>\n",
       "      <td>-0.002592</td>\n",
       "      <td>-0.031991</td>\n",
       "      <td>-0.046641</td>\n",
       "    </tr>\n",
       "  </tbody>\n",
       "</table>\n",
       "</div>"
      ],
      "text/plain": [
       "        age       sex       bmi        bp        s1        s2        s3  \\\n",
       "0  0.038076  0.050680  0.061696  0.021872 -0.044223 -0.034821 -0.043401   \n",
       "1 -0.001882 -0.044642 -0.051474 -0.026328 -0.008449 -0.019163  0.074412   \n",
       "2  0.085299  0.050680  0.044451 -0.005671 -0.045599 -0.034194 -0.032356   \n",
       "3 -0.089063 -0.044642 -0.011595 -0.036656  0.012191  0.024991 -0.036038   \n",
       "4  0.005383 -0.044642 -0.036385  0.021872  0.003935  0.015596  0.008142   \n",
       "\n",
       "         s4        s5        s6  \n",
       "0 -0.002592  0.019908 -0.017646  \n",
       "1 -0.039493 -0.068330 -0.092204  \n",
       "2 -0.002592  0.002864 -0.025930  \n",
       "3  0.034309  0.022692 -0.009362  \n",
       "4 -0.002592 -0.031991 -0.046641  "
      ]
     },
     "metadata": {},
     "output_type": "display_data"
    }
   ],
   "source": [
    "df_X = pd.DataFrame(diabetes.data, columns= diabetes.feature_names)\n",
    "\n",
    "print('df_X의 shape : ', df_X.shape)\n",
    "df_X.info()\n",
    "display(df_X.head())\n",
    "\n",
    "df_y = pd.DataFrame(diabetes.target, columns=['target'])"
   ]
  },
  {
   "cell_type": "markdown",
   "id": "36b7fded",
   "metadata": {},
   "source": [
    "-------------------------"
   ]
  },
  {
   "cell_type": "markdown",
   "id": "e86cca87",
   "metadata": {},
   "source": [
    "## 2.모델에 입력할 데이터 X 준비하기"
   ]
  },
  {
   "cell_type": "markdown",
   "id": "789eb4ce",
   "metadata": {},
   "source": [
    "### -. df_X에 있는 값들을 numpy array로 변환"
   ]
  },
  {
   "cell_type": "code",
   "execution_count": 5,
   "id": "a6c8912d",
   "metadata": {
    "scrolled": true
   },
   "outputs": [],
   "source": [
    "X = df_X.values"
   ]
  },
  {
   "cell_type": "markdown",
   "id": "acd8be21",
   "metadata": {},
   "source": [
    "## 3.모델에 입력할 데이터 X 준비하기"
   ]
  },
  {
   "cell_type": "markdown",
   "id": "b8fcc762",
   "metadata": {},
   "source": [
    "### -. df_y에 있는 값들을 numpy array로 변환"
   ]
  },
  {
   "cell_type": "code",
   "execution_count": 6,
   "id": "fa2d460b",
   "metadata": {},
   "outputs": [],
   "source": [
    "y = df_y['target'].values "
   ]
  },
  {
   "cell_type": "markdown",
   "id": "3e7f91b4",
   "metadata": {},
   "source": [
    "-----------------"
   ]
  },
  {
   "cell_type": "markdown",
   "id": "37e76fc8",
   "metadata": {},
   "source": [
    "## 4.train 데이터와 test 데이터로 분리하기"
   ]
  },
  {
   "cell_type": "code",
   "execution_count": 7,
   "id": "acfaeab3",
   "metadata": {},
   "outputs": [],
   "source": [
    "from sklearn.model_selection import train_test_split\n",
    "\n",
    "X_train, X_test, y_train, y_test = train_test_split(X, y, test_size=0.2, random_state=42)"
   ]
  },
  {
   "cell_type": "markdown",
   "id": "100f1dc1",
   "metadata": {},
   "source": [
    "--------"
   ]
  },
  {
   "cell_type": "markdown",
   "id": "3319277b",
   "metadata": {},
   "source": [
    "## 5.모델 준비하기"
   ]
  },
  {
   "cell_type": "markdown",
   "id": "bab9df42",
   "metadata": {},
   "source": [
    "### -. 입력 데이터 개수에 맞는 가중치 W와 b를 준비"
   ]
  },
  {
   "cell_type": "code",
   "execution_count": 8,
   "id": "94c0c279",
   "metadata": {},
   "outputs": [],
   "source": [
    "W = np.random.rand(10)\n",
    "b = np.random.rand()"
   ]
  },
  {
   "cell_type": "code",
   "execution_count": 9,
   "id": "77655511",
   "metadata": {},
   "outputs": [],
   "source": [
    "def model(X,W,b):\n",
    "    predictions = 0\n",
    "    for i in range(10):\n",
    "        predictions += X[:,i]*W[i]\n",
    "    predictions += b\n",
    "    return predictions"
   ]
  },
  {
   "cell_type": "markdown",
   "id": "ff925629",
   "metadata": {},
   "source": [
    "## 6.손실함수 loss 정의하기"
   ]
  },
  {
   "cell_type": "markdown",
   "id": "0eccbaff",
   "metadata": {},
   "source": [
    "### -.손실함수를 MSE 함수로 정의"
   ]
  },
  {
   "cell_type": "code",
   "execution_count": 10,
   "id": "798aa8c1",
   "metadata": {},
   "outputs": [],
   "source": [
    "def MSE(a, b):\n",
    "    mse = ((a - b) ** 2).mean()\n",
    "    return mse"
   ]
  },
  {
   "cell_type": "code",
   "execution_count": 11,
   "id": "953180eb",
   "metadata": {},
   "outputs": [],
   "source": [
    "def loss(X, W, b, y):\n",
    "    predictions = model(X, W, b)\n",
    "    L = MSE(predictions, y)\n",
    "    return L"
   ]
  },
  {
   "cell_type": "markdown",
   "id": "46197520",
   "metadata": {},
   "source": [
    "## 7.기울기를 구하는 gradient 함수 구현하기"
   ]
  },
  {
   "cell_type": "markdown",
   "id": "19f22234",
   "metadata": {},
   "source": [
    "### -. 기울기를 계산하는 gradient 함수를 구현"
   ]
  },
  {
   "cell_type": "code",
   "execution_count": 12,
   "id": "a8896cdd",
   "metadata": {},
   "outputs": [],
   "source": [
    "def gradient(X, W, b, y):\n",
    "    \n",
    "    N = len(y)\n",
    "    y_pred = model(X, W, b)\n",
    "    dW = 1/N * 2 * X.T.dot(y_pred - y) \n",
    "        \n",
    "    db = 2 * (y_pred - y).mean()\n",
    "    return dW, db"
   ]
  },
  {
   "cell_type": "code",
   "execution_count": 13,
   "id": "07ee5188",
   "metadata": {},
   "outputs": [
    {
     "name": "stdout",
     "output_type": "stream",
     "text": [
      "dW: [-1.36784188 -0.31155339 -4.28933084 -3.22575921 -1.54201182 -1.26579259\n",
      "  2.89037547 -3.14532772 -4.13547252 -2.79292607]\n",
      "db: -303.4303362867907\n"
     ]
    }
   ],
   "source": [
    "dW, db = gradient(X, W, b, y)\n",
    "print(\"dW:\", dW)\n",
    "print(\"db:\", db)"
   ]
  },
  {
   "cell_type": "markdown",
   "id": "6330d1a4",
   "metadata": {},
   "source": [
    "## 8.하이퍼 파라미터인 학습률 설정하기"
   ]
  },
  {
   "cell_type": "code",
   "execution_count": 14,
   "id": "3e849b69",
   "metadata": {},
   "outputs": [],
   "source": [
    "learning_rate = 0.1"
   ]
  },
  {
   "cell_type": "markdown",
   "id": "d0430d2d",
   "metadata": {},
   "source": [
    "#### 하이퍼 파라미터 학습률을 내가 설정한 값으로 모델을 학습시킬수가 있다"
   ]
  },
  {
   "cell_type": "markdown",
   "id": "72dea35b",
   "metadata": {},
   "source": [
    "--------------"
   ]
  },
  {
   "cell_type": "markdown",
   "id": "519a3272",
   "metadata": {},
   "source": [
    "## 9.모델 학습하기"
   ]
  },
  {
   "cell_type": "code",
   "execution_count": 15,
   "id": "e2381dde",
   "metadata": {},
   "outputs": [
    {
     "name": "stdout",
     "output_type": "stream",
     "text": [
      "Iteration 50 : Loss 5693.9061\n",
      "Iteration 100 : Loss 5378.9763\n",
      "Iteration 150 : Loss 5108.9612\n",
      "Iteration 200 : Loss 4876.8051\n",
      "Iteration 250 : Loss 4676.5981\n",
      "Iteration 300 : Loss 4503.3880\n",
      "Iteration 350 : Loss 4353.0230\n",
      "Iteration 400 : Loss 4222.0207\n",
      "Iteration 450 : Loss 4107.4582\n",
      "Iteration 500 : Loss 4006.8811\n",
      "Iteration 550 : Loss 3918.2264\n",
      "Iteration 600 : Loss 3839.7590\n",
      "Iteration 650 : Loss 3770.0180\n",
      "Iteration 700 : Loss 3707.7723\n",
      "Iteration 750 : Loss 3651.9832\n",
      "Iteration 800 : Loss 3601.7732\n",
      "Iteration 850 : Loss 3556.4000\n",
      "Iteration 900 : Loss 3515.2346\n",
      "Iteration 950 : Loss 3477.7431\n",
      "Iteration 1000 : Loss 3443.4717\n",
      "Iteration 1050 : Loss 3412.0335\n",
      "Iteration 1100 : Loss 3383.0983\n",
      "Iteration 1150 : Loss 3356.3833\n",
      "Iteration 1200 : Loss 3331.6458\n",
      "Iteration 1250 : Loss 3308.6768\n",
      "Iteration 1300 : Loss 3287.2961\n",
      "Iteration 1350 : Loss 3267.3474\n",
      "Iteration 1400 : Loss 3248.6950\n",
      "Iteration 1450 : Loss 3231.2204\n",
      "Iteration 1500 : Loss 3214.8200\n",
      "Iteration 1550 : Loss 3199.4028\n",
      "Iteration 1600 : Loss 3184.8884\n",
      "Iteration 1650 : Loss 3171.2055\n",
      "Iteration 1700 : Loss 3158.2911\n",
      "Iteration 1750 : Loss 3146.0884\n",
      "Iteration 1800 : Loss 3134.5468\n",
      "Iteration 1850 : Loss 3123.6208\n",
      "Iteration 1900 : Loss 3113.2691\n",
      "Iteration 1950 : Loss 3103.4544\n",
      "Iteration 2000 : Loss 3094.1426\n",
      "Iteration 2050 : Loss 3085.3026\n",
      "Iteration 2100 : Loss 3076.9059\n",
      "Iteration 2150 : Loss 3068.9264\n",
      "Iteration 2200 : Loss 3061.3398\n",
      "Iteration 2250 : Loss 3054.1238\n",
      "Iteration 2300 : Loss 3047.2576\n",
      "Iteration 2350 : Loss 3040.7221\n",
      "Iteration 2400 : Loss 3034.4993\n",
      "Iteration 2450 : Loss 3028.5724\n",
      "Iteration 2500 : Loss 3022.9257\n",
      "Iteration 2550 : Loss 3017.5447\n",
      "Iteration 2600 : Loss 3012.4155\n",
      "Iteration 2650 : Loss 3007.5252\n",
      "Iteration 2700 : Loss 3002.8617\n",
      "Iteration 2750 : Loss 2998.4135\n",
      "Iteration 2800 : Loss 2994.1698\n",
      "Iteration 2850 : Loss 2990.1205\n",
      "Iteration 2900 : Loss 2986.2558\n",
      "Iteration 2950 : Loss 2982.5668\n",
      "Iteration 3000 : Loss 2979.0449\n",
      "Iteration 3050 : Loss 2975.6818\n",
      "Iteration 3100 : Loss 2972.4699\n",
      "Iteration 3150 : Loss 2969.4020\n",
      "Iteration 3200 : Loss 2966.4710\n",
      "Iteration 3250 : Loss 2963.6704\n",
      "Iteration 3300 : Loss 2960.9941\n",
      "Iteration 3350 : Loss 2958.4361\n",
      "Iteration 3400 : Loss 2955.9908\n",
      "Iteration 3450 : Loss 2953.6528\n",
      "Iteration 3500 : Loss 2951.4172\n",
      "Iteration 3550 : Loss 2949.2792\n",
      "Iteration 3600 : Loss 2947.2341\n",
      "Iteration 3650 : Loss 2945.2777\n",
      "Iteration 3700 : Loss 2943.4057\n",
      "Iteration 3750 : Loss 2941.6144\n",
      "Iteration 3800 : Loss 2939.9000\n",
      "Iteration 3850 : Loss 2938.2589\n",
      "Iteration 3900 : Loss 2936.6878\n",
      "Iteration 3950 : Loss 2935.1834\n",
      "Iteration 4000 : Loss 2933.7428\n",
      "Iteration 4050 : Loss 2932.3630\n",
      "Iteration 4100 : Loss 2931.0412\n",
      "Iteration 4150 : Loss 2929.7748\n",
      "Iteration 4200 : Loss 2928.5613\n",
      "Iteration 4250 : Loss 2927.3983\n",
      "Iteration 4300 : Loss 2926.2836\n",
      "Iteration 4350 : Loss 2925.2149\n",
      "Iteration 4400 : Loss 2924.1903\n",
      "Iteration 4450 : Loss 2923.2077\n",
      "Iteration 4500 : Loss 2922.2653\n",
      "Iteration 4550 : Loss 2921.3613\n",
      "Iteration 4600 : Loss 2920.4940\n",
      "Iteration 4650 : Loss 2919.6618\n",
      "Iteration 4700 : Loss 2918.8631\n",
      "Iteration 4750 : Loss 2918.0965\n",
      "Iteration 4800 : Loss 2917.3605\n",
      "Iteration 4850 : Loss 2916.6538\n",
      "Iteration 4900 : Loss 2915.9752\n",
      "Iteration 4950 : Loss 2915.3234\n",
      "Iteration 5000 : Loss 2914.6973\n"
     ]
    }
   ],
   "source": [
    "losses = []\n",
    "\n",
    "for i in range(1, 5001):\n",
    "    dW, db = gradient(X_train, W, b, y_train)\n",
    "    W -= learning_rate * dW\n",
    "    b -= learning_rate * db\n",
    "    L = loss(X_train, W, b, y_train)\n",
    "    losses.append(L)\n",
    "    if i % 50 == 0:\n",
    "            print('Iteration %d : Loss %0.4f' % (i, L))"
   ]
  },
  {
   "cell_type": "markdown",
   "id": "0bca0886",
   "metadata": {},
   "source": [
    "---------------------"
   ]
  },
  {
   "cell_type": "markdown",
   "id": "32f4e029",
   "metadata": {},
   "source": [
    "## 10.test 데이터에 대한 성능 확인하기"
   ]
  },
  {
   "cell_type": "code",
   "execution_count": 16,
   "id": "393f59d4",
   "metadata": {},
   "outputs": [
    {
     "data": {
      "text/plain": [
       "2866.824272422967"
      ]
     },
     "execution_count": 16,
     "metadata": {},
     "output_type": "execute_result"
    }
   ],
   "source": [
    "prediction = model(X_test, W, b)\n",
    "mse = loss(X_test, W, b, y_test)\n",
    "mse"
   ]
  },
  {
   "cell_type": "markdown",
   "id": "34573e74",
   "metadata": {},
   "source": [
    "#### MSE : 2866.82"
   ]
  },
  {
   "cell_type": "markdown",
   "id": "9f102882",
   "metadata": {},
   "source": [
    "---------------------"
   ]
  },
  {
   "cell_type": "markdown",
   "id": "593f2dba",
   "metadata": {},
   "source": [
    "## 11.정답 데이터와 예측한 데이터 시각화하기"
   ]
  },
  {
   "cell_type": "code",
   "execution_count": 17,
   "id": "1fb05fd5",
   "metadata": {},
   "outputs": [
    {
     "data": {
      "image/png": "[encoded data removed]",
      "text/plain": [
       "<Figure size 432x288 with 1 Axes>"
      ]
     },
     "metadata": {
      "needs_background": "light"
     },
     "output_type": "display_data"
    }
   ],
   "source": [
    "plt.plot(losses)\n",
    "plt.show()"
   ]
  },
  {
   "cell_type": "markdown",
   "id": "de2ad8a4",
   "metadata": {},
   "source": [
    "#### x축값이 500정도에 이르렀을때 완만한 값이 나오는 것을 확인할수 있다."
   ]
  },
  {
   "cell_type": "code",
   "execution_count": 18,
   "id": "ed02b41b",
   "metadata": {},
   "outputs": [
    {
     "data": {
      "image/png": "[encoded data removed]",
      "text/plain": [
       "<Figure size 432x288 with 1 Axes>"
      ]
     },
     "metadata": {
      "needs_background": "light"
     },
     "output_type": "display_data"
    }
   ],
   "source": [
    "plt.scatter(X_test[:, 0], y_test, label=\"true\")\n",
    "plt.scatter(X_test[:, 0], prediction, label=\"pred\")\n",
    "plt.legend()\n",
    "plt.show()"
   ]
  },
  {
   "cell_type": "markdown",
   "id": "a85a0f13",
   "metadata": {},
   "source": [
    "#### 대략적으로 수치값들이 모여있는 것을 확인할수 있었다."
   ]
  },
  {
   "cell_type": "markdown",
   "id": "68d8f196",
   "metadata": {},
   "source": [
    "#### x축값이 500정도에 이르렀을때 완만한 값이 나오는 것을 확인할수 있다."
   ]
  },
  {
   "cell_type": "markdown",
   "id": "84843216",
   "metadata": {},
   "source": [
    "## References"
   ]
  },
  {
   "cell_type": "markdown",
   "id": "53a38887",
   "metadata": {},
   "source": [
    "## - 같은 멤버인 박수경님 깃허브 프로젝트 내용 코드 복사"
   ]
  },
  {
   "cell_type": "markdown",
   "id": "8b755a33",
   "metadata": {},
   "source": [
    "# 회고"
   ]
  },
  {
   "cell_type": "markdown",
   "id": "9def800d",
   "metadata": {},
   "source": [
    "## 예시가 없는 프로젝트는 처음이라 너무 어려웠고, 3~4주차까지는 어느정도 수업 진도를 밤새가며 공부하면서 진도를 따라갔으나, 지금은 수업내용이 너무 많아 공부를 해도 수업 속도를 못따라가는 현상이 발생되어 프로젝트에 대한 내용을 대부분 복사해서 붙이는(이해는 하나도 못하고...)상황이라 답답한 프로젝트였음.\n",
    "\n",
    "### 당뇨병 수치를 구하는 방법인 프로젝트를 진행하는 건데 예시가 없으면 어느정도 이해라도 하게끔 수업 내용 설명을 했으면 좋을듯.\n",
    "\n",
    "### 7번 내용 기울기를 구하는 gradient 함수 구현하기부터 복붙을 해도 에러가 계속 발생되어 잠을 한숨도 못잠.(새벽에 누구한테 물어볼수도 없고 디스코드에 새벽에 물어보는 건 예의가 아닌거 같아 도움을 얻을곳이 없음)\n",
    "\n",
    "### 같은 그루인 박수경님의 깃허브 프로젝트 링크주소를 보고 거의 따라하듯이(이해는 하나도 못하고...) 프로젝트 작성\n",
    "\n",
    "### 지난번 프로젝트도 거의 이해를 못하고 해서 아쉬운게 많았는데 이번 프로젝트는 전체적으로 거의 이해를 하지 못하고 넘어가는 거 같아 많은 고민을 하게 됨."
   ]
  }
 ],
 "metadata": {
  "kernelspec": {
   "display_name": "Python 3 (ipykernel)",
   "language": "python",
   "name": "python3"
  },
  "language_info": {
   "codemirror_mode": {
    "name": "ipython",
    "version": 3
   },
   "file_extension": ".py",
   "mimetype": "text/x-python",
   "name": "python",
   "nbconvert_exporter": "python",
   "pygments_lexer": "ipython3",
   "version": "3.9.7"
  }
 },
 "nbformat": 4,
 "nbformat_minor": 5
}
