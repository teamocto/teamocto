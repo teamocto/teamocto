{
 "cells": [
  {
   "cell_type": "code",
   "execution_count": 1,
   "metadata": {},
   "outputs": [],
   "source": [
    "import numpy as np\n",
    "import matplotlib.pyplot as plt\n",
    "from sklearn.model_selection import train_test_split\n",
    "from tensorflow.keras import models, layers\n",
    "from tensorflow.keras import callbacks\n",
    "from tensorflow.keras import utils\n",
    "from tensorflow import keras\n",
    "from keras.models import Sequential\n",
    "from keras.layers import Dense\n",
    "from keras.datasets import reuters\n",
    "import seaborn as sns"
   ]
  },
  {
   "cell_type": "code",
   "execution_count": 2,
   "metadata": {},
   "outputs": [
    {
     "name": "stdout",
     "output_type": "stream",
     "text": [
      "8982\n",
      "6736\n",
      "2246\n",
      "46\n"
     ]
    }
   ],
   "source": [
    "# 문제 2-1: reuters 데이터셋을 로드하고, 훈련 데이터셋에서 25%를 검증 데이터셋으로 분리합니다.\n",
    "from keras.datasets import reuters\n",
    "\n",
    "(train_data, train_labels), (test_data, test_labels) = reuters.load_data(num_words=10000)\n",
    "\n",
    "x_train_data, x_train_labels, y_train_data, y_train_labels = train_test_split(train_data, train_labels,\n",
    "                                                  test_size=0.25,\n",
    "                                                  random_state=123)\n",
    "\n",
    "\n",
    "# 훈련, 검증, 테스트 데이터와 레이블 종류가 몇 개인지 출력합니다.\n",
    "print(len(train_data))\n",
    "print(len(x_train_data))\n",
    "print(len(test_data))\n",
    "print(len(set(train_labels)))"
   ]
  },
  {
   "cell_type": "code",
   "execution_count": 3,
   "metadata": {},
   "outputs": [],
   "source": [
    "# 문제 2-2: 텍스트 데이터의 전처리를 위해서 각 데이터셋마다 원-핫 인코딩을 수행합니다.\n",
    "def one_hot_encoding(data, dim=10000):\n",
    "  results = np.zeros((len(data), dim))\n",
    "  for i, d in enumerate(data):\n",
    "    results[i, d] = 1.\n",
    "  return results\n",
    "\n",
    "x_train = one_hot_encoding(train_data)\n",
    "x_val = one_hot_encoding(x_train_data)\n",
    "x_test = one_hot_encoding(test_data)\n",
    "y_val = one_hot_encoding(y_train_data)\n",
    "# 레이블 데이터들은 범주형 형태로 to_categorical() 함수를 사용해 변환합니다.\n",
    "from keras.utils.np_utils import to_categorical\n",
    "\n",
    "y_train = to_categorical(train_labels)\n",
    "y_test = to_categorical(test_labels)\n",
    "y_val = to_categorical(y_train_data)"
   ]
  },
  {
   "cell_type": "code",
   "execution_count": 4,
   "metadata": {},
   "outputs": [
    {
     "name": "stdout",
     "output_type": "stream",
     "text": [
      "Epoch 1/40\n",
      "281/281 [==============================] - 4s 11ms/step - loss: 1.6908 - accuracy: 0.6152 - val_loss: 1.2872 - val_accuracy: 0.7191\n",
      "Epoch 2/40\n",
      "281/281 [==============================] - 3s 11ms/step - loss: 1.1022 - accuracy: 0.7401 - val_loss: 1.0911 - val_accuracy: 0.7573\n",
      "Epoch 3/40\n",
      "281/281 [==============================] - 3s 10ms/step - loss: 0.8938 - accuracy: 0.7829 - val_loss: 1.0359 - val_accuracy: 0.7792\n",
      "Epoch 4/40\n",
      "281/281 [==============================] - 3s 10ms/step - loss: 0.7686 - accuracy: 0.8134 - val_loss: 1.0575 - val_accuracy: 0.7845\n",
      "Epoch 5/40\n",
      "281/281 [==============================] - 3s 12ms/step - loss: 0.6876 - accuracy: 0.8349 - val_loss: 1.0389 - val_accuracy: 0.7894\n",
      "Epoch 6/40\n",
      "281/281 [==============================] - 3s 11ms/step - loss: 0.6232 - accuracy: 0.8520 - val_loss: 1.0883 - val_accuracy: 0.7872\n",
      "Epoch 7/40\n",
      "281/281 [==============================] - 4s 13ms/step - loss: 0.5536 - accuracy: 0.8626 - val_loss: 1.1294 - val_accuracy: 0.7907\n",
      "Epoch 8/40\n",
      "281/281 [==============================] - 4s 12ms/step - loss: 0.5367 - accuracy: 0.8680 - val_loss: 1.1525 - val_accuracy: 0.7876\n",
      "Epoch 9/40\n",
      "281/281 [==============================] - 3s 11ms/step - loss: 0.5084 - accuracy: 0.8717 - val_loss: 1.1820 - val_accuracy: 0.7956\n",
      "Epoch 10/40\n",
      "281/281 [==============================] - 3s 12ms/step - loss: 0.4858 - accuracy: 0.8772 - val_loss: 1.1774 - val_accuracy: 0.7916\n",
      "Epoch 11/40\n",
      "281/281 [==============================] - 3s 12ms/step - loss: 0.4617 - accuracy: 0.8858 - val_loss: 1.2212 - val_accuracy: 0.7925\n",
      "Epoch 12/40\n",
      "281/281 [==============================] - 3s 12ms/step - loss: 0.4467 - accuracy: 0.8909 - val_loss: 1.3472 - val_accuracy: 0.8005\n",
      "Epoch 13/40\n",
      "281/281 [==============================] - 4s 15ms/step - loss: 0.4210 - accuracy: 0.8914 - val_loss: 1.3050 - val_accuracy: 0.7961\n",
      "Epoch 14/40\n",
      "281/281 [==============================] - 4s 15ms/step - loss: 0.4197 - accuracy: 0.8922 - val_loss: 1.3136 - val_accuracy: 0.7943\n",
      "Epoch 15/40\n",
      "281/281 [==============================] - 4s 15ms/step - loss: 0.4065 - accuracy: 0.8967 - val_loss: 1.3304 - val_accuracy: 0.7939\n",
      "Epoch 16/40\n",
      "281/281 [==============================] - 4s 15ms/step - loss: 0.3820 - accuracy: 0.9012 - val_loss: 1.3389 - val_accuracy: 0.7956\n",
      "Epoch 17/40\n",
      "281/281 [==============================] - 4s 14ms/step - loss: 0.3829 - accuracy: 0.9055 - val_loss: 1.4472 - val_accuracy: 0.7930\n",
      "Epoch 18/40\n",
      "281/281 [==============================] - 4s 14ms/step - loss: 0.3662 - accuracy: 0.9083 - val_loss: 1.3828 - val_accuracy: 0.7921\n",
      "Epoch 19/40\n",
      "281/281 [==============================] - 4s 14ms/step - loss: 0.3689 - accuracy: 0.9034 - val_loss: 1.4280 - val_accuracy: 0.7934\n",
      "Epoch 20/40\n",
      "281/281 [==============================] - 4s 15ms/step - loss: 0.3618 - accuracy: 0.9081 - val_loss: 1.4343 - val_accuracy: 0.7947\n",
      "Epoch 21/40\n",
      "281/281 [==============================] - 4s 15ms/step - loss: 0.3545 - accuracy: 0.9083 - val_loss: 1.4360 - val_accuracy: 0.7921\n",
      "Epoch 22/40\n",
      "281/281 [==============================] - 4s 14ms/step - loss: 0.3703 - accuracy: 0.9094 - val_loss: 1.4451 - val_accuracy: 0.7943\n",
      "Epoch 23/40\n",
      "281/281 [==============================] - 4s 15ms/step - loss: 0.3515 - accuracy: 0.9139 - val_loss: 1.4832 - val_accuracy: 0.7907\n",
      "Epoch 24/40\n",
      "281/281 [==============================] - 4s 16ms/step - loss: 0.3478 - accuracy: 0.9119 - val_loss: 1.4597 - val_accuracy: 0.7916\n",
      "Epoch 25/40\n",
      "281/281 [==============================] - 4s 15ms/step - loss: 0.3208 - accuracy: 0.9153 - val_loss: 1.4370 - val_accuracy: 0.7916\n",
      "Epoch 26/40\n",
      "281/281 [==============================] - 4s 14ms/step - loss: 0.3208 - accuracy: 0.9159 - val_loss: 1.4976 - val_accuracy: 0.7863\n",
      "Epoch 27/40\n",
      "281/281 [==============================] - 5s 16ms/step - loss: 0.3135 - accuracy: 0.9205 - val_loss: 1.4741 - val_accuracy: 0.7925\n",
      "Epoch 28/40\n",
      "281/281 [==============================] - 5s 17ms/step - loss: 0.3052 - accuracy: 0.9200 - val_loss: 1.5449 - val_accuracy: 0.7894\n",
      "Epoch 29/40\n",
      "281/281 [==============================] - 4s 16ms/step - loss: 0.3073 - accuracy: 0.9186 - val_loss: 1.5360 - val_accuracy: 0.7903\n",
      "Epoch 30/40\n",
      "281/281 [==============================] - 4s 16ms/step - loss: 0.3032 - accuracy: 0.9191 - val_loss: 1.6075 - val_accuracy: 0.7885\n",
      "Epoch 31/40\n",
      "281/281 [==============================] - 5s 17ms/step - loss: 0.3139 - accuracy: 0.9196 - val_loss: 1.5375 - val_accuracy: 0.7912\n",
      "Epoch 32/40\n",
      "281/281 [==============================] - 4s 15ms/step - loss: 0.3005 - accuracy: 0.9234 - val_loss: 1.5963 - val_accuracy: 0.7903\n",
      "Epoch 33/40\n",
      "281/281 [==============================] - 4s 16ms/step - loss: 0.3034 - accuracy: 0.9204 - val_loss: 1.5807 - val_accuracy: 0.7898\n",
      "Epoch 34/40\n",
      "281/281 [==============================] - 5s 17ms/step - loss: 0.3028 - accuracy: 0.9216 - val_loss: 1.6350 - val_accuracy: 0.7845\n",
      "Epoch 35/40\n",
      "281/281 [==============================] - 4s 14ms/step - loss: 0.3007 - accuracy: 0.9222 - val_loss: 1.5860 - val_accuracy: 0.7930\n",
      "Epoch 36/40\n",
      "281/281 [==============================] - 4s 16ms/step - loss: 0.2994 - accuracy: 0.9230 - val_loss: 1.6508 - val_accuracy: 0.7867\n",
      "Epoch 37/40\n",
      "281/281 [==============================] - 4s 16ms/step - loss: 0.2829 - accuracy: 0.9265 - val_loss: 1.5847 - val_accuracy: 0.7881\n",
      "Epoch 38/40\n",
      "281/281 [==============================] - 4s 15ms/step - loss: 0.2987 - accuracy: 0.9251 - val_loss: 1.6274 - val_accuracy: 0.7921\n",
      "Epoch 39/40\n",
      "281/281 [==============================] - 4s 14ms/step - loss: 0.2901 - accuracy: 0.9244 - val_loss: 1.6681 - val_accuracy: 0.7898\n",
      "Epoch 40/40\n",
      "281/281 [==============================] - 4s 15ms/step - loss: 0.2989 - accuracy: 0.9232 - val_loss: 1.7018 - val_accuracy: 0.7827\n",
      "Model: \"sequential\"\n",
      "_________________________________________________________________\n",
      " Layer (type)                Output Shape              Param #   \n",
      "=================================================================\n",
      " input (Dense)               (None, 64)                640064    \n",
      "                                                                 \n",
      " batch_normalization (BatchN  (None, 64)               256       \n",
      " ormalization)                                                   \n",
      "                                                                 \n",
      " activation (Activation)     (None, 64)                0         \n",
      "                                                                 \n",
      " dropout (Dropout)           (None, 64)                0         \n",
      "                                                                 \n",
      " hidden (Dense)              (None, 64)                4160      \n",
      "                                                                 \n",
      " batch_normalization_1 (Batc  (None, 64)               256       \n",
      " hNormalization)                                                 \n",
      "                                                                 \n",
      " activation_1 (Activation)   (None, 64)                0         \n",
      "                                                                 \n",
      " dropout_1 (Dropout)         (None, 64)                0         \n",
      "                                                                 \n",
      " output (Dense)              (None, 46)                2990      \n",
      "                                                                 \n",
      "=================================================================\n",
      "Total params: 647,726\n",
      "Trainable params: 647,470\n",
      "Non-trainable params: 256\n",
      "_________________________________________________________________\n"
     ]
    }
   ],
   "source": [
    "# 문제 2-3: 빠른 학습과 과대적합을 방지하기 위해 BatchNormalization과 Dropout을 적용한 딥러닝 모델을 구성합니다.\n",
    "import tensorflow as tf\n",
    "\n",
    "model = models.Sequential()\n",
    "model.add(layers.Dense(64, input_shape=(10000, ), name='input'))\n",
    "model.add(layers.BatchNormalization())\n",
    "model.add(layers.Activation('relu'))\n",
    "model.add(layers.Dropout(0.3))\n",
    "model.add(layers.Dense(64, name='hidden'))\n",
    "model.add(layers.BatchNormalization())\n",
    "model.add(layers.Activation('relu'))\n",
    "model.add(layers.Dropout(0.3)) \n",
    "model.add(layers.Dense(46, activation='softmax', name='output'))\n",
    "\n",
    "model.compile(optimizer='rmsprop',\n",
    "              loss='categorical_crossentropy',\n",
    "              metrics=['accuracy'])\n",
    "\n",
    "batch_norm_history = model.fit(x_train, y_train,\n",
    "                               epochs=40,\n",
    "                               batch_size=32,\n",
    "                               validation_data=(x_test, y_test))\n",
    "\n",
    "model.summary()"
   ]
  },
  {
   "cell_type": "code",
   "execution_count": 5,
   "metadata": {},
   "outputs": [
    {
     "name": "stdout",
     "output_type": "stream",
     "text": [
      "Epoch 1/20\n",
      "281/281 [==============================] - 4s 14ms/step - loss: 0.2880 - accuracy: 0.9250\n",
      "Epoch 2/20\n",
      "281/281 [==============================] - 4s 13ms/step - loss: 0.2872 - accuracy: 0.9264\n",
      "Epoch 3/20\n",
      "281/281 [==============================] - 4s 14ms/step - loss: 0.2714 - accuracy: 0.9273\n",
      "Epoch 4/20\n",
      "281/281 [==============================] - 4s 14ms/step - loss: 0.2879 - accuracy: 0.9236\n",
      "Epoch 5/20\n",
      "281/281 [==============================] - 4s 14ms/step - loss: 0.2862 - accuracy: 0.9274\n",
      "Epoch 6/20\n",
      "281/281 [==============================] - 4s 13ms/step - loss: 0.2755 - accuracy: 0.9281\n",
      "Epoch 7/20\n",
      "281/281 [==============================] - 4s 13ms/step - loss: 0.2844 - accuracy: 0.9280\n",
      "Epoch 8/20\n",
      "281/281 [==============================] - 4s 14ms/step - loss: 0.2693 - accuracy: 0.9238\n",
      "Epoch 9/20\n",
      "281/281 [==============================] - 4s 15ms/step - loss: 0.2790 - accuracy: 0.9282\n",
      "Epoch 10/20\n",
      "281/281 [==============================] - 4s 14ms/step - loss: 0.2815 - accuracy: 0.9265\n",
      "Epoch 11/20\n",
      "281/281 [==============================] - 4s 14ms/step - loss: 0.2725 - accuracy: 0.9293\n",
      "Epoch 12/20\n",
      "281/281 [==============================] - 4s 13ms/step - loss: 0.2597 - accuracy: 0.9303\n",
      "Epoch 13/20\n",
      "281/281 [==============================] - 4s 15ms/step - loss: 0.2681 - accuracy: 0.9294\n",
      "Epoch 14/20\n",
      "281/281 [==============================] - 4s 13ms/step - loss: 0.2616 - accuracy: 0.9312\n",
      "Epoch 15/20\n",
      "281/281 [==============================] - 4s 15ms/step - loss: 0.2644 - accuracy: 0.9332\n",
      "Epoch 16/20\n",
      "281/281 [==============================] - 4s 15ms/step - loss: 0.2738 - accuracy: 0.9313\n",
      "Epoch 17/20\n",
      "281/281 [==============================] - 4s 14ms/step - loss: 0.2519 - accuracy: 0.9339\n",
      "Epoch 18/20\n",
      "281/281 [==============================] - 5s 16ms/step - loss: 0.2533 - accuracy: 0.9324\n",
      "Epoch 19/20\n",
      "281/281 [==============================] - 4s 14ms/step - loss: 0.2521 - accuracy: 0.9335\n",
      "Epoch 20/20\n",
      "281/281 [==============================] - 4s 13ms/step - loss: 0.2529 - accuracy: 0.9322\n"
     ]
    }
   ],
   "source": [
    "# 문제 2-4: ModelCheckpoint와 EarlyStopping 콜백 함수를 적용하여 모델 학습을 진행합니다.\n",
    "\n",
    "check_point_cb = callbacks.ModelCheckpoint('keras_mnist_model.h5')\n",
    "\n",
    "history = model.fit(x_train, y_train, epochs=20,\n",
    "                    callbacks=[check_point_cb])"
   ]
  },
  {
   "cell_type": "code",
   "execution_count": 6,
   "metadata": {},
   "outputs": [
    {
     "name": "stdout",
     "output_type": "stream",
     "text": [
      "Epoch 1/20\n",
      "281/281 [==============================] - 5s 18ms/step - loss: 0.2497 - accuracy: 0.9351 - val_loss: 0.0903 - val_accuracy: 0.9685\n",
      "Epoch 2/20\n",
      "281/281 [==============================] - 4s 15ms/step - loss: 0.2499 - accuracy: 0.9348 - val_loss: 0.0899 - val_accuracy: 0.9682\n",
      "Epoch 3/20\n",
      "281/281 [==============================] - 4s 16ms/step - loss: 0.2490 - accuracy: 0.9342 - val_loss: 0.0850 - val_accuracy: 0.9676\n",
      "Epoch 4/20\n",
      "281/281 [==============================] - 5s 17ms/step - loss: 0.2438 - accuracy: 0.9380 - val_loss: 0.0838 - val_accuracy: 0.9675\n",
      "Epoch 5/20\n",
      "281/281 [==============================] - 4s 15ms/step - loss: 0.2526 - accuracy: 0.9336 - val_loss: 0.0864 - val_accuracy: 0.9681\n",
      "Epoch 6/20\n",
      "281/281 [==============================] - 4s 16ms/step - loss: 0.2393 - accuracy: 0.9351 - val_loss: 0.0840 - val_accuracy: 0.9679\n",
      "Epoch 7/20\n",
      "281/281 [==============================] - 5s 16ms/step - loss: 0.2385 - accuracy: 0.9349 - val_loss: 0.0848 - val_accuracy: 0.9685\n",
      "Epoch 8/20\n",
      "281/281 [==============================] - 5s 16ms/step - loss: 0.2505 - accuracy: 0.9362 - val_loss: 0.0874 - val_accuracy: 0.9682\n",
      "Epoch 9/20\n",
      "281/281 [==============================] - 5s 16ms/step - loss: 0.2478 - accuracy: 0.9349 - val_loss: 0.0850 - val_accuracy: 0.9673\n",
      "Epoch 10/20\n",
      "281/281 [==============================] - 4s 16ms/step - loss: 0.2430 - accuracy: 0.9346 - val_loss: 0.0858 - val_accuracy: 0.9684\n",
      "Epoch 11/20\n",
      "281/281 [==============================] - 4s 15ms/step - loss: 0.2559 - accuracy: 0.9345 - val_loss: 0.0821 - val_accuracy: 0.9685\n",
      "Epoch 12/20\n",
      "281/281 [==============================] - 4s 13ms/step - loss: 0.2511 - accuracy: 0.9320 - val_loss: 0.0844 - val_accuracy: 0.9670\n",
      "Epoch 13/20\n",
      "281/281 [==============================] - 3s 12ms/step - loss: 0.2374 - accuracy: 0.9392 - val_loss: 0.0816 - val_accuracy: 0.9672\n",
      "Epoch 14/20\n",
      "281/281 [==============================] - 4s 14ms/step - loss: 0.2426 - accuracy: 0.9341 - val_loss: 0.0831 - val_accuracy: 0.9682\n",
      "Epoch 15/20\n",
      "281/281 [==============================] - 3s 12ms/step - loss: 0.2315 - accuracy: 0.9397 - val_loss: 0.0820 - val_accuracy: 0.9676\n",
      "Epoch 16/20\n",
      "281/281 [==============================] - 4s 14ms/step - loss: 0.2394 - accuracy: 0.9387 - val_loss: 0.0803 - val_accuracy: 0.9681\n",
      "Epoch 17/20\n",
      "281/281 [==============================] - 3s 12ms/step - loss: 0.2418 - accuracy: 0.9349 - val_loss: 0.0799 - val_accuracy: 0.9685\n",
      "Epoch 18/20\n",
      "281/281 [==============================] - 4s 13ms/step - loss: 0.2337 - accuracy: 0.9395 - val_loss: 0.0822 - val_accuracy: 0.9679\n",
      "Epoch 19/20\n",
      "281/281 [==============================] - 3s 11ms/step - loss: 0.2495 - accuracy: 0.9326 - val_loss: 0.0814 - val_accuracy: 0.9670\n",
      "Epoch 20/20\n",
      "281/281 [==============================] - 3s 10ms/step - loss: 0.2296 - accuracy: 0.9394 - val_loss: 0.0807 - val_accuracy: 0.9687\n"
     ]
    }
   ],
   "source": [
    "check_point_cb = callbacks.ModelCheckpoint('keras_mnist_model.h5', save_best_only=True)\n",
    "\n",
    "history = model.fit(x_train, y_train, epochs=20,\n",
    "                    validation_data=(x_val, y_val),\n",
    "                    callbacks=[check_point_cb])"
   ]
  },
  {
   "cell_type": "code",
   "execution_count": 7,
   "metadata": {},
   "outputs": [
    {
     "name": "stdout",
     "output_type": "stream",
     "text": [
      "Epoch 1/20\n",
      "281/281 [==============================] - 3s 12ms/step - loss: 0.2464 - accuracy: 0.9369 - val_loss: 0.0805 - val_accuracy: 0.9685\n",
      "Epoch 2/20\n",
      "281/281 [==============================] - 3s 12ms/step - loss: 0.2353 - accuracy: 0.9392 - val_loss: 0.0833 - val_accuracy: 0.9676\n",
      "Epoch 3/20\n",
      "281/281 [==============================] - 3s 12ms/step - loss: 0.2357 - accuracy: 0.9377 - val_loss: 0.0796 - val_accuracy: 0.9681\n",
      "Epoch 4/20\n",
      "281/281 [==============================] - 3s 12ms/step - loss: 0.2481 - accuracy: 0.9360 - val_loss: 0.0788 - val_accuracy: 0.9682\n",
      "Epoch 5/20\n",
      "281/281 [==============================] - 3s 12ms/step - loss: 0.2373 - accuracy: 0.9388 - val_loss: 0.0779 - val_accuracy: 0.9685\n",
      "Epoch 6/20\n",
      "281/281 [==============================] - 4s 14ms/step - loss: 0.2312 - accuracy: 0.9397 - val_loss: 0.0812 - val_accuracy: 0.9681\n",
      "Epoch 7/20\n",
      "281/281 [==============================] - 4s 13ms/step - loss: 0.2255 - accuracy: 0.9393 - val_loss: 0.0789 - val_accuracy: 0.9684\n",
      "Epoch 8/20\n",
      "281/281 [==============================] - 3s 11ms/step - loss: 0.2321 - accuracy: 0.9365 - val_loss: 0.0771 - val_accuracy: 0.9690\n",
      "Epoch 9/20\n",
      "281/281 [==============================] - 4s 13ms/step - loss: 0.2231 - accuracy: 0.9390 - val_loss: 0.0768 - val_accuracy: 0.9678\n",
      "Epoch 10/20\n",
      "281/281 [==============================] - 4s 13ms/step - loss: 0.2247 - accuracy: 0.9381 - val_loss: 0.0808 - val_accuracy: 0.9675\n",
      "Epoch 11/20\n",
      "281/281 [==============================] - 4s 13ms/step - loss: 0.2297 - accuracy: 0.9399 - val_loss: 0.0798 - val_accuracy: 0.9685\n",
      "Epoch 12/20\n",
      "281/281 [==============================] - 4s 13ms/step - loss: 0.2303 - accuracy: 0.9394 - val_loss: 0.0773 - val_accuracy: 0.9685\n"
     ]
    }
   ],
   "source": [
    "early_stopping_cb = callbacks.EarlyStopping(patience=3, monitor='val_loss',\n",
    "                                  restore_best_weights=True)\n",
    "history2 = model.fit(x_train, y_train, epochs=20,\n",
    "                    validation_data=(x_val, y_val),\n",
    "                    callbacks=[check_point_cb, early_stopping_cb])"
   ]
  },
  {
   "cell_type": "code",
   "execution_count": 8,
   "metadata": {},
   "outputs": [
    {
     "data": {
      "image/png": "[encoded data removed]",
      "text/plain": [
       "<Figure size 1200x500 with 2 Axes>"
      ]
     },
     "metadata": {},
     "output_type": "display_data"
    }
   ],
   "source": [
    "# 학습 히스토리의 `loss`, `val_loss`, `accuracy`, `val_accuracy`를 차트로 시각화합니다.\n",
    "plt.style.use('seaborn-white')\n",
    "\n",
    "history_dict = history.history\n",
    "\n",
    "loss = history_dict['loss']\n",
    "val_loss = history_dict['val_loss']\n",
    "\n",
    "epochs = range(1, len(loss) + 1)\n",
    "fig = plt.figure(figsize=(12, 5))\n",
    "\n",
    "ax1 = fig.add_subplot(1, 2, 1)\n",
    "ax1.plot(epochs, loss, 'b-', label='train_loss')\n",
    "ax1.plot(epochs, val_loss, 'r-', label='val_loss')\n",
    "ax1.set_title('Train and Validation Loss')\n",
    "ax1.set_xlabel('Epochs')\n",
    "ax1.set_ylabel('Loss')\n",
    "ax1.grid()\n",
    "ax1.legend()\n",
    "\n",
    "accuracy = history_dict['accuracy']\n",
    "val_accuracy = history_dict['val_accuracy']\n",
    "\n",
    "ax2 = fig.add_subplot(1, 2, 2)\n",
    "ax2.plot(epochs, accuracy, 'b-', label='train_accuracy')\n",
    "ax2.plot(epochs, val_accuracy, 'r-', label='val_accuracy')\n",
    "ax2.set_title('Train and Validation Accuracy')\n",
    "ax2.set_xlabel('Epochs')\n",
    "ax2.set_ylabel('Accuracy')\n",
    "ax2.grid()\n",
    "ax2.legend()\n",
    "\n",
    "plt.show()"
   ]
  },
  {
   "cell_type": "code",
   "execution_count": 9,
   "metadata": {},
   "outputs": [
    {
     "name": "stdout",
     "output_type": "stream",
     "text": [
      "71/71 [==============================] - 0s 2ms/step - loss: 1.8656 - accuracy: 0.7854\n"
     ]
    },
    {
     "data": {
      "text/plain": [
       "[1.8656160831451416, 0.7853962779045105]"
      ]
     },
     "execution_count": 9,
     "metadata": {},
     "output_type": "execute_result"
    }
   ],
   "source": [
    "model.evaluate(x_test, y_test)"
   ]
  },
  {
   "attachments": {},
   "cell_type": "markdown",
   "metadata": {},
   "source": [
    "# 회고"
   ]
  },
  {
   "attachments": {},
   "cell_type": "markdown",
   "metadata": {},
   "source": [
    "### 모델 학습을 통해 실제값과 거의 비슷한 값을 얻어낼 수 있었다.\n",
    "### 우선 노드에 나온 순서대로 코드를 작성하여 값을 얻어 내었다.\n",
    "### 노드에 나온 순서대로 하다보니 수치를 수십번 조정하여 원하던 그래프를 얻어 낼수 있었다.(batch_size가 제일 영향이 높음)\n",
    "### 추가로 실제값과 예측값을 비교하여 모델을 제대로 학습 시킬수 있었다.\n",
    "### 다량의 데이터들을 모델학습하여 나온 결과값들을 쉽게 예측할 수 있었던 시간이었다.\n",
    "### mae값을 최대한 실제값과 근사한 값을 도출해 내었다.\n",
    "### 코드 부분은 구글링을 통해서 조금씩 수정하여 파일을 완성시켰다.\n",
    "### 지난번 프로젝트보다 시간적여유가 조금 더 있었던거 같아 나름 좀 더 고민하고 생각할 수 있는 시간이 되었던거 같아 의미있었다."
   ]
  }
 ],
 "metadata": {
  "kernelspec": {
   "display_name": "base",
   "language": "python",
   "name": "python3"
  },
  "language_info": {
   "codemirror_mode": {
    "name": "ipython",
    "version": 3
   },
   "file_extension": ".py",
   "mimetype": "text/x-python",
   "name": "python",
   "nbconvert_exporter": "python",
   "pygments_lexer": "ipython3",
   "version": "3.9.13"
  },
  "orig_nbformat": 4,
  "vscode": {
   "interpreter": {
    "hash": "2d013bb7f9a62b6946986c9892ec4f92778a127187ad0bd610a340e8d6e8b3c6"
   }
  }
 },
 "nbformat": 4,
 "nbformat_minor": 2
}
