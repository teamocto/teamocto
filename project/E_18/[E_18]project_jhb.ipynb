{
 "cells": [
  {
   "cell_type": "markdown",
   "id": "becc7156",
   "metadata": {},
   "source": [
    "# 18. 번역기를 만들어보자"
   ]
  },
  {
   "cell_type": "code",
   "execution_count": 1,
   "id": "971b3bba",
   "metadata": {},
   "outputs": [],
   "source": [
    "import os\n",
    "import pandas as pd\n",
    "import numpy as np\n",
    "import re\n",
    "\n",
    "from tensorflow.keras.preprocessing.text import Tokenizer\n",
    "from tensorflow.keras.preprocessing.sequence import pad_sequences\n",
    "from tensorflow.keras.utils import to_categorical\n",
    "from tensorflow.keras.layers import Input, LSTM, Embedding, Dense, Masking\n",
    "from tensorflow.keras.models import Model"
   ]
  },
  {
   "cell_type": "code",
   "execution_count": 2,
   "id": "a23f7239",
   "metadata": {},
   "outputs": [
    {
     "name": "stdout",
     "output_type": "stream",
     "text": [
      "전체 샘플의 수 : 208906\n"
     ]
    },
    {
     "data": {
      "text/html": [
       "<div>\n",
       "<style scoped>\n",
       "    .dataframe tbody tr th:only-of-type {\n",
       "        vertical-align: middle;\n",
       "    }\n",
       "\n",
       "    .dataframe tbody tr th {\n",
       "        vertical-align: top;\n",
       "    }\n",
       "\n",
       "    .dataframe thead th {\n",
       "        text-align: right;\n",
       "    }\n",
       "</style>\n",
       "<table border=\"1\" class=\"dataframe\">\n",
       "  <thead>\n",
       "    <tr style=\"text-align: right;\">\n",
       "      <th></th>\n",
       "      <th>eng</th>\n",
       "      <th>fra</th>\n",
       "      <th>cc</th>\n",
       "    </tr>\n",
       "  </thead>\n",
       "  <tbody>\n",
       "    <tr>\n",
       "      <th>110230</th>\n",
       "      <td>That isn't really my problem.</td>\n",
       "      <td>Ce n'est pas vraiment mon problème.</td>\n",
       "      <td>CC-BY 2.0 (France) Attribution: tatoeba.org #1...</td>\n",
       "    </tr>\n",
       "    <tr>\n",
       "      <th>149085</th>\n",
       "      <td>I would never question his honesty.</td>\n",
       "      <td>Je ne douterais jamais de son honnêteté.</td>\n",
       "      <td>CC-BY 2.0 (France) Attribution: tatoeba.org #2...</td>\n",
       "    </tr>\n",
       "    <tr>\n",
       "      <th>5552</th>\n",
       "      <td>Is this love?</td>\n",
       "      <td>Est-ce de l'amour ?</td>\n",
       "      <td>CC-BY 2.0 (France) Attribution: tatoeba.org #3...</td>\n",
       "    </tr>\n",
       "    <tr>\n",
       "      <th>60724</th>\n",
       "      <td>It's pretty incredible.</td>\n",
       "      <td>C'est plutôt incroyable.</td>\n",
       "      <td>CC-BY 2.0 (France) Attribution: tatoeba.org #1...</td>\n",
       "    </tr>\n",
       "    <tr>\n",
       "      <th>121412</th>\n",
       "      <td>Have you ever opened this door?</td>\n",
       "      <td>Avez-vous déjà ouvert cette porte ?</td>\n",
       "      <td>CC-BY 2.0 (France) Attribution: tatoeba.org #1...</td>\n",
       "    </tr>\n",
       "  </tbody>\n",
       "</table>\n",
       "</div>"
      ],
      "text/plain": [
       "                                        eng  \\\n",
       "110230        That isn't really my problem.   \n",
       "149085  I would never question his honesty.   \n",
       "5552                          Is this love?   \n",
       "60724               It's pretty incredible.   \n",
       "121412      Have you ever opened this door?   \n",
       "\n",
       "                                             fra  \\\n",
       "110230       Ce n'est pas vraiment mon problème.   \n",
       "149085  Je ne douterais jamais de son honnêteté.   \n",
       "5552                         Est-ce de l'amour ?   \n",
       "60724                   C'est plutôt incroyable.   \n",
       "121412       Avez-vous déjà ouvert cette porte ?   \n",
       "\n",
       "                                                       cc  \n",
       "110230  CC-BY 2.0 (France) Attribution: tatoeba.org #1...  \n",
       "149085  CC-BY 2.0 (France) Attribution: tatoeba.org #2...  \n",
       "5552    CC-BY 2.0 (France) Attribution: tatoeba.org #3...  \n",
       "60724   CC-BY 2.0 (France) Attribution: tatoeba.org #1...  \n",
       "121412  CC-BY 2.0 (France) Attribution: tatoeba.org #1...  "
      ]
     },
     "execution_count": 2,
     "metadata": {},
     "output_type": "execute_result"
    }
   ],
   "source": [
    "file_path = os.getenv('HOME')+'/aiffel/translator_seq2seq/data/fra.txt'\n",
    "lines = pd.read_csv(file_path, names=['eng', 'fra', 'cc'], sep='\\t')\n",
    "print('전체 샘플의 수 :',len(lines))\n",
    "lines.sample(5) #샘플 5개 출력"
   ]
  },
  {
   "cell_type": "code",
   "execution_count": 3,
   "id": "bac45648",
   "metadata": {},
   "outputs": [
    {
     "data": {
      "text/html": [
       "<div>\n",
       "<style scoped>\n",
       "    .dataframe tbody tr th:only-of-type {\n",
       "        vertical-align: middle;\n",
       "    }\n",
       "\n",
       "    .dataframe tbody tr th {\n",
       "        vertical-align: top;\n",
       "    }\n",
       "\n",
       "    .dataframe thead th {\n",
       "        text-align: right;\n",
       "    }\n",
       "</style>\n",
       "<table border=\"1\" class=\"dataframe\">\n",
       "  <thead>\n",
       "    <tr style=\"text-align: right;\">\n",
       "      <th></th>\n",
       "      <th>eng</th>\n",
       "      <th>fra</th>\n",
       "    </tr>\n",
       "  </thead>\n",
       "  <tbody>\n",
       "    <tr>\n",
       "      <th>17248</th>\n",
       "      <td>We're separated.</td>\n",
       "      <td>Nous sommes séparés.</td>\n",
       "    </tr>\n",
       "    <tr>\n",
       "      <th>7330</th>\n",
       "      <td>I canceled it.</td>\n",
       "      <td>Je l'ai annulée.</td>\n",
       "    </tr>\n",
       "    <tr>\n",
       "      <th>3763</th>\n",
       "      <td>OK, you win.</td>\n",
       "      <td>D'accord, tu as gagné.</td>\n",
       "    </tr>\n",
       "    <tr>\n",
       "      <th>5315</th>\n",
       "      <td>I'm a priest.</td>\n",
       "      <td>Je suis prêtre.</td>\n",
       "    </tr>\n",
       "    <tr>\n",
       "      <th>4358</th>\n",
       "      <td>You are big.</td>\n",
       "      <td>Vous êtes grands.</td>\n",
       "    </tr>\n",
       "  </tbody>\n",
       "</table>\n",
       "</div>"
      ],
      "text/plain": [
       "                    eng                     fra\n",
       "17248  We're separated.    Nous sommes séparés.\n",
       "7330     I canceled it.        Je l'ai annulée.\n",
       "3763       OK, you win.  D'accord, tu as gagné.\n",
       "5315      I'm a priest.         Je suis prêtre.\n",
       "4358       You are big.       Vous êtes grands."
      ]
     },
     "execution_count": 3,
     "metadata": {},
     "output_type": "execute_result"
    }
   ],
   "source": [
    "lines = lines[['eng', 'fra']][:33000] # 5만개 샘플 사용\n",
    "lines.sample(5)"
   ]
  },
  {
   "cell_type": "markdown",
   "id": "8d74470f",
   "metadata": {},
   "source": [
    "## 프로그레싱"
   ]
  },
  {
   "cell_type": "code",
   "execution_count": 4,
   "id": "ccc98497",
   "metadata": {},
   "outputs": [],
   "source": [
    "def preprocess_sentence(sentence):\n",
    "    sentence = sentence.lower().strip()\n",
    "  \n",
    "    sentence = re.sub(r\"([?.!,¿])\", r\" \\1 \", sentence)\n",
    "    sentence = re.sub(r'[\" \"]+', \" \", sentence)\n",
    "    sentence = re.sub(r\"[^a-zA-Z?.!]+\", \" \", sentence)\n",
    "    \n",
    "    sentence = sentence.strip()\n",
    "    sentence = sentence.split(\" \")\n",
    "    \n",
    "    return sentence"
   ]
  },
  {
   "cell_type": "code",
   "execution_count": 5,
   "id": "bd8a57e9",
   "metadata": {},
   "outputs": [],
   "source": [
    "def preprocess_sentence_decoder(sentence):\n",
    "    sentence = sentence.lower().strip()\n",
    "  \n",
    "    sentence = re.sub(r\"([?.!,¿])\", r\" \\1 \", sentence)\n",
    "    sentence = re.sub(r'[\" \"]+', \" \", sentence)\n",
    "    sentence = re.sub(r\"[^a-zA-Z?.!]+\", \" \", sentence)\n",
    "    \n",
    "    sentence = sentence.strip()\n",
    "    sentence = '<start> ' + sentence + ' <end>'\n",
    "    sentence = sentence.split(\" \")\n",
    "    \n",
    "    return sentence"
   ]
  },
  {
   "cell_type": "code",
   "execution_count": 6,
   "id": "64655b54",
   "metadata": {},
   "outputs": [],
   "source": [
    "lines.eng = lines.eng.apply(lambda x : preprocess_sentence(x))\n",
    "lines.fra = lines.fra.apply(lambda x : preprocess_sentence_decoder(x))"
   ]
  },
  {
   "cell_type": "code",
   "execution_count": 7,
   "id": "86d832c7",
   "metadata": {},
   "outputs": [
    {
     "data": {
      "text/plain": [
       "28290    [what, do, we, do, now, ?]\n",
       "29780     [everybody, is, alive, .]\n",
       "17888       [are, you, blushing, ?]\n",
       "17520        [you, heard, wrong, .]\n",
       "24601    [i, gave, him, a, call, .]\n",
       "Name: eng, dtype: object"
      ]
     },
     "execution_count": 7,
     "metadata": {},
     "output_type": "execute_result"
    }
   ],
   "source": [
    "lines.eng.sample(5)"
   ]
  },
  {
   "cell_type": "code",
   "execution_count": 8,
   "id": "8ea4a07c",
   "metadata": {},
   "outputs": [
    {
     "data": {
      "text/plain": [
       "18962    [<start>, je, me, suis, cogn, le, genou, ., <e...\n",
       "26310          [<start>, non, ne, le, fais, pas, ., <end>]\n",
       "31381        [<start>, je, veux, que, tu, aides, ., <end>]\n",
       "16937                  [<start>, tom, est, ravi, ., <end>]\n",
       "15869       [<start>, maintenant, va, t, amuser, ., <end>]\n",
       "Name: fra, dtype: object"
      ]
     },
     "execution_count": 8,
     "metadata": {},
     "output_type": "execute_result"
    }
   ],
   "source": [
    "lines.fra.sample(5)"
   ]
  },
  {
   "cell_type": "code",
   "execution_count": 9,
   "id": "a815bacb",
   "metadata": {},
   "outputs": [],
   "source": [
    "eng_tokenizer = Tokenizer()\n",
    "eng_tokenizer.fit_on_texts(lines.eng)"
   ]
  },
  {
   "cell_type": "code",
   "execution_count": 10,
   "id": "239867d6",
   "metadata": {
    "scrolled": true
   },
   "outputs": [
    {
     "name": "stdout",
     "output_type": "stream",
     "text": [
      "{'.': 1, 'i': 2, 'you': 3, '?': 4, 'it': 5, 'tom': 6, 's': 7, 'is': 8, 'a': 9, 're': 10, 'm': 11, 'we': 12, 't': 13, 'that': 14, 'he': 15, 'the': 16, 'me': 17, 'was': 18, 'this': 19, 'to': 20, 'are': 21, '!': 22, 'do': 23, 'can': 24, 'they': 25, 'my': 26, 'go': 27, 'your': 28, 'have': 29, 'don': 30, 'not': 31, 'll': 32, 'be': 33, 'she': 34, 'no': 35, 'let': 36, 'what': 37, 'did': 38, 'here': 39, 'like': 40, 'all': 41, 'in': 42, 'get': 43, 'how': 44, 'up': 45, 'on': 46, 'very': 47, 'need': 48, 'one': 49, 'want': 50, 'him': 51, 'love': 52, 'out': 53, 'please': 54, 'who': 55, 'come': 56, 'know': 57, 'just': 58, 'take': 59, 'stop': 60, 'now': 61, 'so': 62, 'us': 63, 'look': 64, 'there': 65, 'got': 66, 'help': 67, 'of': 68, 'too': 69, 'for': 70, 'good': 71, 'see': 72, 'at': 73, 've': 74, 'will': 75, 'keep': 76, 'am': 77, 'had': 78, 'has': 79, 'were': 80, 'back': 81, 'give': 82, 'stay': 83, 'home': 84, 'saw': 85, 'feel': 86, 'must': 87, 'alone': 88, 'happy': 89, 'where': 90, 'try': 91, 'leave': 92, 'her': 93, 'work': 94, 'didn': 95, 'hate': 96, 'car': 97, 'why': 98, 'everyone': 99, 'again': 100, 'lost': 101, 'busy': 102, 'won': 103, 'them': 104, 'isn': 105, 'an': 106, 'eat': 107, 'made': 108, 'may': 109, 'right': 110, 'felt': 111, 'time': 112, 'his': 113, 'dog': 114, 'never': 115, 'down': 116, 'went': 117, 'well': 118, 'ready': 119, 'wait': 120, 'going': 121, 'still': 122, 'job': 123, 'nice': 124, 'away': 125, 'big': 126, 'with': 127, 'mary': 128, 'looks': 129, 'tell': 130, 'off': 131, 'bad': 132, 'does': 133, 'say': 134, 'drink': 135, 'done': 136, 'make': 137, 'fun': 138, 'think': 139, 'call': 140, 'book': 141, 'over': 142, 'hurt': 143, 'should': 144, 'about': 145, 'left': 146, 'safe': 147, 'mine': 148, 'tired': 149, 'could': 150, 'really': 151, 'some': 152, 'late': 153, 'talk': 154, 'lot': 155, 'old': 156, 'careful': 157, 'kept': 158, 'french': 159, 'money': 160, 'wasn': 161, 'came': 162, 'our': 163, 'enough': 164, 'open': 165, 'ok': 166, 'cold': 167, 'easy': 168, 'likes': 169, 'new': 170, 'd': 171, 'wrong': 172, 'way': 173, 'today': 174, 'read': 175, 'live': 176, 'hurry': 177, 'bed': 178, 'day': 179, 'said': 180, 'hard': 181, 'funny': 182, 'room': 183, 'run': 184, 'sit': 185, 'more': 186, 'loves': 187, 'nobody': 188, 'sure': 189, 'water': 190, 'ask': 191, 'broke': 192, 'everything': 193, 'find': 194, 'watch': 195, 'miss': 196, 'everybody': 197, 'died': 198, 'gave': 199, 'much': 200, 'cat': 201, 'idea': 202, 'trust': 203, 'better': 204, 'upset': 205, 'nothing': 206, 'man': 207, 'hope': 208, 'yours': 209, 'house': 210, 'anyone': 211, 'hear': 212, 'sleep': 213, 'door': 214, 'crazy': 215, 'by': 216, 'show': 217, 'sick': 218, 'put': 219, 'win': 220, 'free': 221, 'found': 222, 'both': 223, 'play': 224, 'pay': 225, 'turn': 226, 'seems': 227, 'die': 228, 'angry': 229, 'early': 230, 'buy': 231, 'sad': 232, 'true': 233, 'life': 234, 'hungry': 235, 'bit': 236, 'called': 237, 'sing': 238, 'dead': 239, 'school': 240, 'quit': 241, 'swim': 242, 'bring': 243, 'check': 244, 'aren': 245, 'knew': 246, 'stupid': 247, 'friends': 248, 'fine': 249, 'lucky': 250, 'mad': 251, 'sat': 252, 'these': 253, 'gone': 254, 'eyes': 255, 'only': 256, 'care': 257, 'tall': 258, 'forget': 259, 'walk': 260, 'coming': 261, 'yourself': 262, 'heard': 263, 'took': 264, 'mean': 265, 'close': 266, 'hand': 267, 'looked': 268, 'drunk': 269, 'kidding': 270, 'working': 271, 'and': 272, 'move': 273, 'fast': 274, 'wine': 275, 'name': 276, 'speak': 277, 'first': 278, 'shot': 279, 'knows': 280, 'beer': 281, 'sorry': 282, 'thanks': 283, 'cool': 284, 'stand': 285, 'serious': 286, 'great': 287, 'being': 288, 'perfect': 289, 'quiet': 290, 'enjoy': 291, 'remember': 292, 'once': 293, 'handle': 294, 'calm': 295, 'fat': 296, 'outside': 297, 'doing': 298, 'yet': 299, 'answer': 300, 'cry': 301, 'start': 302, 'boy': 303, 'friend': 304, 'hold': 305, 'liked': 306, 'loved': 307, 'ahead': 308, 'ate': 309, 'best': 310, 'wants': 311, 'almost': 312, 'quite': 313, 'been': 314, 'stopped': 315, 'from': 316, 'listen': 317, 'shut': 318, 'follow': 319, 'inside': 320, 'hot': 321, 'met': 322, 'problem': 323, 'anybody': 324, 'hat': 325, 'needed': 326, 'naive': 327, 'running': 328, 'already': 329, 'hair': 330, 'wanted': 331, 'long': 332, 'wake': 333, 'use': 334, 'rich': 335, 'bus': 336, 'seat': 337, 'nuts': 338, 'myself': 339, 'key': 340, 'scared': 341, 'touch': 342, 'food': 343, 'son': 344, 'something': 345, 'coffee': 346, 'as': 347, 'doesn': 348, 'fell': 349, 'drive': 350, 'fired': 351, 'write': 352, 'soon': 353, 'married': 354, 'nervous': 355, 'someone': 356, 'owe': 357, 'tried': 358, 'sign': 359, 'around': 360, 'fish': 361, 'caught': 362, 'child': 363, 'bag': 364, 'finished': 365, 'plan': 366, 'when': 367, 'drop': 368, 'lie': 369, 'ran': 370, 'works': 371, 'change': 372, 'invited': 373, 'gun': 374, 'kind': 375, 'beat': 376, 'brave': 377, 'fix': 378, 'hurts': 379, 'weird': 380, 'told': 381, 'sweet': 382, 'changed': 383, 'needs': 384, 'girls': 385, 'believe': 386, 'music': 387, 'wife': 388, 'seem': 389, 'began': 390, 'hit': 391, 'grab': 392, 'lazy': 393, 'luck': 394, 'lying': 395, 'tv': 396, 'two': 397, 'break': 398, 'lunch': 399, 'joke': 400, 'pen': 401, 'hates': 402, 'teacher': 403, 'pretty': 404, 'word': 405, 'somebody': 406, 'red': 407, 'clean': 408, 'tea': 409, 'kids': 410, 'talking': 411, 'lose': 412, 'quickly': 413, 'seen': 414, 'those': 415, 'awesome': 416, 'agree': 417, 'catch': 418, 'laughed': 419, 'father': 420, 'boston': 421, 'tomorrow': 422, 'paid': 423, 'forgot': 424, 'strong': 425, 'dogs': 426, 'wonderful': 427, 'normal': 428, 'missed': 429, 'prepared': 430, 'fight': 431, 'excited': 432, 'doctor': 433, 'boss': 434, 'choice': 435, 'if': 436, 'mother': 437, 'lied': 438, 'after': 439, 'worked': 440, 'rest': 441, 'waited': 442, 'deal': 443, 'often': 444, 'confused': 445, 'smoke': 446, 'cute': 447, 'helped': 448, 'game': 449, 'head': 450, 'smart': 451, 'study': 452, 'crying': 453, 'next': 454, 'shoes': 455, 'slept': 456, 'amazing': 457, 'horse': 458, 'important': 459, 'would': 460, 'sounds': 461, 'shy': 462, 'lock': 463, 'awful': 464, 'cut': 465, 'guess': 466, 'lonely': 467, 'started': 468, 'young': 469, 'milk': 470, 'song': 471, 'whose': 472, 'arm': 473, 'afraid': 474, 'fault': 475, 'arrived': 476, 'couldn': 477, 'place': 478, 'fair': 479, 'rude': 480, 'hands': 481, 'joking': 482, 'asked': 483, 'bought': 484, 'saved': 485, 'slowly': 486, 'dream': 487, 'dinner': 488, 'trusted': 489, 'phone': 490, 'guy': 491, 'oldest': 492, 'cried': 493, 'kill': 494, 'terrific': 495, 'alive': 496, 'timid': 497, 'step': 498, 'smell': 499, 'moving': 500, 'winning': 501, 'upstairs': 502, 'always': 503, 'small': 504, 'tie': 505, 'which': 506, 'betrayed': 507, 'getting': 508, 'sound': 509, 'slow': 510, 'hang': 511, 'fit': 512, 'spoke': 513, 'honest': 514, 'cheated': 515, 'walked': 516, 'sleepy': 517, 'trying': 518, 'town': 519, 'vote': 520, 'count': 521, 'laugh': 522, 'leaving': 523, 'reading': 524, 'send': 525, 'pain': 526, 'killed': 527, 'minute': 528, 'into': 529, 'relax': 530, 'wise': 531, 'smiled': 532, 'weak': 533, 'tough': 534, 'dark': 535, 'eating': 536, 'mind': 537, 'age': 538, 'drank': 539, 'unlucky': 540, 'happened': 541, 'books': 542, 'might': 543, 'singing': 544, 'mom': 545, 'light': 546, 'trouble': 547, 'full': 548, 'relaxed': 549, 'retired': 550, 'yes': 551, 'last': 552, 'skinny': 553, 'ignore': 554, 'cats': 555, 'correct': 556, 'empty': 557, 'warned': 558, 'own': 559, 'student': 560, 'little': 561, 'end': 562, 'join': 563, 'kiss': 564, 'push': 565, 'real': 566, 'short': 567, 'warm': 568, 'bored': 569, 'worried': 570, 'wish': 571, 'many': 572, 'heart': 573, 'maybe': 574, 'things': 575, 'sent': 576, 'beautiful': 577, 'became': 578, 'family': 579, 'turned': 580, 'trip': 581, 'fire': 582, 'hello': 583, 'save': 584, 'woke': 585, 'cook': 586, 'tight': 587, 'hired': 588, 'duty': 589, 'box': 590, 'asleep': 591, 'cake': 592, 'set': 593, 'thirsty': 594, 'trapped': 595, 'closer': 596, 'bite': 597, 'anything': 598, 'blame': 599, 'smiling': 600, 'cops': 601, 'coat': 602, 'bike': 603, 'continue': 604, 'every': 605, 'guys': 606, 'obey': 607, 'blind': 608, 'dying': 609, 'face': 610, 'girl': 611, 'liar': 612, 'famous': 613, 'curious': 614, 'ashamed': 615, 'rain': 616, 'party': 617, 'mess': 618, 'understand': 619, 'shopping': 620, 'followed': 621, 'surprised': 622, 'point': 623, 'used': 624, 'bill': 625, 'movie': 626, 'wet': 627, 'choose': 628, 'far': 629, 'pardon': 630, 'thank': 631, 'news': 632, 'driving': 633, 'jealous': 634, 'shocked': 635, 'fake': 636, 'broken': 637, 'silent': 638, 'explain': 639, 'innocent': 640, 'involved': 641, 'black': 642, 'cruel': 643, 'god': 644, 'japanese': 645, 'exhausted': 646, 'listening': 647, 'raining': 648, 'boring': 649, 'throw': 650, 'charge': 651, 'behind': 652, 'story': 653, 'jump': 654, 'wash': 655, 'failed': 656, 'refuse': 657, 'ugly': 658, 'warn': 659, 'awake': 660, 'ours': 661, 'patient': 662, 'pick': 663, 'war': 664, 'creative': 665, 'finish': 666, 'bet': 667, 'shall': 668, 'kissed': 669, 'refused': 670, 'meet': 671, 'meat': 672, 'kid': 673, 'another': 674, 'pizza': 675, 'feet': 676, 'meant': 677, 'guilty': 678, 'foolish': 679, 'or': 680, 'believed': 681, 'satisfied': 682, 'terrible': 683, 'later': 684, 'ball': 685, 'lives': 686, 'keys': 687, 'dangerous': 688, 'truth': 689, 'doors': 690, 'desk': 691, 'born': 692, 'smile': 693, 'hug': 694, 'stood': 695, 'welcome': 696, 'helps': 697, 'fly': 698, 'excuse': 699, 'armed': 700, 'men': 701, 'forgive': 702, 'strange': 703, 'dance': 704, 'cash': 705, 'cooking': 706, 'fool': 707, 'useless': 708, 'team': 709, 'writing': 710, 'yelling': 711, 'control': 712, 'together': 713, 'ride': 714, 'raise': 715, 'boat': 716, 'camera': 717, 'watching': 718, 'carefully': 719, 'side': 720, 'sister': 721, 'feeling': 722, 'opened': 723, 'ill': 724, 'low': 725, 'taste': 726, 'seated': 727, 'naked': 728, 'agreed': 729, 'idiot': 730, 'clear': 731, 'along': 732, 'worry': 733, 'blue': 734, 'night': 735, 'sharp': 736, 'merciful': 737, 'snow': 738, 'secret': 739, 'list': 740, 'bath': 741, 'dress': 742, 'proof': 743, 'map': 744, 'risk': 745, 'positive': 746, 'nearby': 747, 'happen': 748, 'shame': 749, 'law': 750, 'polite': 751, 'survive': 752, 'nearly': 753, 'week': 754, 'ambitious': 755, 'danger': 756, 'motivated': 757, 'window': 758, 'laughing': 759, 'cup': 760, 'seemed': 761, 'rid': 762, 'park': 763, 'brought': 764, 'hi': 765, 'high': 766, 'cover': 767, 'talked': 768, 'bald': 769, 'glad': 770, 'dizzy': 771, 'wrote': 772, 'shoot': 773, 'hero': 774, 'drives': 775, 'even': 776, 'fear': 777, 'dancing': 778, 'stunned': 779, 'touched': 780, 'simple': 781, 'date': 782, 'hey': 783, 'silly': 784, 'decided': 785, 'looking': 786, 'dreaming': 787, 'any': 788, 'dry': 789, 'downstairs': 790, 'comes': 791, 'pleased': 792, 'resilient': 793, 'sense': 794, 'bell': 795, 'chance': 796, 'trusts': 797, 'rather': 798, 'train': 799, 'same': 800, 'speaks': 801, 'begin': 802, 'deep': 803, 'stayed': 804, 'okay': 805, 'beg': 806, 'stuck': 807, 'then': 808, 'content': 809, 'clever': 810, 'losing': 811, 'happens': 812, 'punctual': 813, 'hated': 814, 'scream': 815, 'starved': 816, 'remain': 817, 'escaped': 818, 'objective': 819, 'fearless': 820, 'snowing': 821, 'special': 822, 'focused': 823, 'unbelievable': 824, 'jobs': 825, 'matter': 826, 'favor': 827, 'feels': 828, 'tricked': 829, 'nose': 830, 'people': 831, 'impressed': 832, 'second': 833, 'rules': 834, 'makes': 835, 'having': 836, 'order': 837, 'brother': 838, 'children': 839, 'enemy': 840, 'shirt': 841, 'productive': 842, 'oh': 843, 'attack': 844, 'deaf': 845, 'giggled': 846, 'loosen': 847, 'lovely': 848, 'direct': 849, 'aside': 850, 'decide': 851, 'discreet': 852, 'friendly': 853, 'dumb': 854, 'baffled': 855, 'sincere': 856, 'unhappy': 857, 'loud': 858, 'confident': 859, 'teach': 860, 'resist': 861, 'annoying': 862, 'deserve': 863, 'singer': 864, 'powerful': 865, 'tense': 866, 'smells': 867, 'studying': 868, 'part': 869, 'fed': 870, 'badly': 871, 'finally': 872, 'fever': 873, 'skiing': 874, 'horses': 875, 'prefer': 876, 'concerned': 877, 'depressed': 878, 'different': 879, 'helping': 880, 'table': 881, 'near': 882, 'insane': 883, 'injured': 884, 'nonsense': 885, 'yourselves': 886, 'disgusting': 887, 'apple': 888, 'lit': 889, 'knife': 890, 'travel': 891, 'mistake': 892, 'expensive': 893, 'baby': 894, 'escape': 895, 'store': 896, 'noise': 897, 'ordered': 898, 'tonight': 899, 'fate': 900, 'flight': 901, 'bicycle': 902, 'sore': 903, 'eye': 904, 'person': 905, 'pull': 906, 'birds': 907, 'fantastic': 908, 'burned': 909, 'rush': 910, 'poor': 911, 'promised': 912, 'loaded': 913, 'drinks': 914, 'boys': 915, 'bother': 916, 'dressed': 917, 'grew': 918, 'chose': 919, 'fined': 920, 'moved': 921, 'dumped': 922, 'horrible': 923, 'pathetic': 924, 'lawyer': 925, 'divorced': 926, 'fighting': 927, 'pregnant': 928, 'stubborn': 929, 'cancer': 930, 'missing': 931, 'closely': 932, 'ended': 933, 'while': 934, 'arguing': 935, 'woman': 936, 'crime': 937, 'soccer': 938, 'rescued': 939, 'forgetful': 940, 'screaming': 941, 'leak': 942, 'six': 943, 'fishing': 944, 'bank': 945, 'proud': 946, 'protect': 947, 'fortunate': 948, 'but': 949, 'hide': 950, 'pass': 951, 'odd': 952, 'faster': 953, 'ski': 954, 'cheered': 955, 'noticed': 956, 'promise': 957, 'dirty': 958, 'fussy': 959, 'stinks': 960, 'hers': 961, 'breathe': 962, 'built': 963, 'amused': 964, 'buying': 965, 'single': 966, 'sneaky': 967, 'matters': 968, 'also': 969, 'soup': 970, 'messed': 971, 'eggs': 972, 'manage': 973, 'certain': 974, 'healthy': 975, 'staying': 976, 'monday': 977, 'memorize': 978, 'grow': 979, 'hugged': 980, 'says': 981, 'watched': 982, 'twins': 983, 'half': 984, 'plans': 985, 'sugar': 986, 'cab': 987, 'paint': 988, 'hopeless': 989, 'mistaken': 990, 'saint': 991, 'sleeping': 992, 'speaking': 993, 'walking': 994, 'sang': 995, 'else': 996, 'deny': 997, 'clock': 998, 'gear': 999, 'few': 1000, 'line': 1001, 'baked': 1002, 'note': 1003, 'summer': 1004, 'advice': 1005, 'played': 1006, 'surrendered': 1007, 'volunteered': 1008, 'prove': 1009, 'available': 1010, 'convinced': 1011, 'powerless': 1012, 'worth': 1013, 'moment': 1014, 'breath': 1015, 'tastes': 1016, 'shoe': 1017, 'crafty': 1018, 'complain': 1019, 'plays': 1020, 'panting': 1021, 'dad': 1022, 'animals': 1023, 'chair': 1024, 'interested': 1025, 'christmas': 1026, 'large': 1027, 'reply': 1028, 'goal': 1029, 'charming': 1030, 'stalling': 1031, 'students': 1032, 'envious': 1033, 'afford': 1034, 'death': 1035, 'truly': 1036, 'fabulous': 1037, 'himself': 1038, 'headache': 1039, 'frightened': 1040, 'example': 1041, 'parents': 1042, 'goodbye': 1043, 'runs': 1044, 'brief': 1045, 'phoned': 1046, 'crashed': 1047, 'hurried': 1048, 'seriously': 1049, 'prudent': 1050, 'quick': 1051, 'facts': 1052, 'doubt': 1053, 'air': 1054, 'panicked': 1055, 'screamed': 1056, 'ruined': 1057, 'cheap': 1058, 'pray': 1059, 'cheerful': 1060, 'ruthless': 1061, 'apologize': 1062, 'golf': 1063, 'sell': 1064, 'psychic': 1065, 'wealthy': 1066, 'doll': 1067, 'talks': 1068, 'return': 1069, 'coughed': 1070, 'drowned': 1071, 'rifle': 1072, 'admire': 1073, 'apples': 1074, 'twice': 1075, 'canadian': 1076, 'white': 1077, 'digging': 1078, 'quietly': 1079, 'smoking': 1080, 'stoned': 1081, 'closed': 1082, 'bird': 1083, 'demented': 1084, 'copy': 1085, 'blood': 1086, 'wore': 1087, 'allow': 1088, 'artist': 1089, 'impatient': 1090, 'treat': 1091, 'foot': 1092, 'number': 1093, 'peace': 1094, 'suit': 1095, 'shower': 1096, 'cousins': 1097, 'enemies': 1098, 'eaten': 1099, 'spot': 1100, 'cookies': 1101, 'harm': 1102, 'overworked': 1103, 'prices': 1104, 'road': 1105, 'alike': 1106, 'relieved': 1107, 'match': 1108, 'wouldn': 1109, 'alarmed': 1110, 'message': 1111, 'office': 1112, 'decision': 1113, 'believes': 1114, 'threatened': 1115, 'power': 1116, 'knees': 1117, 'thing': 1118, 'rained': 1119, 'burn': 1120, 'jumped': 1121, 'thin': 1122, 'bless': 1123, 'fainted': 1124, 'pack': 1125, 'voted': 1126, 'destroy': 1127, 'fill': 1128, 'canceled': 1129, 'envy': 1130, 'flinched': 1131, 'shaken': 1132, 'strict': 1133, 'thirty': 1134, 'green': 1135, 'generous': 1136, 'thorough': 1137, 'class': 1138, 'disagreed': 1139, 'bread': 1140, 'struggled': 1141, 'attend': 1142, 'chicken': 1143, 'finicky': 1144, 'spring': 1145, 'shake': 1146, 'leg': 1147, 'surprise': 1148, 'act': 1149, 'dope': 1150, 'kicked': 1151, 'arrogant': 1152, 'romantic': 1153, 'doubts': 1154, 'star': 1155, 'thought': 1156, 'learn': 1157, 'sue': 1158, 'ears': 1159, 'offended': 1160, 'thrilled': 1161, 'checked': 1162, 'obvious': 1163, 'staring': 1164, 'gold': 1165, 'pale': 1166, 'uneasy': 1167, 'talented': 1168, 'beware': 1169, 'feed': 1170, 'flowers': 1171, 'rope': 1172, 'deserved': 1173, 'winter': 1174, 'taxi': 1175, 'outrank': 1176, 'delighted': 1177, 'intrigued': 1178, 'fan': 1179, 'gets': 1180, 'weapon': 1181, 'tree': 1182, 'fooled': 1183, 'floor': 1184, 'doctors': 1185, 'bright': 1186, 'cows': 1187, 'grass': 1188, 'scolded': 1189, 'spiders': 1190, 'truck': 1191, 'attacked': 1192, 'astonished': 1193, 'contagious': 1194, 'vegetarian': 1195, 'picture': 1196, 'escaping': 1197, 'congratulations': 1198, 'glass': 1199, 'hour': 1200, 'pencil': 1201, 'kidnapped': 1202, 'embarrassed': 1203, 'such': 1204, 'fresh': 1205, 'sounded': 1206, 'smaller': 1207, 'answered': 1208, 'straight': 1209, 'sale': 1210, 'forgiven': 1211, 'daughter': 1212, 'yesterday': 1213, 'overreacting': 1214, 'conceited': 1215, 'unique': 1216, 'candles': 1217, 'weapons': 1218, 'sort': 1219, 'courageous': 1220, 'leader': 1221, 'master': 1222, 'banged': 1223, 'drove': 1224, 'obeyed': 1225, 'rested': 1226, 'snowed': 1227, 'course': 1228, 'walks': 1229, 'cares': 1230, 'admit': 1231, 'chuckled': 1232, 'disagree': 1233, 'exercise': 1234, 'fixed': 1235, 'greedy': 1236, 'humble': 1237, 'safer': 1238, 'comment': 1239, 'nap': 1240, 'cheat': 1241, 'yelled': 1242, 'harder': 1243, 'cancel': 1244, 'argue': 1245, 'jerk': 1246, 'rice': 1247, 'selfish': 1248, 'smashed': 1249, 'teasing': 1250, 'through': 1251, 'locked': 1252, 'split': 1253, 'paper': 1254, 'guessed': 1255, 'evil': 1256, 'fall': 1257, 'denied': 1258, 'exciting': 1259, 'apologized': 1260, 'draw': 1261, 'chess': 1262, 'jokes': 1263, 'robbed': 1264, 'genius': 1265, 'bluffing': 1266, 'grateful': 1267, 'obedient': 1268, 'waste': 1269, 'diary': 1270, 'goes': 1271, 'legs': 1272, 'command': 1273, 'scary': 1274, 'stole': 1275, 'translate': 1276, 'pitch': 1277, 'english': 1278, 'thief': 1279, 'adorable': 1280, 'despise': 1281, 'ring': 1282, 'tempted': 1283, 'terrified': 1284, 'coach': 1285, 'personal': 1286, 'possible': 1287, 'standing': 1288, 'bragging': 1289, 'anyway': 1290, 'adores': 1291, 'misled': 1292, 'remembers': 1293, 'packing': 1294, 'add': 1295, 'year': 1296, 'disappeared': 1297, 'outgoing': 1298, 'slapped': 1299, 'wide': 1300, 'painted': 1301, 'punished': 1302, 'glasses': 1303, 'making': 1304, 'holiday': 1305, 'speechless': 1306, 'roses': 1307, 'counting': 1308, 'blew': 1309, 'their': 1310, 'helpful': 1311, 'similar': 1312, 'remembered': 1313, 'earlier': 1314, 'cleaned': 1315, 'excused': 1316, 'expect': 1317, 'towel': 1318, 'partner': 1319, 'tongue': 1320, 'haven': 1321, 'learned': 1322, 'swimming': 1323, 'tennis': 1324, 'rang': 1325, 'city': 1326, 'incredible': 1327, 'its': 1328, 'ridiculous': 1329, 'gray': 1330, 'mouth': 1331, 'remove': 1332, 'repeat': 1333, 'separated': 1334, 'drinking': 1335, 'flexible': 1336, 'knee': 1337, 'candle': 1338, 'criminal': 1339, 'cousin': 1340, 'weight': 1341, 'belongs': 1342, 'ever': 1343, 'showed': 1344, 'promoted': 1345, 'hilarious': 1346, 'surrounded': 1347, 'talkative': 1348, 'three': 1349, 'photo': 1350, 'unconscious': 1351, 'downtown': 1352, 'fold': 1353, 'stink': 1354, 'cop': 1355, 'cooks': 1356, 'unlock': 1357, 'north': 1358, 'art': 1359, 'ice': 1360, 'survived': 1361, 'accept': 1362, 'twin': 1363, 'alert': 1364, 'replace': 1365, 'cooked': 1366, 'sec': 1367, 'fail': 1368, 'sensible': 1369, 'eight': 1370, 'resigned': 1371, 'fruit': 1372, 'gas': 1373, 'washed': 1374, 'dieting': 1375, 'engaged': 1376, 'popular': 1377, 'legal': 1378, 'flat': 1379, 'ironic': 1380, 'huge': 1381, 'numb': 1382, 'easily': 1383, 'games': 1384, 'understood': 1385, 'addicted': 1386, 'bleeding': 1387, 'faithful': 1388, 'freezing': 1389, 'grounded': 1390, 'outraged': 1391, 'reliable': 1392, 'reserved': 1393, 'starving': 1394, 'unfair': 1395, 'hideous': 1396, 'recess': 1397, 'dreams': 1398, 'approved': 1399, 'pig': 1400, 'focus': 1401, 'overslept': 1402, 'mature': 1403, 'words': 1404, 'expert': 1405, 'maid': 1406, 'ignored': 1407, 'type': 1408, 'fought': 1409, 'clue': 1410, 'nature': 1411, 'insist': 1412, 'ought': 1413, 'tied': 1414, 'stabbed': 1415, 'disgusted': 1416, 'expecting': 1417, 'impulsive': 1418, 'uninsured': 1419, 'apart': 1420, 'unlocked': 1421, 'climbing': 1422, 'proceed': 1423, 'attention': 1424, 'gambling': 1425, 'clearly': 1426, 'stuff': 1427, 'suits': 1428, 'creepy': 1429, 'vulgar': 1430, 'remarried': 1431, 'scares': 1432, 'till': 1433, 'succeed': 1434, 'related': 1435, 'waiting': 1436, 'grumpy': 1437, 'annoy': 1438, 'judge': 1439, 'guns': 1440, 'form': 1441, 'van': 1442, 'borrow': 1443, 'arrested': 1444, 'playing': 1445, 'sun': 1446, 'welcomed': 1447, 'devastated': 1448, 'bargain': 1449, 'prepare': 1450, 'meter': 1451, 'awkward': 1452, 'complained': 1453, 'precise': 1454, 'harmless': 1455, 'prude': 1456, 'interrupt': 1457, 'mercy': 1458, 'dreamer': 1459, 'appreciate': 1460, 'notice': 1461, 'sons': 1462, 'lay': 1463, 'tissue': 1464, 'mayor': 1465, 'totally': 1466, 'witness': 1467, 'horrified': 1468, 'volunteer': 1469, 'able': 1470, 'handsome': 1471, 'necessary': 1472, 'unusual': 1473, 'windy': 1474, 'sour': 1475, 'niece': 1476, 'leaves': 1477, 'held': 1478, 'repulsive': 1479, 'punched': 1480, 'cannot': 1481, 'disloyal': 1482, 'cross': 1483, 'juice': 1484, 'debt': 1485, 'embarrassing': 1486, 'sweat': 1487, 'traveling': 1488, 'breakfast': 1489, 'rarely': 1490, 'aggressive': 1491, 'search': 1492, 'entered': 1493, 'courteous': 1494, 'weren': 1495, 'heavy': 1496, 'advance': 1497, 'days': 1498, 'familiar': 1499, 'pants': 1500, 'weather': 1501, 'brainer': 1502, 'bothering': 1503, 'letting': 1504, 'wow': 1505, 'bury': 1506, 'aim': 1507, 'tries': 1508, 'east': 1509, 'west': 1510, 'hung': 1511, 'biased': 1512, 'fad': 1513, 'flies': 1514, 'watchful': 1515, 'panic': 1516, 'share': 1517, 'confessed': 1518, 'beans': 1519, 'mice': 1520, 'rock': 1521, 'recovered': 1522, 'cars': 1523, 'succeeded': 1524, 'jittery': 1525, 'puzzled': 1526, 'sloshed': 1527, 'unarmed': 1528, 'fact': 1529, 'pipe': 1530, 'trap': 1531, 'cloudy': 1532, 'enter': 1533, 'timing': 1534, 'card': 1535, 'plants': 1536, 'icky': 1537, 'caution': 1538, 'guest': 1539, 'beef': 1540, 'snack': 1541, 'driven': 1542, 'enjoyed': 1543, 'faint': 1544, 'giddy': 1545, 'lousy': 1546, 'handled': 1547, 'honey': 1548, 'sushi': 1549, 'women': 1550, 'rose': 1551, 'smelled': 1552, 'farmer': 1553, 'member': 1554, 'drowning': 1555, 'rumor': 1556, 'garbage': 1557, 'genuine': 1558, 'forward': 1559, 'stir': 1560, 'pushing': 1561, 'trash': 1562, 'bores': 1563, 'dating': 1564, 'shock': 1565, 'years': 1566, 'ain': 1567, 'respectful': 1568, 'blow': 1569, 'kite': 1570, 'dropped': 1571, 'sells': 1572, 'american': 1573, 'caused': 1574, 'contributed': 1575, 'movies': 1576, 'salmon': 1577, 'hiking': 1578, 'object': 1579, 'respect': 1580, 'plane': 1581, 'pool': 1582, 'contented': 1583, 'flattered': 1584, 'miserable': 1585, 'observant': 1586, 'saying': 1587, 'worse': 1588, 'takes': 1589, 'test': 1590, 'accurate': 1591, 'differ': 1592, 'texted': 1593, 'growing': 1594, 'racist': 1595, 'mug': 1596, 'video': 1597, 'uncle': 1598, 'keeps': 1599, 'corrected': 1600, 'letter': 1601, 'secrets': 1602, 'flu': 1603, 'dessert': 1604, 'protest': 1605, 'details': 1606, 'deceived': 1607, 'insulted': 1608, 'wear': 1609, 'testify': 1610, 'survivor': 1611, 'optimistic': 1612, 'successful': 1613, 'untalented': 1614, 'miracle': 1615, 'peel': 1616, 'teased': 1617, 'beauty': 1618, 'snap': 1619, 'price': 1620, 'radio': 1621, 'calmly': 1622, 'brothers': 1623, 'helpless': 1624, 'country': 1625, 'capsized': 1626, 'police': 1627, 'trunk': 1628, 'signed': 1629, 'comfortable': 1630, 'dawn': 1631, 'hardly': 1632, 'cheating': 1633, 'writes': 1634, 'husband': 1635, 'photogenic': 1636, 'violence': 1637, 'evidence': 1638, 'homework': 1639, 'showered': 1640, 'misjudged': 1641, 'hammer': 1642, 'seldom': 1643, 'calling': 1644, 'color': 1645, 'minded': 1646, 'modest': 1647, 'happening': 1648, 'allowed': 1649, 'seven': 1650, 'ago': 1651, 'negotiate': 1652, 'alarm': 1653, 'texting': 1654, 'church': 1655, 'sky': 1656, 'exit': 1657, 'sipped': 1658, 'wears': 1659, 'dishes': 1660, 'visit': 1661, 'organized': 1662, 'prisoners': 1663, 'stolen': 1664, 'crack': 1665, 'startled': 1666, 'blushing': 1667, 'drawer': 1668, 'concentrate': 1669, 'blanket': 1670, 'remained': 1671, 'cap': 1672, 'computer': 1673, 'month': 1674, 'retire': 1675, 'stressed': 1676, 'difficult': 1677, 'rainy': 1678, 'sunny': 1679, 'gain': 1680, 'elaborate': 1681, 'tire': 1682, 'complaining': 1683, 'sports': 1684, 'released': 1685, 'mistakes': 1686, 'taking': 1687, 'five': 1688, 'hobby': 1689, 'traitor': 1690, 'obnoxious': 1691, 'screw': 1692, 'question': 1693, 'arms': 1694, 'pet': 1695, 'raised': 1696, 'shook': 1697, 'raking': 1698, 'graduate': 1699, 'style': 1700, 'garden': 1701, 'wild': 1702, 'driver': 1703, 'jacket': 1704, 'registered': 1705, 'using': 1706, 'confirm': 1707, 'forced': 1708, 'comic': 1709, 'log': 1710, 'gotten': 1711, 'strive': 1712, 'duck': 1713, 'cheers': 1714, 'knit': 1715, 'dozed': 1716, 'snore': 1717, 'waved': 1718, 'skip': 1719, 'marry': 1720, 'cringed': 1721, 'exhaled': 1722, 'loyal': 1723, 'sand': 1724, 'seize': 1725, 'swam': 1726, 'aboard': 1727, 'carry': 1728, 'fret': 1729, 'south': 1730, 'absurd': 1731, 'tragic': 1732, 'listened': 1733, 'squinted': 1734, 'baking': 1735, 'chubby': 1736, 'paying': 1737, 'wept': 1738, 'lighten': 1739, 'notes': 1740, 'winced': 1741, 'comfort': 1742, 'guts': 1743, 'hesitated': 1744, 'math': 1745, 'taxes': 1746, 'lips': 1747, 'baker': 1748, 'medic': 1749, 'blessed': 1750, 'falling': 1751, 'furious': 1752, 'stuffed': 1753, 'rule': 1754, 'scam': 1755, 'poison': 1756, 'lift': 1757, 'means': 1758, 'press': 1759, 'blushed': 1760, 'stick': 1761, 'grim': 1762, 'pity': 1763, 'ship': 1764, 'attentive': 1765, 'realistic': 1766, 'safely': 1767, 'evening': 1768, 'donut': 1769, 'poet': 1770, 'bigot': 1771, 'opera': 1772, 'risks': 1773, 'coward': 1774, 'diabetic': 1775, 'homeless': 1776, 'homesick': 1777, 'angel': 1778, 'rational': 1779, 'truthful': 1780, 'deer': 1781, 'wolf': 1782, 'bedtime': 1783, 'pigs': 1784, 'plug': 1785, 'sued': 1786, 'loser': 1787, 'ink': 1788, 'passed': 1789, 'bossy': 1790, 'included': 1791, 'reasonable': 1792, 'supportive': 1793, 'skate': 1794, 'gamble': 1795, 'wins': 1796, 'deeply': 1797, 'pinched': 1798, 'admired': 1799, 'muslim': 1800, 'cough': 1801, 'dislike': 1802, 'steal': 1803, 'bananas': 1804, 'freaked': 1805, 'elected': 1806, 'tenure': 1807, 'cheese': 1808, 'rescheduled': 1809, 'ghost': 1810, 'behave': 1811, 'budge': 1812, 'plumber': 1813, 'tourist': 1814, 'committed': 1815, 'dedicated': 1816, 'desperate': 1817, 'shivering': 1818, 'skeptical': 1819, 'gift': 1820, 'saturday': 1821, 'relief': 1822, 'business': 1823, 'outdated': 1824, 'seal': 1825, 'model': 1826, 'sweep': 1827, 'cow': 1828, 'oven': 1829, 'japan': 1830, 'joined': 1831, 'annoyed': 1832, 'page': 1833, 'before': 1834, 'respond': 1835, 'thinks': 1836, 'mail': 1837, 'wicked': 1838, 'qualified': 1839, 'hiring': 1840, 'beard': 1841, 'gambler': 1842, 'flunk': 1843, 'honored': 1844, 'nauseous': 1845, 'vision': 1846, 'carrots': 1847, 'parties': 1848, 'sisters': 1849, 'college': 1850, 'plead': 1851, 'puppy': 1852, 'revenge': 1853, 'captured': 1854, 'careless': 1855, 'guide': 1856, 'against': 1857, 'diplomatic': 1858, 'exercising': 1859, 'fascinated': 1860, 'undressing': 1861, 'redundant': 1862, 'risky': 1863, 'larger': 1864, 'biting': 1865, 'appeared': 1866, 'whistling': 1867, 'bunch': 1868, 'hogwash': 1869, 'illegal': 1870, 'rubbish': 1871, 'annoys': 1872, 'intervened': 1873, 'unmoved': 1874, 'volunteers': 1875, 'sweating': 1876, 'retiring': 1877, 'tragedy': 1878, 'causes': 1879, 'wipe': 1880, 'present': 1881, 'bees': 1882, 'brush': 1883, 'dismissed': 1884, 'overdo': 1885, 'solution': 1886, 'mentioned': 1887, 'studied': 1888, 'adventurous': 1889, 'abhor': 1890, 'seizure': 1891, 'resign': 1892, 'leukemia': 1893, 'returned': 1894, 'solve': 1895, 'celebrating': 1896, 'cracking': 1897, 'training': 1898, 'interfering': 1899, 'introverted': 1900, 'soaking': 1901, 'breathing': 1902, 'habit': 1903, 'moldy': 1904, 'impressive': 1905, 'irrelevant': 1906, 'terrifying': 1907, 'bottle': 1908, 'neither': 1909, 'seeing': 1910, 'orange': 1911, 'assertive': 1912, 'lake': 1913, 'sea': 1914, 'feared': 1915, 'rabbits': 1916, 'immature': 1917, 'suffer': 1918, 'panicking': 1919, 'suffered': 1920, 'ideas': 1921, 'giving': 1922, 'pleasure': 1923, 'cost': 1924, 'teaches': 1925, 'naughty': 1926, 'barking': 1927, 'fuse': 1928, 'blown': 1929, 'apply': 1930, 'chef': 1931, 'teeth': 1932, 'top': 1933, 'street': 1934, 'mention': 1935, 'reason': 1936, 'umbrella': 1937, 'suddenly': 1938, 'distracted': 1939, 'arabic': 1940, 'ticket': 1941, 'sneezed': 1942, 'hybrid': 1943, 'empowered': 1944, 'hay': 1945, 'coughing': 1946, 'beach': 1947, 'egg': 1948, 'humiliated': 1949, 'sunday': 1950, 'fairly': 1951, 'shape': 1952, 'company': 1953, 'washing': 1954, 'size': 1955, 'sofa': 1956, 'pure': 1957, 'informed': 1958, 'repair': 1959, 'cards': 1960, 'planet': 1961, 'socks': 1962, 'rejected': 1963, 'wisely': 1964, 'studies': 1965, 'showing': 1966, 'ludicrous': 1967, 'limit': 1968, 'guard': 1969, 'problems': 1970, 'monster': 1971, 'sarcastic': 1972, 'murdered': 1973, 'briefly': 1974, 'dozing': 1975, 'whatever': 1976, 'mirror': 1977, 'younger': 1978, 'others': 1979, 'thieves': 1980, 'loudly': 1981, 'brown': 1982, 'skipped': 1983, 'barely': 1984, 'bathe': 1985, 'grade': 1986, 'lightly': 1987, 'pulled': 1988, 'discouraged': 1989, 'overwhelmed': 1990, 'neighbor': 1991, 'heavily': 1992, 'chilly': 1993, 'rage': 1994, 'emergency': 1995, 'sight': 1996, 'murder': 1997, 'rats': 1998, 'rising': 1999, 'bitterly': 2000, 'harassing': 2001, 'wall': 2002, 'worst': 2003, 'future': 2004, 'responsible': 2005, 'european': 2006, 'robots': 2007, 'gloves': 2008, 'offend': 2009, 'address': 2010, 'offense': 2011, 'kissing': 2012, 'nodded': 2013, 'sighed': 2014, 'speed': 2015, 'lies': 2016, 'chill': 2017, 'bark': 2018, 'film': 2019, 'grinned': 2020, 'cured': 2021, 'sober': 2022, 'aah': 2023, 'dig': 2024, 'calls': 2025, 'cpr': 2026, 'relented': 2027, 'hiding': 2028, 'pooped': 2029, 'unwell': 2030, 'fox': 2031, 'cd': 2032, 'phony': 2033, 'jesus': 2034, 'scoot': 2035, 'agrees': 2036, 'snores': 2037, 'cds': 2038, 'gloat': 2039, 'shout': 2040, 'coin': 2041, 'adore': 2042, 'exercised': 2043, 'jazz': 2044, 'nailed': 2045, 'protested': 2046, 'third': 2047, 'widow': 2048, 'fasting': 2049, 'humming': 2050, 'psyched': 2051, 'fatal': 2052, 'urgent': 2053, 'burns': 2054, 'clap': 2055, 'release': 2056, 'lame': 2057, 'glum': 2058, 'neat': 2059, 'slim': 2060, 'sweated': 2061, 'bore': 2062, 'owns': 2063, 'describe': 2064, 'ghosts': 2065, 'exist': 2066, 'morning': 2067, 'cranky': 2068, 'barbaric': 2069, 'liars': 2070, 'piano': 2071, 'lion': 2072, 'beaten': 2073, 'wonder': 2074, 'gullible': 2075, 'reformed': 2076, 'restless': 2077, 'shooting': 2078, 'thinking': 2079, 'ticklish': 2080, 'unbiased': 2081, 'identify': 2082, 'vague': 2083, 'robot': 2084, 'archaic': 2085, 'complex': 2086, 'ladies': 2087, 'lead': 2088, 'applauded': 2089, 'heroes': 2090, 'minors': 2091, 'nerve': 2092, 'scare': 2093, 'slipping': 2094, 'questions': 2095, 'body': 2096, 'security': 2097, 'circle': 2098, 'exhale': 2099, 'cookie': 2100, 'hole': 2101, 'eats': 2102, 'braces': 2103, 'toys': 2104, 'senior': 2105, 'insecure': 2106, 'pie': 2107, 'belong': 2108, 'queasy': 2109, 'visa': 2110, 'garlic': 2111, 'yellow': 2112, 'sock': 2113, 'lamp': 2114, 'hockey': 2115, 'violin': 2116, 'funds': 2117, 'rat': 2118, 'bacon': 2119, 'mask': 2120, 'dentist': 2121, 'easygoing': 2122, 'diet': 2123, 'plastered': 2124, 'sensitive': 2125, 'unmarried': 2126, 'voting': 2127, 'painful': 2128, 'wig': 2129, 'flaw': 2130, 'viral': 2131, 'gorgeous': 2132, 'stealing': 2133, 'offer': 2134, 'beside': 2135, 'shouting': 2136, 'worrying': 2137, 'symptoms': 2138, 'vary': 2139, 'dvd': 2140, 'sheep': 2141, 'touchy': 2142, 'sinking': 2143, 'responded': 2144, 'hypocrite': 2145, 'idiots': 2146, 'morons': 2147, 'file': 2148, 'crude': 2149, 'hint': 2150, 'wheel': 2151, 'sold': 2152, 'author': 2153, 'prison': 2154, 'brakes': 2155, 'spinach': 2156, 'picnics': 2157, 'turtles': 2158, 'answers': 2159, 'data': 2160, 'usually': 2161, 'cleaning': 2162, 'detained': 2163, 'outdoors': 2164, 'unharmed': 2165, 'cooperate': 2166, 'bachelor': 2167, 'freshman': 2168, 'dehydrated': 2169, 'illiterate': 2170, 'methodical': 2171, 'quitter': 2172, 'overweight': 2173, 'unemployed': 2174, 'forgotten': 2175, 'bear': 2176, 'likely': 2177, 'planned': 2178, 'snowman': 2179, 'beyond': 2180, 'brand': 2181, 'noon': 2182, 'undamaged': 2183, 'ache': 2184, 'choked': 2185, 'alright': 2186, 'evident': 2187, 'logical': 2188, 'fork': 2189, 'ford': 2190, 'callous': 2191, 'immoral': 2192, 'nodding': 2193, 'sobbing': 2194, 'improve': 2195, 'recover': 2196, 'brain': 2197, 'refugees': 2198, 'taken': 2199, 'paris': 2200, 'disgust': 2201, 'adjust': 2202, 'whistle': 2203, 'defend': 2204, 'rub': 2205, 'meal': 2206, 'prayed': 2207, 'ambition': 2208, 'painter': 2209, 'gloomy': 2210, 'stared': 2211, 'surfing': 2212, 'lad': 2213, 'southpaw': 2214, 'id': 2215, 'interesting': 2216, 'salad': 2217, 'disobeyed': 2218, 'expected': 2219, 'sunburned': 2220, 'football': 2221, 'voice': 2222, 'screams': 2223, 'baseball': 2224, 'teaching': 2225, 'tokyo': 2226, 'patience': 2227, 'misunderstood': 2228, 'helmet': 2229, 'sword': 2230, 'land': 2231, 'biking': 2232, 'shifted': 2233, 'gears': 2234, 'soundly': 2235, 'taught': 2236, 'refund': 2237, 'acquitted': 2238, 'rent': 2239, 'tipsy': 2240, 'attorney': 2241, 'defenseless': 2242, 'experienced': 2243, 'extroverted': 2244, 'heartbroken': 2245, 'pickle': 2246, 'handed': 2247, 'vacation': 2248, 'resourceful': 2249, 'manager': 2250, 'trustworthy': 2251, 'natural': 2252, 'ages': 2253, 'soft': 2254, 'omen': 2255, 'disgrace': 2256, 'shortcut': 2257, 'impossible': 2258, 'inadequate': 2259, 'toy': 2260, 'sweltering': 2261, 'season': 2262, 'practice': 2263, 'jeans': 2264, 'sticky': 2265, 'changes': 2266, 'lid': 2267, 'calmed': 2268, 'forgave': 2269, 'reads': 2270, 'roll': 2271, 'silence': 2272, 'steady': 2273, 'nosy': 2274, 'engine': 2275, 'breather': 2276, 'doubtful': 2277, 'peculiar': 2278, 'moon': 2279, 'salt': 2280, 'blocked': 2281, 'greeted': 2282, 'visited': 2283, 'times': 2284, 'friday': 2285, 'dyslexic': 2286, 'resolute': 2287, 'skittish': 2288, 'tactless': 2289, 'wavering': 2290, 'mouse': 2291, 'front': 2292, 'toes': 2293, 'teachers': 2294, 'freedom': 2295, 'lack': 2296, 'realize': 2297, 'rented': 2298, 'canadians': 2299, 'impartial': 2300, 'disaster': 2301, 'prize': 2302, 'comb': 2303, 'loo': 2304, 'picky': 2305, 'less': 2306, 'catholic': 2307, 'cane': 2308, 'blinds': 2309, 'immediately': 2310, 'consider': 2311, 'wire': 2312, 'dial': 2313, 'deceive': 2314, 'garage': 2315, 'joy': 2316, 'recently': 2317, 'picasso': 2318, 'hunt': 2319, 'struck': 2320, 'bowed': 2321, 'politely': 2322, 'pork': 2323, 'halloween': 2324, 'surprises': 2325, 'receipt': 2326, 'allergies': 2327, 'standards': 2328, 'toothache': 2329, 'ropes': 2330, 'led': 2331, 'chocolate': 2332, 'elephants': 2333, 'wallet': 2334, 'yolks': 2335, 'soul': 2336, 'view': 2337, 'bar': 2338, 'frustrated': 2339, 'gladly': 2340, 'between': 2341, 'disappointed': 2342, 'america': 2343, 'heading': 2344, 'killing': 2345, 'living': 2346, 'riddle': 2347, 'valuable': 2348, 'effective': 2349, 'race': 2350, 'settled': 2351, 'compromise': 2352, 'mars': 2353, 'fleas': 2354, 'smokes': 2355, 'tiny': 2356, 'stomach': 2357, 'parrots': 2358, 'article': 2359, 'tb': 2360, 'disliked': 2361, 'spit': 2362, 'upsetting': 2363, 'storm': 2364, 'tank': 2365, 'ambushed': 2366, 'abandoned': 2367, 'glanced': 2368, 'mystery': 2369, 'excellent': 2370, 'guitar': 2371, 'silently': 2372, 'deported': 2373, 'goggles': 2374, 'headed': 2375, 'fingers': 2376, 'considered': 2377, 'visitors': 2378, 'owners': 2379, 'eater': 2380, 'nightmare': 2381, 'belt': 2382, 'build': 2383, 'hospital': 2384, 'copies': 2385, 'rely': 2386, 'earth': 2387, 'goodnight': 2388, 'gentleman': 2389, 'disappointing': 2390, 'brushed': 2391, 'verify': 2392, 'intervene': 2393, 'scarf': 2394, 'accident': 2395, 'schedule': 2396, 'privacy': 2397, 'everywhere': 2398, 'colors': 2399, 'ignorance': 2400, 'gym': 2401, 'guessing': 2402, 'persuaded': 2403, 'dubious': 2404, 'inflation': 2405, 'depends': 2406, 'cumbersome': 2407, 'depressing': 2408, 'destiny': 2409, 'greasy': 2410, 'world': 2411, 'moot': 2412, 'reconsider': 2413, 'pretend': 2414, 'teen': 2415, 'aspirin': 2416, 'foxes': 2417, 'articulate': 2418, 'recovering': 2419, 'hopeful': 2420, 'cowards': 2421, 'changing': 2422, 'stain': 2423, 'applause': 2424, 'invite': 2425, 'snails': 2426, 'choosy': 2427, 'information': 2428, 'religion': 2429, 'somewhere': 2430, 'custom': 2431, 'challenge': 2432, 'candlelight': 2433, 'outfit': 2434, 'spilled': 2435, 'boyfriend': 2436, 'hire': 2437, 'learning': 2438, 'handcrafted': 2439, 'corner': 2440, 'crowded': 2441, 'hop': 2442, 'froze': 2443, 'swore': 2444, 'kick': 2445, 'goofed': 2446, 'moaned': 2447, 'tidy': 2448, 'dj': 2449, 'sexy': 2450, 'humor': 2451, 'blinked': 2452, 'groaned': 2453, 'inhaled': 2454, 'tripped': 2455, 'leo': 2456, 'above': 2457, 'below': 2458, 'higher': 2459, 'bottoms': 2460, 'swiss': 2461, 'human': 2462, 'objected': 2463, 'shrugged': 2464, 'threw': 2465, 'whistled': 2466, 'immune': 2467, 'soaked': 2468, 'wasted': 2469, 'bogus': 2470, 'magic': 2471, 'chat': 2472, 'mama': 2473, 'braked': 2474, 'gasped': 2475, 'unscrew': 2476, 'sunk': 2477, 'specific': 2478, 'bowl': 2479, 'stare': 2480, 'flip': 2481, 'hunk': 2482, 'nerd': 2483, 'slob': 2484, 'monk': 2485, 'buried': 2486, 'oppose': 2487, 'snickered': 2488, 'surrender': 2489, 'frantic': 2490, 'neutral': 2491, 'stumped': 2492, 'foggy': 2493, 'yen': 2494, 'futile': 2495, 'warmer': 2496, 'across': 2497, 'record': 2498, 'settle': 2499, 'wary': 2500, 'listens': 2501, 'older': 2502, 'drag': 2503, 'loss': 2504, 'ramble': 2505, 'slouch': 2506, 'examine': 2507, 'avoids': 2508, 'heroic': 2509, 'dare': 2510, 'chased': 2511, 'jogging': 2512, 'honor': 2513, 'trips': 2514, 'space': 2515, 'rugby': 2516, 'rewrote': 2517, 'wimped': 2518, 'gemini': 2519, 'taurus': 2520, 'barber': 2521, 'dancer': 2522, 'surfer': 2523, 'adult': 2524, 'autistic': 2525, 'cultured': 2526, 'eighteen': 2527, 'managing': 2528, 'iron': 2529, 'amazed': 2530, 'heal': 2531, 'curse': 2532, 'review': 2533, 'itch': 2534, 'shrieked': 2535, 'pouting': 2536, 'whining': 2537, 'yawning': 2538, 'approve': 2539, 'enlisted': 2540, 'grumbled': 2541, 'spy': 2542, 'obese': 2543, 'vegan': 2544, 'ufo': 2545, 'starve': 2546, 'adults': 2547, 'doomed': 2548, 'vanished': 2549, 'imbecile': 2550, 'moody': 2551, 'futon': 2552, 'blindfold': 2553, 'despair': 2554, 'peas': 2555, 'dies': 2556, 'haircut': 2557, 'ham': 2558, 'cracked': 2559, 'skating': 2560, 'bled': 2561, 'honk': 2562, 'horn': 2563, 'delicious': 2564, 'thrilling': 2565, 'runner': 2566, 'borrowed': 2567, 'bribed': 2568, 'designed': 2569, 'reborn': 2570, 'scammed': 2571, 'asthma': 2572, 'orders': 2573, 'rights': 2574, 'camels': 2575, 'cities': 2576, 'grapes': 2577, 'poetry': 2578, 'trains': 2579, 'autumn': 2580, 'crew': 2581, 'support': 2582, 'crushed': 2583, 'dazzled': 2584, 'drugged': 2585, 'poems': 2586, 'songs': 2587, 'scorpio': 2588, 'soldier': 2589, 'surgeon': 2590, 'adaptable': 2591, 'orphan': 2592, 'bilingual': 2593, 'efficient': 2594, 'strike': 2595, 'surviving': 2596, 'gag': 2597, 'superb': 2598, 'worries': 2599, 'rental': 2600, 'homemade': 2601, 'midnight': 2602, 'occupied': 2603, 'suicidal': 2604, 'unlikely': 2605, 'hustling': 2606, 'cage': 2607, 'aloud': 2608, 'russia': 2609, 'ease': 2610, 'clapping': 2611, 'spitting': 2612, 'straighten': 2613, 'saturn': 2614, 'myth': 2615, 'doable': 2616, 'untrue': 2617, 'asian': 2618, 'spies': 2619, 'false': 2620, 'crept': 2621, 'online': 2622, 'unhurt': 2623, 'upbeat': 2624, 'winded': 2625, 'rushed': 2626, 'staggered': 2627, 'frank': 2628, 'choking': 2629, 'elderly': 2630, 'violent': 2631, 'wounded': 2632, 'snoring': 2633, 'wax': 2634, 'prevail': 2635, 'group': 2636, 'sync': 2637, 'lawyers': 2638, 'stalled': 2639, 'bummer': 2640, 'fiasco': 2641, 'legibly': 2642, 'charlatan': 2643, 'hoot': 2644, 'snob': 2645, 'unkind': 2646, 'avoid': 2647, 'clich': 2648, 'juggle': 2649, 'gate': 2650, 'recycle': 2651, 'struggle': 2652, 'tease': 2653, 'tempt': 2654, 'dude': 2655, 'afternoon': 2656, 'lip': 2657, 'counts': 2658, 'dislikes': 2659, 'flew': 2660, 'actor': 2661, 'respects': 2662, 'ex': 2663, 'banana': 2664, 'decorated': 2665, 'gossip': 2666, 'suntan': 2667, 'expelled': 2668, 'stroke': 2669, 'sundays': 2670, 'hiccups': 2671, 'voices': 2672, 'hiccup': 2673, 'bowling': 2674, 'history': 2675, 'lobster': 2676, 'mahjong': 2677, 'puzzles': 2678, 'stories': 2679, 'predicted': 2680, 'sneeze': 2681, 'korean': 2682, 'justice': 2683, 'barefoot': 2684, 'hammered': 2685, 'impolite': 2686, 'agony': 2687, 'pardoned': 2688, 'prosper': 2689, 'musician': 2690, 'dependable': 2691, 'firing': 2692, 'meditating': 2693, 'bitter': 2694, 'prejudiced': 2695, 'winner': 2696, 'wednesday': 2697, 'revolting': 2698, 'searching': 2699, 'lend': 2700, 'tooth': 2701, 'sir': 2702, 'tune': 2703, 'science': 2704, 'nurse': 2705, 'bach': 2706, 'sings': 2707, 'gossiping': 2708, 'grumbling': 2709, 'quibbling': 2710, 'sniffling': 2711, 'tower': 2712, 'barked': 2713, 'flag': 2714, 'roof': 2715, 'leaks': 2716, 'siren': 2717, 'snag': 2718, 'bites': 2719, 'theirs': 2720, 'tricky': 2721, 'dice': 2722, 'pear': 2723, 'crook': 2724, 'moron': 2725, 'balding': 2726, 'sitting': 2727, 'smarter': 2728, 'unfazed': 2729, 'retaliated': 2730, 'clueless': 2731, 'crash': 2732, 'blast': 2733, 'guests': 2734, 'landed': 2735, 'action': 2736, 'partners': 2737, 'quitting': 2738, 'stronger': 2739, 'rip': 2740, 'wind': 2741, 'screwed': 2742, 'amusing': 2743, 'elusive': 2744, 'obscene': 2745, 'pro': 2746, 'insured': 2747, 'hibernate': 2748, 'bullet': 2749, 'boil': 2750, 'boxes': 2751, 'nails': 2752, 'hatch': 2753, 'jam': 2754, 'stingy': 2755, 'interfere': 2756, 'remind': 2757, 'popcorn': 2758, 'bottom': 2759, 'acts': 2760, 'ten': 2761, 'slowpoke': 2762, 'humiliating': 2763, 'compete': 2764, 'chickened': 2765, 'downloaded': 2766, 'feverish': 2767, 'isolated': 2768, 'tomatoes': 2769, 'fanatics': 2770, 'weddings': 2771, 'bruise': 2772, 'laptop': 2773, 'epilepsy': 2774, 'army': 2775, 'supper': 2776, 'outwitted': 2777, 'scored': 2778, 'vitamins': 2779, 'dollar': 2780, 'assaulted': 2781, 'convicted': 2782, 'wondering': 2783, 'zoo': 2784, 'arrange': 2785, 'assist': 2786, 'double': 2787, 'addict': 2788, 'detective': 2789, 'foreigner': 2790, 'begging': 2791, 'catching': 2792, 'cooperating': 2793, 'daydreaming': 2794, 'hardworking': 2795, 'ammo': 2796, 'persevering': 2797, 'spontaneous': 2798, 'sympathetic': 2799, 'unambitious': 2800, 'unconvinced': 2801, 'river': 2802, 'option': 2803, 'tasted': 2804, 'handmade': 2805, 'acceptable': 2806, 'outrage': 2807, 'improbable': 2808, 'inevitable': 2809, 'misleading': 2810, 'typical': 2811, 'sufficient': 2812, 'humid': 2813, 'paging': 2814, 'covered': 2815, 'lemons': 2816, 'improvise': 2817, 'merry': 2818, 'shift': 2819, 'squeak': 2820, 'pour': 2821, 'rejection': 2822, 'graceful': 2823, 'load': 2824, 'chances': 2825, 'frankly': 2826, 'puzzle': 2827, 'net': 2828, 'tub': 2829, 'cure': 2830, 'pilots': 2831, 'bizarre': 2832, 'reality': 2833, 'gifts': 2834, 'wasting': 2835, 'acted': 2836, 'client': 2837, 'tailor': 2838, 'dejected': 2839, 'deranged': 2840, 'giggling': 2841, 'knocking': 2842, 'perverse': 2843, 'pleasant': 2844, 'spirited': 2845, 'unafraid': 2846, 'unnerved': 2847, 'stops': 2848, 'sees': 2849, 'sleeps': 2850, 'slowed': 2851, 'understands': 2852, 'fools': 2853, 'fixing': 2854, 'newcomers': 2855, 'newlyweds': 2856, 'resigning': 2857, 'survivors': 2858, 'unrelated': 2859, 'treasure': 2860, 'oar': 2861, 'devil': 2862, 'menace': 2863, 'than': 2864, 'wings': 2865, 'accidents': 2866, 'invisible': 2867, 'golfer': 2868, 'maniac': 2869, 'typist': 2870, 'wizard': 2871, 'boxing': 2872, 'brace': 2873, 'normally': 2874, 'spell': 2875, 'supply': 2876, 'bridge': 2877, 'delicately': 2878, 'faces': 2879, 'yell': 2880, 'meals': 2881, 'veggies': 2882, 'hamster': 2883, 'costs': 2884, 'gardening': 2885, 'without': 2886, 'stairs': 2887, 'flow': 2888, 'croissant': 2889, 'backward': 2890, 'pajamas': 2891, 'oranges': 2892, 'moves': 2893, 'ratted': 2894, 'france': 2895, 'bartender': 2896, 'biologist': 2897, 'grown': 2898, 'senile': 2899, 'intelligent': 2900, 'heaven': 2901, 'professor': 2902, 'dumbfounded': 2903, 'brazil': 2904, 'reschedule': 2905, 'reach': 2906, 'confiscated': 2907, 'protected': 2908, 'ripped': 2909, 'chemistry': 2910, 'computers': 2911, 'hypocrisy': 2912, 'paperwork': 2913, 'website': 2914, 'gunshots': 2915, 'temper': 2916, 'adventure': 2917, 'hedgehogs': 2918, 'band': 2919, 'kleenex': 2920, 'escort': 2921, 'tires': 2922, 'pointed': 2923, 'recommend': 2924, 'rematch': 2925, 'vengeance': 2926, 'unprepared': 2927, 'farm': 2928, 'demonstrate': 2929, 'clerk': 2930, 'alcoholic': 2931, 'conservative': 2932, 'disorganized': 2933, 'dissatisfied': 2934, 'homeschooled': 2935, 'ignoring': 2936, 'super': 2937, 'volunteering': 2938, 'threat': 2939, 'trick': 2940, 'freaks': 2941, 'virus': 2942, 'hype': 2943, 'mandatory': 2944, 'tradition': 2945, 'complicated': 2946, 'frightening': 2947, 'drug': 2948, 'camping': 2949, 'couch': 2950, 'lower': 2951, 'itchy': 2952, 'pulse': 2953, 'windows': 2954, 'button': 2955, 'bellyaching': 2956, 'hassling': 2957, 'italy': 2958, 'despises': 2959, 'obstinate': 2960, 'rode': 2961, 'camel': 2962, 'worships': 2963, 'shots': 2964, 'skunks': 2965, 'nit': 2966, 'picking': 2967, 'million': 2968, 'brilliant': 2969, 'curtain': 2970, 'rough': 2971, 'switch': 2972, 'icy': 2973, 'scoffed': 2974, 'artists': 2975, 'required': 2976, 'bounced': 2977, 'forgives': 2978, 'rabbit': 2979, 'chickens': 2980, 'delirious': 2981, 'indignant': 2982, 'merciless': 2983, 'observing': 2984, 'sighing': 2985, 'tulips': 2986, 'overheard': 2987, 'stepped': 2988, 'tickled': 2989, 'watches': 2990, 'innovative': 2991, 'instead': 2992, 'slower': 2993, 'competed': 2994, 'demand': 2995, 'depend': 2996, 'warning': 2997, 'pictures': 2998, 'classmates': 2999, 'seek': 3000, 'score': 3001, 'wherever': 3002, 'cheaper': 3003, 'developed': 3004, 'lady': 3005, 'notified': 3006, 'nicely': 3007, 'x': 3008, 'marks': 3009, 'seventh': 3010, 'unethical': 3011, 'zip': 3012, 'admission': 3013, 'steps': 3014, 'bachelors': 3015, 'religious': 3016, 'policeman': 3017, 'ambulance': 3018, 'link': 3019, 'cocaine': 3020, 'startle': 3021, 'disable': 3022, 'ants': 3023, 'kratom': 3024, 'fuss': 3025, 'threaten': 3026, 'haste': 3027, 'gives': 3028, 'grabbed': 3029, 'blond': 3030, 'physicist': 3031, 'scientist': 3032, 'forty': 3033, 'frugally': 3034, 'requested': 3035, 'sailor': 3036, 'russian': 3037, 'travels': 3038, 'twisted': 3039, 'rapidly': 3040, 'imprisoned': 3041, 'journalist': 3042, 'pink': 3043, 'skin': 3044, 'handrail': 3045, 'spelled': 3046, 'bolted': 3047, 'clothes': 3048, 'bags': 3049, 'tutor': 3050, 'other': 3051, 'mosquitoes': 3052, 'passport': 3053, 'proposal': 3054, 'chest': 3055, 'regrets': 3056, 'footsteps': 3057, 'hats': 3058, 'outlive': 3059, 'picked': 3060, 'muscle': 3061, 'jest': 3062, 'inchworm': 3063, 'victory': 3064, 'shouldn': 3065, 'sometimes': 3066, 'notebook': 3067, 'apology': 3068, 'passenger': 3069, 'discredited': 3070, 'total': 3071, 'wreck': 3072, 'aware': 3073, 'awfully': 3074, 'concentrating': 3075, 'extremely': 3076, 'flabbergasted': 3077, 'lab': 3078, 'insure': 3079, 'nonstop': 3080, 'deliberate': 3081, 'horrendous': 3082, 'flimsy': 3083, 'conspiracy': 3084, 'knock': 3085, 'investigate': 3086, 'enjoyable': 3087, 'prediction': 3088, 'mosquitos': 3089, 'aching': 3090, 'shoulder': 3091, 'shoulders': 3092, 'misses': 3093, 'none': 3094, 'beginner': 3095, 'attractive': 3096, 'unsociable': 3097, 'flower': 3098, 'somehow': 3099, 'badgering': 3100, 'exaggerating': 3101, 'following': 3102, 'interrupting': 3103, 'wood': 3104, 'rings': 3105, 'opinion': 3106, 'bland': 3107, 'lights': 3108, 'lovers': 3109, 'shop': 3110, 'thick': 3111, 'system': 3112, 'hunted': 3113, 'tortured': 3114, 'identical': 3115, 'appalling': 3116, 'offensive': 3117, 'permanent': 3118, 'sickening': 3119, 'fishy': 3120, 'praying': 3121, 'claims': 3122, 'deserves': 3123, 'freed': 3124, 'imitated': 3125, 'despondent': 3126, 'protective': 3127, 'remarkable': 3128, 'crawling': 3129, 'knocked': 3130, 'peeked': 3131, 'peered': 3132, 'recognized': 3133, 'patiently': 3134, 'sensed': 3135, 'strangled': 3136, 'suffocating': 3137, 'hose': 3138, 'beers': 3139, 'flaws': 3140, 'p': 3141, 'meeting': 3142, 'due': 3143, 'handling': 3144, 'killers': 3145, 'revelation': 3146, 'happiness': 3147, 'major': 3148, 'terms': 3149, 'stitches': 3150, 'murderer': 3151, 'prisoner': 3152, 'hurting': 3153, 'unpleasant': 3154, 'mocking': 3155, 'fascinate': 3156, 'flute': 3157, 'advised': 3158, 'subject': 3159, 'pockets': 3160, 'tells': 3161, 'blog': 3162, 'kabuki': 3163, 'stones': 3164, 'king': 3165, 'weekend': 3166, 'blanks': 3167, 'desire': 3168, 'traffic': 3169, 'breathed': 3170, 'cartwheel': 3171, 'gripped': 3172, 'alzheimer': 3173, 'classmate': 3174, 'colleague': 3175, 'memory': 3176, 'chinese': 3177, 'unimpressed': 3178, 'aristocrat': 3179, 'print': 3180, 'position': 3181, 'completely': 3182, 'sin': 3183, 'jail': 3184, 'loads': 3185, 'roommate': 3186, 'carpet': 3187, 'spare': 3188, 'explosions': 3189, 'emailed': 3190, 'mission': 3191, 'mathematics': 3192, 'raspberries': 3193, 'pot': 3194, 'roast': 3195, 'promises': 3196, 'blamed': 3197, 'oiled': 3198, 'report': 3199, 'repeated': 3200, 'sliced': 3201, 'suggest': 3202, 'disqualified': 3203, 'consulted': 3204, 'learner': 3205, 'beginning': 3206, 'laying': 3207, 'supporting': 3208, 'supposed': 3209, 'board': 3210, 'compliment': 3211, 'boggles': 3212, 'astonishing': 3213, 'mesmerizing': 3214, 'concern': 3215, 'fridge': 3216, 'o': 3217, 'knowledge': 3218, 'rephrase': 3219, 'moons': 3220, 'goals': 3221, 'lofty': 3222, 'slide': 3223, 'cucumbers': 3224, 'bandage': 3225, 'begins': 3226, 'schools': 3227, 'manners': 3228, 'charity': 3229, 'slip': 3230, 'correcting': 3231, 'tickles': 3232, 'sip': 3233, 'fled': 3234, 'pair': 3235, 'cheer': 3236, 'cuff': 3237, 'cursed': 3238, 'frowned': 3239, 'gloated': 3240, 'grunted': 3241, 'prepaid': 3242, 'shouted': 3243, 'needy': 3244, 'poured': 3245, 'dived': 3246, 'knits': 3247, 'limps': 3248, 'rocks': 3249, 'r': 3250, 'b': 3251, 'shivered': 3252, 'flabby': 3253, 'begun': 3254, 'bulky': 3255, 'taboo': 3256, 'lasts': 3257, 'cheats': 3258, 'cusses': 3259, 'farted': 3260, 'sobbed': 3261, 'yawned': 3262, 'blink': 3263, 'nasty': 3264, 'faking': 3265, 'taller': 3266, 'assume': 3267, 'tapes': 3268, 'glue': 3269, 'coup': 3270, 'curt': 3271, 'gambles': 3272, 'gargled': 3273, 'meek': 3274, 'vain': 3275, 'reacted': 3276, 'sneered': 3277, 'sniffed': 3278, 'snorted': 3279, 'hell': 3280, 'dump': 3281, 'heel': 3282, 'drew': 3283, 'abandon': 3284, 'backup': 3285, 'litter': 3286, 'warmly': 3287, 'spoon': 3288, 'mocked': 3289, 'caviar': 3290, 'carded': 3291, 'ax': 3292, 'hives': 3293, 'improvised': 3294, 'suppose': 3295, 'sympathize': 3296, 'canned': 3297, 'framed': 3298, 'weighed': 3299, 'priest': 3300, 'purist': 3301, 'agent': 3302, 'famished': 3303, 'hungover': 3304, 'rebel': 3305, 'worn': 3306, 'solid': 3307, 'elk': 3308, 'noisy': 3309, 'cinch': 3310, 'plant': 3311, 'setup': 3312, 'hearsay': 3313, 'suicide': 3314, 'bounce': 3315, 'mull': 3316, 'hip': 3317, 'cared': 3318, 'louder': 3319, 'filming': 3320, 'gawking': 3321, 'whiff': 3322, 'rare': 3323, 'spam': 3324, 'approves': 3325, 'insisted': 3326, 'pudgy': 3327, 'stoic': 3328, 'sniffled': 3329, 'stumbled': 3330, 'stutters': 3331, 'arabs': 3332, 'amuse': 3333, 'gross': 3334, 'drown': 3335, 'mock': 3336, 'sass': 3337, 'healthily': 3338, 'bloom': 3339, 'riddance': 3340, 'advises': 3341, 'dug': 3342, 'british': 3343, 'grouch': 3344, 'jesuit': 3345, 'tycoon': 3346, 'acquired': 3347, 'added': 3348, 'classes': 3349, 'dye': 3350, 'poker': 3351, 'exaggerated': 3352, 'drowsy': 3353, 'forbid': 3354, 'bonus': 3355, 'fleeced': 3356, 'crowds': 3357, 'flying': 3358, 'sirens': 3359, 'clocks': 3360, 'prunes': 3361, 'crepes': 3362, 'yacht': 3363, 'squash': 3364, 'resent': 3365, 'queen': 3366, 'firefox': 3367, 'pony': 3368, 'nights': 3369, 'trainee': 3370, 'widower': 3371, 'parole': 3372, 'resentful': 3373, 'damaged': 3374, 'leather': 3375, 'bat': 3376, 'sickens': 3377, 'bomb': 3378, 'hoax': 3379, 'parody': 3380, 'sequel': 3381, 'indecent': 3382, 'instinct': 3383, 'obsolete': 3384, 'paddling': 3385, 'mortal': 3386, 'motion': 3387, 'aches': 3388, 'lungs': 3389, 'active': 3390, 'obeys': 3391, 'livid': 3392, 'cutie': 3393, 'frowning': 3394, 'scowling': 3395, 'heap': 3396, 'rad': 3397, 'unreal': 3398, 'mooed': 3399, 'embraced': 3400, 'pun': 3401, 'basic': 3402, 'exercises': 3403, 'graduated': 3404, 'goats': 3405, 'hick': 3406, 'sexist': 3407, 'somber': 3408, 'stable': 3409, 'overdosed': 3410, 'shuddered': 3411, 'stiffened': 3412, 'tensed': 3413, 'testified': 3414, 'adopted': 3415, 'untie': 3416, 'assumed': 3417, 'trees': 3418, 'tools': 3419, 'opposed': 3420, 'candy': 3421, 'rebuild': 3422, 'anxious': 3423, 'buddies': 3424, 'winners': 3425, 'matured': 3426, 'hassle': 3427, 'disagrees': 3428, 'absent': 3429, 'coke': 3430, 'intruding': 3431, 'boats': 3432, 'sink': 3433, 'shovel': 3434, 'contact': 3435, 'tigers': 3436, 'purr': 3437, 'force': 3438, 'farts': 3439, 'gasps': 3440, 'lines': 3441, 'birthday': 3442, 'holidays': 3443, 'tan': 3444, 'gazed': 3445, 'writer': 3446, 'bankrupt': 3447, 'jelly': 3448, 'owes': 3449, 'hungarian': 3450, 'con': 3451, 'outlaw': 3452, 'henpecked': 3453, 'ached': 3454, 'perceptive': 3455, 'nail': 3456, 'draft': 3457, 'seasick': 3458, 'snubbed': 3459, 'guarantee': 3460, 'mishap': 3461, 'hailed': 3462, 'mondays': 3463, 'insects': 3464, 'ironing': 3465, 'karaoke': 3466, 'zealots': 3467, 'amnesia': 3468, 'thud': 3469, 'almonds': 3470, 'castles': 3471, 'oysters': 3472, 'sashimi': 3473, 'seafood': 3474, 'upstate': 3475, 'lasagna': 3476, 'puppies': 3477, 'sunsets': 3478, 'muffins': 3479, 'decline': 3480, 'stamp': 3481, 'insulin': 3482, 'asap': 3483, 'surgery': 3484, 'cattle': 3485, 'serve': 3486, 'urge': 3487, 'memo': 3488, 'scold': 3489, 'merchant': 3490, 'minister': 3491, 'salesman': 3492, 'thumbs': 3493, 'farsighted': 3494, 'remodeling': 3495, 'killer': 3496, 'credible': 3497, 'common': 3498, 'disgusts': 3499, 'fluke': 3500, 'magical': 3501, 'classic': 3502, 'firefly': 3503, 'ambush': 3504, 'dishonest': 3505, 'drizzling': 3506, 'forbidden': 3507, 'grotesque': 3508, 'cream': 3509, 'inspiring': 3510, 'vibrating': 3511, 'worthless': 3512, 'clues': 3513, 'mum': 3514, 'joints': 3515, 'itches': 3516, 'tummy': 3517, 'ow': 3518, 'ditched': 3519, 'brains': 3520, 'prudish': 3521, 'swims': 3522, 'types': 3523, 'hottie': 3524, 'looker': 3525, 'poking': 3526, 'resisting': 3527, 'plastic': 3528, 'honked': 3529, 'melted': 3530, 'muddy': 3531, 'quarreled': 3532, 'babies': 3533, 'unsafe': 3534, 'hectic': 3535, 'draws': 3536, 'issues': 3537, 'scurvy': 3538, 'talent': 3539, 'felon': 3540, 'giant': 3541, 'lefty': 3542, 'mason': 3543, 'pilot': 3544, 'cynical': 3545, 'devoted': 3546, 'pompous': 3547, 'radical': 3548, 'shaving': 3549, 'slender': 3550, 'spoiled': 3551, 'unkempt': 3552, 'tofu': 3553, 'maps': 3554, 'stranded': 3555, 'troubled': 3556, 'unstable': 3557, 'sauce': 3558, 'rear': 3559, 'duet': 3560, 'couple': 3561, 'butchers': 3562, 'buffoon': 3563, 'letdown': 3564, 'atm': 3565, 'reinstated': 3566, 'suggestions': 3567, 'purple': 3568, 'balls': 3569, 'round': 3570, 'bears': 3571, 'anytime': 3572, 'clip': 3573, 'crows': 3574, 'rap': 3575, 'freak': 3576, 'insult': 3577, 'danced': 3578, 'fasten': 3579, 'fetch': 3580, 'whirl': 3581, 'onto': 3582, 'daddy': 3583, 'toyota': 3584, 'racket': 3585, 'intrigues': 3586, 'ethiopian': 3587, 'sweets': 3588, 'puts': 3589, 'airs': 3590, 'whisky': 3591, 'shouts': 3592, 'swindled': 3593, 'comedian': 3594, 'frat': 3595, 'gardener': 3596, 'newcomer': 3597, 'mud': 3598, 'hoist': 3599, 'sails': 3600, 'unfortunate': 3601, 'hypnotism': 3602, 'egypt': 3603, 'booked': 3604, 'carp': 3605, 'dealt': 3606, 'dried': 3607, 'funerals': 3608, 'politics': 3609, 'raccoons': 3610, 'reptiles': 3611, 'heat': 3612, 'rug': 3613, 'alibi': 3614, 'dandruff': 3615, 'diabetes': 3616, 'immunity': 3617, 'thump': 3618, 'rains': 3619, 'elbow': 3620, 'imagined': 3621, 'area': 3622, 'lent': 3623, 'cartoons': 3624, 'westerns': 3625, 'interest': 3626, 'barbecue': 3627, 'comedies': 3628, 'eggplant': 3629, 'pancakes': 3630, 'brownies': 3631, 'internet': 3632, 'caffeine': 3633, 'guidance': 3634, 'tape': 3635, 'shave': 3636, 'bills': 3637, 'orchids': 3638, 'relied': 3639, 'respected': 3640, 'giraffe': 3641, 'pattern': 3642, 'parrot': 3643, 'mommy': 3644, 'coma': 3645, 'patrol': 3646, 'petrified': 3647, 'capricorn': 3648, 'cameraman': 3649, 'carpenter': 3650, 'chauffeur': 3651, 'geologist': 3652, 'housewife': 3653, 'lifeguard': 3654, 'masochist': 3655, 'owl': 3656, 'stutterer': 3657, 'engineer': 3658, 'frying': 3659, 'nearsighted': 3660, 'deck': 3661, 'replaceable': 3662, 'captain': 3663, 'hazardous': 3664, 'poisonous': 3665, 'zebra': 3666, 'ethical': 3667, 'poorly': 3668, 'burnt': 3669, 'enticing': 3670, 'mushroom': 3671, 'travesty': 3672, 'artificial': 3673, 'dirt': 3674, 'loan': 3675, 'secure': 3676, 'refreshing': 3677, 'tax': 3678, 'narrow': 3679, 'scarce': 3680, 'knead': 3681, 'dough': 3682, 'koalas': 3683, 'celebrate': 3684, 'kites': 3685, 'shrank': 3686, 'natto': 3687, 'october': 3688, 'wonders': 3689, 'planning': 3690, 'rake': 3691, 'saddle': 3692, 'sharks': 3693, 'brazilian': 3694, 'silk': 3695, 'spanish': 3696, 'nagging': 3697, 'squabbling': 3698, 'whimpering': 3699, 'pagoda': 3700, 'shadow': 3701, 'damp': 3702, 'cast': 3703, 'growled': 3704, 'nigh': 3705, 'stank': 3706, 'howled': 3707, 'actors': 3708, 'melons': 3709, 'interns': 3710, 'farce': 3711, 'private': 3712, 'pleases': 3713, 'each': 3714, 'burps': 3715, 'dances': 3716, 'exaggerates': 3717, 'ipad': 3718, 'jockey': 3719, 'player': 3720, 'welder': 3721, 'adapting': 3722, 'agitated': 3723, 'anorexic': 3724, 'athletic': 3725, 'cautious': 3726, 'childish': 3727, 'depraved': 3728, 'drenched': 3729, 'eloquent': 3730, 'immobile': 3731, 'insolent': 3732, 'likeable': 3733, 'reckless': 3734, 'sneezing': 3735, 'studious': 3736, 'tireless': 3737, 'tolerant': 3738, 'learns': 3739, 'dazed': 3740, 'falls': 3741, 'moose': 3742, 'photos': 3743, 'evasive': 3744, 'moaning': 3745, 'paralyzed': 3746, 'earned': 3747, 'yawn': 3748, 'walls': 3749, 'declared': 3750, 'raw': 3751, 'ponchos': 3752, 'waffles': 3753, 'retreat': 3754, 'experts': 3755, 'shared': 3756, 'farmers': 3757, 'sailing': 3758, 'camp': 3759, 'attorneys': 3760, 'comedians': 3761, 'gardeners': 3762, 'gentlemen': 3763, 'incorrect': 3764, 'neighbors': 3765, 'past': 3766, 'relatives': 3767, 'soulmates': 3768, 'blessing': 3769, 'prospect': 3770, 'weakling': 3771, 'stake': 3772, 'gpa': 3773, 'jello': 3774, 'unsure': 3775, 'mustn': 3776, 'rut': 3777, 'atlantis': 3778, 'snakes': 3779, 'beaks': 3780, 'climb': 3781, 'consult': 3782, 'pasta': 3783, 'rashly': 3784, 'disturb': 3785, 'exaggerate': 3786, 'gawk': 3787, 'mislead': 3788, 'sometime': 3789, 'groans': 3790, 'gossips': 3791, 'floating': 3792, 'purpose': 3793, 'useful': 3794, 'hobo': 3795, 'speech': 3796, 'joker': 3797, 'acrobat': 3798, 'hunting': 3799, 'shares': 3800, 'tenacious': 3801, 'winked': 3802, 'lover': 3803, 'historian': 3804, 'nonsmoker': 3805, 'sophomore': 3806, 'hone': 3807, 'skills': 3808, 'melodramatic': 3809, 'norway': 3810, 'witch': 3811, 'weekly': 3812, 'appreciated': 3813, 'bumped': 3814, 'trout': 3815, 'deliver': 3816, 'pizzas': 3817, 'disregarded': 3818, 'drugs': 3819, 'dilemma': 3820, 'refreshed': 3821, 'filled': 3822, 'drift': 3823, 'goosebumps': 3824, 'texts': 3825, 'reasons': 3826, 'fireworks': 3827, 'diploma': 3828, 'grenade': 3829, 'request': 3830, 'heartburn': 3831, 'insurance': 3832, 'pneumonia': 3833, 'wavy': 3834, 'journal': 3835, 'drill': 3836, 'lifted': 3837, 'astrology': 3838, 'novel': 3839, 'mushrooms': 3840, 'uncles': 3841, 'mysteries': 3842, 'pop': 3843, 'ocean': 3844, 'papers': 3845, 'australia': 3846, 'astronomy': 3847, 'libraries': 3848, 'fortune': 3849, 'spaghetti': 3850, 'envelopes': 3851, 'soap': 3852, 'subtitles': 3853, 'vent': 3854, 'planted': 3855, 'regret': 3856, 'require': 3857, 'rubbed': 3858, 'umbrellas': 3859, 'lease': 3860, 'strongly': 3861, 'divorce': 3862, 'martini': 3863, 'pal': 3864, 'raccoon': 3865, 'scooter': 3866, 'stranger': 3867, 'dumbstruck': 3868, 'victorious': 3869, 'raffle': 3870, 'bookkeeper': 3871, 'riser': 3872, 'programmer': 3873, 'shutterbug': 3874, 'ambidextrous': 3875, 'enthusiastic': 3876, 'freaking': 3877, 'fbi': 3878, 'housesitting': 3879, 'attic': 3880, 'inviting': 3881, 'beggar': 3882, 'paranoid': 3883, 'row': 3884, 'youngest': 3885, 'drawn': 3886, 'conscious': 3887, 'accessible': 3888, 'euros': 3889, 'perks': 3890, 'excessive': 3891, 'april': 3892, 'snowstorm': 3893, 'sunflower': 3894, 'balmy': 3895, 'conceivable': 3896, 'cooler': 3897, 'fetched': 3898, 'regrettable': 3899, 'transparent': 3900, 'unnecessary': 3901, 'asia': 3902, 'darts': 3903, 'inbox': 3904, 'sunburn': 3905, 'beats': 3906, 'stung': 3907, 'oil': 3908, 'pets': 3909, 'pump': 3910, 'ending': 3911, 'rome': 3912, 'defeated': 3913, 'idolized': 3914, 'scene': 3915, 'repulses': 3916, 'bench': 3917, 'pitied': 3918, 'apologizing': 3919, 'pinching': 3920, 'taunting': 3921, 'touching': 3922, 'precautions': 3923, 'kindly': 3924, 'explains': 3925, 'avoidable': 3926, 'blackmail': 3927, 'idle': 3928, 'affair': 3929, 'issue': 3930, 'troubling': 3931, 'ticked': 3932, 'creaked': 3933, 'bucked': 3934, 'jar': 3935, 'jury': 3936, 'mass': 3937, 'noes': 3938, 'abated': 3939, 'limits': 3940, 'singers': 3941, 'plenty': 3942, 'amateurs': 3943, 'traitors': 3944, 'insanity': 3945, 'official': 3946, 'puzzling': 3947, 'relaxing': 3948, 'sabotage': 3949, 'shameful': 3950, 'shocking': 3951, 'norm': 3952, 'precious': 3953, 'admires': 3954, 'avoided': 3955, 'raft': 3956, 'coughs': 3957, 'fried': 3958, 'charisma': 3959, 'onions': 3960, 'drummer': 3961, 'gourmet': 3962, 'gymnast': 3963, 'hipster': 3964, 'pianist': 3965, 'realtor': 3966, 'trucker': 3967, 'intern': 3968, 'competent': 3969, 'deceitful': 3970, 'emotional': 3971, 'improving': 3972, 'inventive': 3973, 'legendary': 3974, 'oblivious': 3975, 'campus': 3976, 'overjoyed': 3977, 'perplexed': 3978, 'regretful': 3979, 'reluctant': 3980, 'shameless': 3981, 'suspended': 3982, 'owner': 3983, 'trembling': 3984, 'ponies': 3985, 'smiles': 3986, 'steals': 3987, 'suggested': 3988, 'swears': 3989, 'abducted': 3990, 'appalled': 3991, 'babbling': 3992, 'cremated': 3993, 'ecstatic': 3994, 'executed': 3995, 'selected': 3996, 'unshaven': 3997, 'berserk': 3998, 'bonkers': 3999, 'headstrong': 4000, 'undefeated': 4001, 'robbery': 4002, 'swordfish': 4003, 'crisis': 4004, 'theory': 4005, 'injuries': 4006, 'evacuate': 4007, 'withdraw': 4008, 'supplies': 4009, 'soldiers': 4010, 'downsizing': 4011, 'historians': 4012, 'lifeguards': 4013, 'mates': 4014, 'fails': 4015, 'property': 4016, 'razor': 4017, 'uses': 4018, 'hamlet': 4019, 'banned': 4020, 'wool': 4021, 'dyes': 4022, 'huh': 4023, 'quote': 4024, 'distant': 4025, 'failure': 4026, 'lunatic': 4027, 'practical': 4028, 'leaf': 4029, 'under': 4030, 'arrest': 4031, 'nests': 4032, 'champagne': 4033, 'chuck': 4034, 'click': 4035, 'compare': 4036, 'imminent': 4037, 'lager': 4038, 'latin': 4039, 'pears': 4040, 'wanna': 4041, 'ignorant': 4042, 'crass': 4043, 'petty': 4044, 'pushy': 4045, 'fry': 4046, 'rung': 4047, 'blackmailed': 4048, 'carried': 4049, 'chewed': 4050, 'gum': 4051, 'deals': 4052, 'grain': 4053, 'roughly': 4054, 'vase': 4055, 'earns': 4056, 'fills': 4057, 'hanged': 4058, 'pens': 4059, 'ego': 4060, 'daredevil': 4061, 'incompetent': 4062, 'influential': 4063, 'unrealistic': 4064, 'osaka': 4065, 'miles': 4066, 'wakes': 4067, 'raging': 4068, 'ballistic': 4069, 'scripts': 4070, 'buff': 4071, 'timer': 4072, 'undergrad': 4073, 'georgia': 4074, 'trusting': 4075, 'heed': 4076, 'warnings': 4077, 'darkened': 4078, 'hamburger': 4079, 'sandwich': 4080, 'baited': 4081, 'hook': 4082, 'bid': 4083, 'cactus': 4084, 'webcam': 4085, 'shelter': 4086, 'upfront': 4087, 'chopin': 4088, 'deleted': 4089, 'app': 4090, 'register': 4091, 'vulnerable': 4092, 'grades': 4093, 'bee': 4094, 'sting': 4095, 'ground': 4096, 'breakdown': 4097, 'hypocrites': 4098, 'interviews': 4099, 'desert': 4100, 'backache': 4101, 'hangover': 4102, 'migraine': 4103, 'sailboat': 4104, 'earache': 4105, 'experience': 4106, 'discs': 4107, 'savings': 4108, 'sleeve': 4109, 'jackpot': 4110, 'intend': 4111, 'navy': 4112, 'bitten': 4113, 'practicing': 4114, 'confidence': 4115, 'adventures': 4116, 'challenges': 4117, 'folk': 4118, 'sauerkraut': 4119, 'spicy': 4120, 'skirt': 4121, 'odds': 4122, 'watermelon': 4123, 'hotel': 4124, 'dam': 4125, 'earring': 4126, 'balance': 4127, 'hamburgers': 4128, 'performing': 4129, 'album': 4130, 'minutes': 4131, 'keyboard': 4132, 'protection': 4133, 'toothpaste': 4134, 'oversleep': 4135, 'abroad': 4136, 'hood': 4137, 'paused': 4138, 'tambourine': 4139, 'volleyball': 4140, 'pruned': 4141, 'jaw': 4142, 'pushed': 4143, 'recommended': 4144, 'airplane': 4145, 'sunrise': 4146, 'known': 4147, 'swallowed': 4148, 'bug': 4149, 'swept': 4150, 'geography': 4151, 'otherwise': 4152, 'highway': 4153, 'plate': 4154, 'plates': 4155, 'confess': 4156, 'workout': 4157, 'sympathy': 4158, 'mugged': 4159, 'misinformed': 4160, 'outnumbered': 4161, 'trespassing': 4162, 'flirting': 4163, 'harvard': 4164, 'shotgun': 4165, 'sagittarius': 4166, 'trainer': 4167, 'worker': 4168, 'salesperson': 4169, 'accountant': 4170, 'astronomer': 4171, 'boiling': 4172, 'bringing': 4173, 'irreplaceable': 4174, 'materialistic': 4175, 'strongest': 4176, 'uncomfortable': 4177, 'evicted': 4178, 'diarrhea': 4179, 'pride': 4180, 'rumors': 4181, 'smoked': 4182, 'notarized': 4183, 'warranted': 4184, 'curfew': 4185, 'remedy': 4186, 'reward': 4187, 'stunning': 4188, 'pieces': 4189, 'ways': 4190, 'cooled': 4191, 'optional': 4192, 'massacre': 4193, 'convenient': 4194, 'disastrous': 4195, 'unexpected': 4196, 'wobbly': 4197, 'club': 4198, 'dictionary': 4199, 'confidential': 4200, 'questionable': 4201, 'imprecise': 4202, 'starting': 4203, 'unauthorized': 4204, 'onerous': 4205, 'chin': 4206, 'wrestle': 4207, 'hut': 4208, 'straws': 4209, 'peek': 4210, 'ephemeral': 4211, 'conquers': 4212, 'transient': 4213, 'vivacious': 4214, 'hearing': 4215, 'opposites': 4216, 'attract': 4217, 'production': 4218, 'thorns': 4219, 'appeals': 4220, 'figure': 4221, 'dear': 4222, 'turner': 4223, 'fashionable': 4224, 'hyperactive': 4225, 'turning': 4226, 'golden': 4227, 'lullaby': 4228, 'sloths': 4229, 'lane': 4230, 'scale': 4231, 'mimicking': 4232, 'termites': 4233, 'depresses': 4234, 'essential': 4235, 'fir': 4236, 'classified': 4237, 'disturbing': 4238, 'exactly': 4239, 'defense': 4240, 'surprising': 4241, 'spirit': 4242, 'undeniable': 4243, 'handy': 4244, 'cable': 4245, 'snapped': 4246, 'crowd': 4247, 'donkey': 4248, 'brayed': 4249, 'squeaked': 4250, 'ajar': 4251, 'rotates': 4252, 'jammed': 4253, 'dull': 4254, 'lemon': 4255, 'market': 4256, 'motor': 4257, 'meager': 4258, 'tactic': 4259, 'verdict': 4260, 'continued': 4261, 'gods': 4262, 'damage': 4263, 'cannibals': 4264, 'murderers': 4265, 'bucket': 4266, 'coconut': 4267, 'extortion': 4268, 'gibberish': 4269, 'insulting': 4270, 'irregular': 4271, 'justified': 4272, 'pointless': 4273, 'priceless': 4274, 'skim': 4275, 'tasteless': 4276, 'temporary': 4277, 'worrisome': 4278, 'silver': 4279, 'thursday': 4280, 'arrives': 4281, 'behaved': 4282, 'despised': 4283, 'appear': 4284, 'flinch': 4285, 'expects': 4286, 'iq': 4287, 'iphone': 4288, 'arthritis': 4289, 'frostbite': 4290, 'seniority': 4291, 'hasn': 4292, 'juan': 4293, 'bookworm': 4294, 'jeweller': 4295, 'pushover': 4296, 'teenager': 4297, 'werewolf': 4298, 'believable': 4299, 'determined': 4300, 'handcuffed': 4301, 'custody': 4302, 'therapy': 4303, 'indecisive': 4304, 'insightful': 4305, 'intolerant': 4306, 'passionate': 4307, 'perspiring': 4308, 'possessive': 4309, 'stuttering': 4310, 'suspicious': 4311, 'unfaithful': 4312, 'minor': 4313, 'trained': 4314, 'mumbles': 4315, 'outlived': 4316, 'poisoned': 4317, 'served': 4318, 'humbly': 4319, 'sneezes': 4320, 'bait': 4321, 'vomited': 4322, 'updates': 4323, 'fanatic': 4324, 'fireman': 4325, 'negligent': 4326, 'imaginative': 4327, 'acrylic': 4328, 'longer': 4329, 'liquid': 4330, 'vaccine': 4331, 'warrant': 4332, 'suppliers': 4333, 'witnesses': 4334, 'parks': 4335, 'canoe': 4336, 'battle': 4337, 'mothers': 4338, 'journalists': 4339, 'pessimistic': 4340, 'pulling': 4341, 'collection': 4342, 'tacky': 4343, 'delay': 4344, 'troubles': 4345, 'achieved': 4346, 'asking': 4347, 'target': 4348, 'arrive': 4349, 'melon': 4350, 'confucius': 4351, 'drama': 4352, 'c': 4353, 'woods': 4354, 'wriggle': 4355, 'actresses': 4356, 'error': 4357, 'bugging': 4358, 'particular': 4359, 'scaring': 4360, 'telling': 4361, 'unfriendly': 4362, 'scratched': 4363, 'comma': 4364, 'revolt': 4365, 'brewing': 4366, 'demanding': 4367, 'criminals': 4368, 'buddhist': 4369, 'believer': 4370, 'attendance': 4371, 'contains': 4372, 'hops': 4373, 'chirping': 4374, 'pillow': 4375, 'rackets': 4376, 'menu': 4377, 'caption': 4378, 'divide': 4379, 'conquer': 4380, 'mozart': 4381, 'copycat': 4382, 'patronize': 4383, 'relaxes': 4384, 'dust': 4385, 'shelf': 4386, 'endorse': 4387, 'tore': 4388, 'portion': 4389, 'breakable': 4390, 'broom': 4391, 'remote': 4392, 'wrench': 4393, 'thanksgiving': 4394, 'od': 4395, 'foolishly': 4396, 'mile': 4397, 'cycling': 4398, 'daydreamer': 4399, 'fishmonger': 4400, 'heartless': 4401, 'lacks': 4402, 'judgement': 4403, 'retaliate': 4404, 'rolled': 4405, 'thrust': 4406, 'weighs': 4407, 'kilos': 4408, 'lottery': 4409, 'walker': 4410, 'filthy': 4411, 'critic': 4412, 'ghostwriter': 4413, 'keeper': 4414, 'meth': 4415, 'englishman': 4416, 'overconfident': 4417, 'fifty': 4418, 'scapegoat': 4419, 'torn': 4420, 'sooty': 4421, 'baggage': 4422, 'eludes': 4423, 'pace': 4424, 'quickened': 4425, 'untidy': 4426, 'refill': 4427, 'economy': 4428, 'museum': 4429, 'cope': 4430, 'absolutely': 4431, 'advise': 4432, 'customers': 4433, 'fond': 4434, 'prophet': 4435, 'fries': 4436, 'potato': 4437, 'chips': 4438, 'peanuts': 4439, 'clutch': 4440, 'exclude': 4441, 'imagine': 4442, 'clicked': 4443, 'detest': 4444, 'soda': 4445, 'vodka': 4446, 'miserably': 4447, 'tests': 4448, 'fastened': 4449, 'fractured': 4450, 'bureaucracy': 4451, 'goat': 4452, 'most': 4453, 'complaint': 4454, 'nosebleed': 4455, 'telescope': 4456, 'blonde': 4457, 'cabin': 4458, 'frizzy': 4459, 'appetite': 4460, 'siblings': 4461, 'invoice': 4462, 'rehearse': 4463, 'cameras': 4464, 'nephews': 4465, 'tickets': 4466, 'hid': 4467, 'pans': 4468, 'jog': 4469, 'redecorated': 4470, 'imagination': 4471, 'irish': 4472, 'places': 4473, 'disco': 4474, 'skirts': 4475, 'photography': 4476, 'translating': 4477, 'windsurfing': 4478, 'lived': 4479, 'poverty': 4480, 'bearded': 4481, 'butterflies': 4482, 'fairy': 4483, 'tales': 4484, 'melody': 4485, 'photocopies': 4486, 'mopped': 4487, 'pad': 4488, 'secretary': 4489, 'envelope': 4490, 'lotion': 4491, 'inspiration': 4492, 'nutmeg': 4493, 'doubted': 4494, 'trumpet': 4495, 'explosion': 4496, 'slammed': 4497, 'nine': 4498, 'hours': 4499, 'cigarettes': 4500, 'psychology': 4501, 'ankle': 4502, 'unloaded': 4503, 'unplugged': 4504, 'limp': 4505, 'fooling': 4506, 'paraphrasing': 4507, 'stiff': 4508, 'television': 4509, 'nagasaki': 4510, 'election': 4511, 'catering': 4512, 'introduce': 4513, 'fianc': 4514, 'e': 4515, 'rusty': 4516, 'photographer': 4517, 'bats': 4518, 'library': 4519, 'harassed': 4520, 'claustrophobic': 4521, 'singapore': 4522, 'gaining': 4523, 'poorer': 4524, 'mood': 4525, 'health': 4526, 'bathtub': 4527, 'deadbeat': 4528, 'gangster': 4529, 'magician': 4530, 'pacifist': 4531, 'delusional': 4532, 'denying': 4533, 'invincible': 4534, 'slave': 4535, 'balcony': 4536, 'selling': 4537, 'somewhat': 4538, 'terribly': 4539, 'unenthusiastic': 4540, 'laid': 4541, 'gained': 4542, 'woken': 4543, 'bliss': 4544, 'christian': 4545, 'satisfactory': 4546, 'chained': 4547, 'milkman': 4548, 'recyclable': 4549, 'breaks': 4550, 'improved': 4551, 'mended': 4552, 'deadly': 4553, 'parallel': 4554, 'frustrating': 4555, 'preventable': 4556, 'unavoidable': 4557, 'relevant': 4558, 'extreme': 4559, 'coincidence': 4560, 'distraction': 4561, 'possibility': 4562, 'proven': 4563, 'effort': 4564, 'typo': 4565, 'experiment': 4566, 'investment': 4567, 'recipe': 4568, 'booby': 4569, 'bound': 4570, 'disconcerting': 4571, 'heartbreaking': 4572, 'plague': 4573, 'brass': 4574, 'merely': 4575, 'disease': 4576, 'pertinent': 4577, 'unforgettable': 4578, 'greece': 4579, 'anywhere': 4580, 'profile': 4581, 'lesson': 4582, 'trade': 4583, 'catty': 4584, 'squabble': 4585, 'luckily': 4586, 'monopolies': 4587, 'universal': 4588, 'final': 4589, 'battery': 4590, 'budget': 4591, 'meows': 4592, 'fuel': 4593, 'hunch': 4594, 'sealed': 4595, 'mailbox': 4596, 'strategy': 4597, 'zipper': 4598, 'immortal': 4599, 'forever': 4600, 'suitcase': 4601, 'restored': 4602, 'owls': 4603, 'arise': 4604, 'breed': 4605, 'strength': 4606, 'postcard': 4607, 'aid': 4608, 'pigeon': 4609, 'toed': 4610, 'ghostly': 4611, 'lonesome': 4612, 'antiques': 4613, 'happily': 4614, 'teaser': 4615, 'supermodel': 4616, 'losers': 4617, 'phoning': 4618}\n"
     ]
    }
   ],
   "source": [
    "print(eng_tokenizer.word_index)"
   ]
  },
  {
   "cell_type": "code",
   "execution_count": 11,
   "id": "35cd3ad6",
   "metadata": {},
   "outputs": [
    {
     "data": {
      "text/plain": [
       "[[27, 1], [27, 1], [27, 1]]"
      ]
     },
     "execution_count": 11,
     "metadata": {},
     "output_type": "execute_result"
    }
   ],
   "source": [
    "input_text = eng_tokenizer.texts_to_sequences(lines.eng)\n",
    "input_text[:3]"
   ]
  },
  {
   "cell_type": "code",
   "execution_count": 12,
   "id": "b2573084",
   "metadata": {},
   "outputs": [],
   "source": [
    "fra_tokenizer = Tokenizer()\n",
    "fra_tokenizer.fit_on_texts(lines.fra)\n",
    "target_text = fra_tokenizer.texts_to_sequences(lines.fra)"
   ]
  },
  {
   "cell_type": "code",
   "execution_count": 13,
   "id": "8cec5247",
   "metadata": {},
   "outputs": [
    {
     "data": {
      "text/plain": [
       "[[1, 74, 9, 2], [1, 350, 3, 2], [1, 27, 516, 9, 2]]"
      ]
     },
     "execution_count": 13,
     "metadata": {},
     "output_type": "execute_result"
    }
   ],
   "source": [
    "target_text[:3]"
   ]
  },
  {
   "cell_type": "code",
   "execution_count": 14,
   "id": "8e685d3b",
   "metadata": {},
   "outputs": [
    {
     "name": "stdout",
     "output_type": "stream",
     "text": [
      "영어 단어장의 크기 : 4619\n",
      "프랑스어 단어장의 크기 : 7388\n"
     ]
    }
   ],
   "source": [
    "eng_vocab_size = len(eng_tokenizer.word_index) + 1\n",
    "fra_vocab_size = len(fra_tokenizer.word_index) + 1\n",
    "print('영어 단어장의 크기 :', eng_vocab_size)\n",
    "print('프랑스어 단어장의 크기 :', fra_vocab_size)"
   ]
  },
  {
   "cell_type": "code",
   "execution_count": 15,
   "id": "dcc20fe9",
   "metadata": {},
   "outputs": [
    {
     "name": "stdout",
     "output_type": "stream",
     "text": [
      "영어 시퀀스의 최대 길이 8\n",
      "프랑스어 시퀀스의 최대 길이 17\n"
     ]
    }
   ],
   "source": [
    "max_eng_seq_len = max([len(line) for line in input_text])\n",
    "max_fra_seq_len = max([len(line) for line in target_text])\n",
    "print('영어 시퀀스의 최대 길이', max_eng_seq_len)\n",
    "print('프랑스어 시퀀스의 최대 길이', max_fra_seq_len)"
   ]
  },
  {
   "cell_type": "code",
   "execution_count": 16,
   "id": "fbf2e087",
   "metadata": {},
   "outputs": [
    {
     "name": "stdout",
     "output_type": "stream",
     "text": [
      "전체 샘플의 수 : 33000\n",
      "영어 단어장의 크기 : 4619\n",
      "프랑스어 단어장의 크기 : 7388\n",
      "영어 시퀀스의 최대 길이 8\n",
      "프랑스어 시퀀스의 최대 길이 17\n"
     ]
    }
   ],
   "source": [
    "print('전체 샘플의 수 :',len(lines))\n",
    "print('영어 단어장의 크기 :', eng_vocab_size)\n",
    "print('프랑스어 단어장의 크기 :', fra_vocab_size)\n",
    "print('영어 시퀀스의 최대 길이', max_eng_seq_len)\n",
    "print('프랑스어 시퀀스의 최대 길이', max_fra_seq_len)"
   ]
  },
  {
   "cell_type": "code",
   "execution_count": 17,
   "id": "98f58d51",
   "metadata": {},
   "outputs": [],
   "source": [
    "sos_token = '<start>'\n",
    "eos_token = '<end>'\n",
    "\n",
    "encoder_input = input_text\n",
    "# 종료 토큰 제거\n",
    "decoder_input = [[ char for char in line if char != fra_tokenizer.word_index[eos_token] ] for line in target_text] \n",
    "# 시작 토큰 제거\n",
    "decoder_target = [[ char for char in line if char != fra_tokenizer.word_index[sos_token] ] for line in target_text]"
   ]
  },
  {
   "cell_type": "code",
   "execution_count": 18,
   "id": "dc7e09ef",
   "metadata": {},
   "outputs": [
    {
     "name": "stdout",
     "output_type": "stream",
     "text": [
      "영어 데이터의 크기(shape) : (33000, 8)\n",
      "프랑스어 입력데이터의 크기(shape) : (33000, 17)\n",
      "프랑스어 출력데이터의 크기(shape) : (33000, 17)\n"
     ]
    }
   ],
   "source": [
    "encoder_input = pad_sequences(encoder_input, maxlen = max_eng_seq_len, padding='post')\n",
    "decoder_input = pad_sequences(decoder_input, maxlen = max_fra_seq_len, padding='post')\n",
    "decoder_target = pad_sequences(decoder_target, maxlen = max_fra_seq_len, padding='post')\n",
    "print('영어 데이터의 크기(shape) :',np.shape(encoder_input))\n",
    "print('프랑스어 입력데이터의 크기(shape) :',np.shape(decoder_input))\n",
    "print('프랑스어 출력데이터의 크기(shape) :',np.shape(decoder_target))"
   ]
  },
  {
   "cell_type": "code",
   "execution_count": 19,
   "id": "a4eb56f2",
   "metadata": {},
   "outputs": [],
   "source": [
    "indices = np.arange(encoder_input.shape[0])\n",
    "np.random.shuffle(indices)\n",
    "\n",
    "encoder_input = encoder_input[indices]\n",
    "decoder_input = decoder_input[indices]\n",
    "decoder_target = decoder_target[indices]"
   ]
  },
  {
   "cell_type": "code",
   "execution_count": 20,
   "id": "9673a705",
   "metadata": {},
   "outputs": [
    {
     "name": "stdout",
     "output_type": "stream",
     "text": [
      "(30000, 8)\n",
      "(30000, 17)\n",
      "(30000, 17)\n",
      "(3000, 8)\n",
      "(3000, 17)\n",
      "(3000, 17)\n"
     ]
    }
   ],
   "source": [
    "n_of_val = 3000\n",
    "\n",
    "encoder_input_train = encoder_input[:-n_of_val]\n",
    "decoder_input_train = decoder_input[:-n_of_val]\n",
    "decoder_target_train = decoder_target[:-n_of_val]\n",
    "\n",
    "encoder_input_test = encoder_input[-n_of_val:]\n",
    "decoder_input_test = decoder_input[-n_of_val:]\n",
    "decoder_target_test = decoder_target[-n_of_val:]\n",
    "\n",
    "print(encoder_input_train.shape)\n",
    "print(decoder_input_train.shape)\n",
    "print(decoder_target_train.shape)\n",
    "print(encoder_input_test.shape)\n",
    "print(decoder_input_test.shape)\n",
    "print(decoder_target_test.shape)"
   ]
  },
  {
   "cell_type": "markdown",
   "id": "95d1f933",
   "metadata": {},
   "source": [
    "## 학습"
   ]
  },
  {
   "cell_type": "code",
   "execution_count": 21,
   "id": "bd798418",
   "metadata": {},
   "outputs": [],
   "source": [
    "encoder_inputs = Input(shape=(None,))\n",
    "# encoder embedding\n",
    "enc_emb = Embedding(eng_vocab_size, 256, input_length=max_eng_seq_len)(encoder_inputs)\n",
    "enc_masking = Masking(mask_value=0.0)(enc_emb)\n",
    "encoder_lstm = LSTM(units = 256, return_state = True)\n",
    "encoder_outputs, state_h, state_c = encoder_lstm(enc_masking)\n",
    "encoder_states = [state_h, state_c]"
   ]
  },
  {
   "cell_type": "code",
   "execution_count": 22,
   "id": "ff75dd81",
   "metadata": {},
   "outputs": [],
   "source": [
    "decoder_inputs = Input(shape=(None,))\n",
    "# decoder embedding\n",
    "dec_emb = Embedding(fra_vocab_size, 256)(decoder_inputs)\n",
    "dec_masking = Masking(mask_value=0.0)(dec_emb)\n",
    "decoder_lstm = LSTM(units = 256, return_sequences = True, return_state=True)\n",
    "decoder_outputs, _, _= decoder_lstm(dec_masking, initial_state = encoder_states)\n",
    "\n",
    "decoder_softmax_layer = Dense(fra_vocab_size, activation='softmax')\n",
    "decoder_outputs = decoder_softmax_layer(decoder_outputs)"
   ]
  },
  {
   "cell_type": "code",
   "execution_count": 23,
   "id": "915faa4d",
   "metadata": {},
   "outputs": [
    {
     "name": "stdout",
     "output_type": "stream",
     "text": [
      "Model: \"model\"\n",
      "__________________________________________________________________________________________________\n",
      "Layer (type)                    Output Shape         Param #     Connected to                     \n",
      "==================================================================================================\n",
      "input_1 (InputLayer)            [(None, None)]       0                                            \n",
      "__________________________________________________________________________________________________\n",
      "input_2 (InputLayer)            [(None, None)]       0                                            \n",
      "__________________________________________________________________________________________________\n",
      "embedding (Embedding)           (None, None, 256)    1182464     input_1[0][0]                    \n",
      "__________________________________________________________________________________________________\n",
      "embedding_1 (Embedding)         (None, None, 256)    1891328     input_2[0][0]                    \n",
      "__________________________________________________________________________________________________\n",
      "masking (Masking)               (None, None, 256)    0           embedding[0][0]                  \n",
      "__________________________________________________________________________________________________\n",
      "masking_1 (Masking)             (None, None, 256)    0           embedding_1[0][0]                \n",
      "__________________________________________________________________________________________________\n",
      "lstm (LSTM)                     [(None, 256), (None, 525312      masking[0][0]                    \n",
      "__________________________________________________________________________________________________\n",
      "lstm_1 (LSTM)                   [(None, None, 256),  525312      masking_1[0][0]                  \n",
      "                                                                 lstm[0][1]                       \n",
      "                                                                 lstm[0][2]                       \n",
      "__________________________________________________________________________________________________\n",
      "dense (Dense)                   (None, None, 7388)   1898716     lstm_1[0][0]                     \n",
      "==================================================================================================\n",
      "Total params: 6,023,132\n",
      "Trainable params: 6,023,132\n",
      "Non-trainable params: 0\n",
      "__________________________________________________________________________________________________\n"
     ]
    }
   ],
   "source": [
    "model = Model([encoder_inputs, decoder_inputs], decoder_outputs)\n",
    "model.summary()"
   ]
  },
  {
   "cell_type": "code",
   "execution_count": 24,
   "id": "8a6bc754",
   "metadata": {},
   "outputs": [],
   "source": [
    "model.compile(optimizer=\"rmsprop\", loss='sparse_categorical_crossentropy', metrics=['acc'])"
   ]
  },
  {
   "cell_type": "code",
   "execution_count": 25,
   "id": "24c62a53",
   "metadata": {},
   "outputs": [
    {
     "name": "stdout",
     "output_type": "stream",
     "text": [
      "Epoch 1/50\n",
      "938/938 [==============================] - 47s 20ms/step - loss: 1.4630 - acc: 0.7718 - val_loss: 1.2080 - val_acc: 0.8087\n",
      "Epoch 2/50\n",
      "938/938 [==============================] - 16s 17ms/step - loss: 1.1061 - acc: 0.8237 - val_loss: 1.0543 - val_acc: 0.8323\n",
      "Epoch 3/50\n",
      "938/938 [==============================] - 16s 17ms/step - loss: 0.9778 - acc: 0.8415 - val_loss: 0.9641 - val_acc: 0.8446\n",
      "Epoch 4/50\n",
      "938/938 [==============================] - 16s 17ms/step - loss: 0.8918 - acc: 0.8531 - val_loss: 0.9129 - val_acc: 0.8524\n",
      "Epoch 5/50\n",
      "938/938 [==============================] - 16s 17ms/step - loss: 0.8302 - acc: 0.8617 - val_loss: 0.8672 - val_acc: 0.8587\n",
      "Epoch 6/50\n",
      "938/938 [==============================] - 16s 17ms/step - loss: 0.7808 - acc: 0.8695 - val_loss: 0.8364 - val_acc: 0.8635\n",
      "Epoch 7/50\n",
      "938/938 [==============================] - 16s 17ms/step - loss: 0.7443 - acc: 0.8767 - val_loss: 0.8259 - val_acc: 0.8673\n",
      "Epoch 8/50\n",
      "938/938 [==============================] - 16s 17ms/step - loss: 0.7107 - acc: 0.8829 - val_loss: 0.8058 - val_acc: 0.8705\n",
      "Epoch 9/50\n",
      "938/938 [==============================] - 16s 17ms/step - loss: 0.6839 - acc: 0.8891 - val_loss: 0.7963 - val_acc: 0.8725\n",
      "Epoch 10/50\n",
      "938/938 [==============================] - 16s 17ms/step - loss: 0.6657 - acc: 0.8941 - val_loss: 0.7988 - val_acc: 0.8747\n",
      "Epoch 11/50\n",
      "938/938 [==============================] - 16s 17ms/step - loss: 0.6556 - acc: 0.8983 - val_loss: 0.8052 - val_acc: 0.8758\n",
      "Epoch 12/50\n",
      "938/938 [==============================] - 16s 17ms/step - loss: 0.6412 - acc: 0.9019 - val_loss: 0.7966 - val_acc: 0.8779\n",
      "Epoch 13/50\n",
      "938/938 [==============================] - 16s 17ms/step - loss: 0.6229 - acc: 0.9054 - val_loss: 0.7837 - val_acc: 0.8801\n",
      "Epoch 14/50\n",
      "938/938 [==============================] - 16s 17ms/step - loss: 0.6044 - acc: 0.9092 - val_loss: 0.7900 - val_acc: 0.8790\n",
      "Epoch 15/50\n",
      "938/938 [==============================] - 16s 17ms/step - loss: 0.5960 - acc: 0.9112 - val_loss: 0.7888 - val_acc: 0.8804\n",
      "Epoch 16/50\n",
      "938/938 [==============================] - 16s 17ms/step - loss: 0.5881 - acc: 0.9138 - val_loss: 0.7894 - val_acc: 0.8811\n",
      "Epoch 17/50\n",
      "938/938 [==============================] - 16s 17ms/step - loss: 0.5817 - acc: 0.9159 - val_loss: 0.7919 - val_acc: 0.8819\n",
      "Epoch 18/50\n",
      "938/938 [==============================] - 16s 17ms/step - loss: 0.5793 - acc: 0.9172 - val_loss: 0.7967 - val_acc: 0.8815\n",
      "Epoch 19/50\n",
      "938/938 [==============================] - 16s 17ms/step - loss: 0.5728 - acc: 0.9192 - val_loss: 0.7961 - val_acc: 0.8815\n",
      "Epoch 20/50\n",
      "938/938 [==============================] - 16s 17ms/step - loss: 0.5609 - acc: 0.9207 - val_loss: 0.7935 - val_acc: 0.8832\n",
      "Epoch 21/50\n",
      "938/938 [==============================] - 16s 17ms/step - loss: 0.5539 - acc: 0.9219 - val_loss: 0.7983 - val_acc: 0.8818\n",
      "Epoch 22/50\n",
      "938/938 [==============================] - 16s 17ms/step - loss: 0.5503 - acc: 0.9229 - val_loss: 0.7981 - val_acc: 0.8823\n",
      "Epoch 23/50\n",
      "938/938 [==============================] - 16s 17ms/step - loss: 0.5449 - acc: 0.9236 - val_loss: 0.7965 - val_acc: 0.8826\n",
      "Epoch 24/50\n",
      "938/938 [==============================] - 16s 17ms/step - loss: 0.5403 - acc: 0.9247 - val_loss: 0.7970 - val_acc: 0.8830\n",
      "Epoch 25/50\n",
      "938/938 [==============================] - 16s 17ms/step - loss: 0.5334 - acc: 0.9257 - val_loss: 0.7980 - val_acc: 0.8831\n",
      "Epoch 26/50\n",
      "938/938 [==============================] - 16s 17ms/step - loss: 0.5266 - acc: 0.9266 - val_loss: 0.7916 - val_acc: 0.8836\n",
      "Epoch 27/50\n",
      "938/938 [==============================] - 16s 17ms/step - loss: 0.5181 - acc: 0.9273 - val_loss: 0.7948 - val_acc: 0.8833\n",
      "Epoch 28/50\n",
      "938/938 [==============================] - 16s 17ms/step - loss: 0.5146 - acc: 0.9277 - val_loss: 0.7964 - val_acc: 0.8829\n",
      "Epoch 29/50\n",
      "938/938 [==============================] - 16s 17ms/step - loss: 0.5103 - acc: 0.9282 - val_loss: 0.7940 - val_acc: 0.8828\n",
      "Epoch 30/50\n",
      "938/938 [==============================] - 16s 17ms/step - loss: 0.5062 - acc: 0.9290 - val_loss: 0.7918 - val_acc: 0.8834\n",
      "Epoch 31/50\n",
      "938/938 [==============================] - 16s 17ms/step - loss: 0.5017 - acc: 0.9296 - val_loss: 0.7927 - val_acc: 0.8844\n",
      "Epoch 32/50\n",
      "938/938 [==============================] - 16s 17ms/step - loss: 0.4981 - acc: 0.9303 - val_loss: 0.7939 - val_acc: 0.8842\n",
      "Epoch 33/50\n",
      "938/938 [==============================] - 16s 17ms/step - loss: 0.4960 - acc: 0.9304 - val_loss: 0.7890 - val_acc: 0.8835\n",
      "Epoch 34/50\n",
      "938/938 [==============================] - 16s 17ms/step - loss: 0.4950 - acc: 0.9308 - val_loss: 0.7899 - val_acc: 0.8835\n",
      "Epoch 35/50\n",
      "938/938 [==============================] - 16s 17ms/step - loss: 0.4942 - acc: 0.9310 - val_loss: 0.7898 - val_acc: 0.8828\n",
      "Epoch 36/50\n",
      "938/938 [==============================] - 16s 17ms/step - loss: 0.4925 - acc: 0.9313 - val_loss: 0.7911 - val_acc: 0.8829\n",
      "Epoch 37/50\n",
      "938/938 [==============================] - 16s 17ms/step - loss: 0.4911 - acc: 0.9317 - val_loss: 0.7921 - val_acc: 0.8838\n",
      "Epoch 38/50\n",
      "938/938 [==============================] - 16s 17ms/step - loss: 0.4898 - acc: 0.9322 - val_loss: 0.7925 - val_acc: 0.8834\n",
      "Epoch 39/50\n",
      "938/938 [==============================] - 16s 17ms/step - loss: 0.4864 - acc: 0.9323 - val_loss: 0.7902 - val_acc: 0.8832\n",
      "Epoch 40/50\n",
      "938/938 [==============================] - 16s 17ms/step - loss: 0.4837 - acc: 0.9326 - val_loss: 0.7932 - val_acc: 0.8837\n",
      "Epoch 41/50\n",
      "938/938 [==============================] - 16s 17ms/step - loss: 0.4812 - acc: 0.9329 - val_loss: 0.7905 - val_acc: 0.8841\n",
      "Epoch 42/50\n",
      "938/938 [==============================] - 16s 17ms/step - loss: 0.4783 - acc: 0.9332 - val_loss: 0.7905 - val_acc: 0.8839\n",
      "Epoch 43/50\n",
      "938/938 [==============================] - 16s 17ms/step - loss: 0.4757 - acc: 0.9336 - val_loss: 0.7909 - val_acc: 0.8839\n",
      "Epoch 44/50\n",
      "938/938 [==============================] - 16s 17ms/step - loss: 0.4734 - acc: 0.9338 - val_loss: 0.7920 - val_acc: 0.8830\n",
      "Epoch 45/50\n",
      "938/938 [==============================] - 16s 17ms/step - loss: 0.4714 - acc: 0.9340 - val_loss: 0.7903 - val_acc: 0.8834\n",
      "Epoch 46/50\n",
      "938/938 [==============================] - 16s 17ms/step - loss: 0.4684 - acc: 0.9343 - val_loss: 0.7940 - val_acc: 0.8838\n",
      "Epoch 47/50\n",
      "938/938 [==============================] - 16s 17ms/step - loss: 0.4659 - acc: 0.9344 - val_loss: 0.7928 - val_acc: 0.8835\n",
      "Epoch 48/50\n",
      "938/938 [==============================] - 16s 17ms/step - loss: 0.4639 - acc: 0.9346 - val_loss: 0.7912 - val_acc: 0.8850\n",
      "Epoch 49/50\n",
      "938/938 [==============================] - 16s 17ms/step - loss: 0.4617 - acc: 0.9348 - val_loss: 0.7932 - val_acc: 0.8829\n",
      "Epoch 50/50\n",
      "938/938 [==============================] - 16s 17ms/step - loss: 0.4595 - acc: 0.9352 - val_loss: 0.7926 - val_acc: 0.8841\n"
     ]
    },
    {
     "data": {
      "text/plain": [
       "<keras.callbacks.History at 0x7fbc51582100>"
      ]
     },
     "execution_count": 25,
     "metadata": {},
     "output_type": "execute_result"
    }
   ],
   "source": [
    "model.fit([encoder_input_train, decoder_input_train],decoder_target_train,\n",
    "          validation_data = ([encoder_input_test, decoder_input_test], decoder_target_test),\n",
    "          batch_size = 32, epochs = 50)"
   ]
  },
  {
   "cell_type": "markdown",
   "id": "bd48c1d5",
   "metadata": {},
   "source": [
    "## 평가"
   ]
  },
  {
   "cell_type": "code",
   "execution_count": 26,
   "id": "e70ae4a9",
   "metadata": {},
   "outputs": [
    {
     "name": "stdout",
     "output_type": "stream",
     "text": [
      "Model: \"model_1\"\n",
      "_________________________________________________________________\n",
      "Layer (type)                 Output Shape              Param #   \n",
      "=================================================================\n",
      "input_1 (InputLayer)         [(None, None)]            0         \n",
      "_________________________________________________________________\n",
      "embedding (Embedding)        (None, None, 256)         1182464   \n",
      "_________________________________________________________________\n",
      "masking (Masking)            (None, None, 256)         0         \n",
      "_________________________________________________________________\n",
      "lstm (LSTM)                  [(None, 256), (None, 256) 525312    \n",
      "=================================================================\n",
      "Total params: 1,707,776\n",
      "Trainable params: 1,707,776\n",
      "Non-trainable params: 0\n",
      "_________________________________________________________________\n"
     ]
    }
   ],
   "source": [
    "encoder_model = Model(inputs = encoder_inputs, outputs = encoder_states)\n",
    "encoder_model.summary()"
   ]
  },
  {
   "cell_type": "code",
   "execution_count": 27,
   "id": "84352732",
   "metadata": {},
   "outputs": [],
   "source": [
    "decoder_state_input_h = Input(shape=(256,))\n",
    "decoder_state_input_c = Input(shape=(256,))\n",
    "decoder_states_inputs = [decoder_state_input_h, decoder_state_input_c]\n",
    "\n",
    "dec_emb2 = Embedding(fra_vocab_size, 256)(decoder_inputs)\n",
    "decoder_outputs2, state_h2, state_c2 = decoder_lstm(dec_emb2, initial_state = decoder_states_inputs)\n",
    "decoder_states2 = [state_h2, state_c2]\n",
    "\n",
    "decoder_outputs2 = decoder_softmax_layer(decoder_outputs2)"
   ]
  },
  {
   "cell_type": "code",
   "execution_count": 28,
   "id": "5873b795",
   "metadata": {},
   "outputs": [
    {
     "name": "stdout",
     "output_type": "stream",
     "text": [
      "Model: \"model_2\"\n",
      "__________________________________________________________________________________________________\n",
      "Layer (type)                    Output Shape         Param #     Connected to                     \n",
      "==================================================================================================\n",
      "input_2 (InputLayer)            [(None, None)]       0                                            \n",
      "__________________________________________________________________________________________________\n",
      "embedding_2 (Embedding)         (None, None, 256)    1891328     input_2[0][0]                    \n",
      "__________________________________________________________________________________________________\n",
      "input_3 (InputLayer)            [(None, 256)]        0                                            \n",
      "__________________________________________________________________________________________________\n",
      "input_4 (InputLayer)            [(None, 256)]        0                                            \n",
      "__________________________________________________________________________________________________\n",
      "lstm_1 (LSTM)                   [(None, None, 256),  525312      embedding_2[0][0]                \n",
      "                                                                 input_3[0][0]                    \n",
      "                                                                 input_4[0][0]                    \n",
      "__________________________________________________________________________________________________\n",
      "dense (Dense)                   (None, None, 7388)   1898716     lstm_1[1][0]                     \n",
      "==================================================================================================\n",
      "Total params: 4,315,356\n",
      "Trainable params: 4,315,356\n",
      "Non-trainable params: 0\n",
      "__________________________________________________________________________________________________\n"
     ]
    }
   ],
   "source": [
    "decoder_model = Model(inputs=[decoder_inputs] + decoder_states_inputs, outputs=[decoder_outputs2] + decoder_states2)\n",
    "decoder_model.summary()"
   ]
  },
  {
   "cell_type": "code",
   "execution_count": 29,
   "id": "668c869d",
   "metadata": {},
   "outputs": [],
   "source": [
    "ng2idx = eng_tokenizer.word_index\n",
    "fra2idx = fra_tokenizer.word_index\n",
    "idx2eng = eng_tokenizer.index_word\n",
    "idx2fra = fra_tokenizer.index_word"
   ]
  },
  {
   "cell_type": "code",
   "execution_count": 30,
   "id": "c95c64fb",
   "metadata": {},
   "outputs": [],
   "source": [
    "def decode_sequence(input_seq):\n",
    "    # 입력으로부터 인코더의 상태를 얻음\n",
    "    states_value = encoder_model.predict(input_seq)\n",
    "\n",
    "    # <SOS>에 해당하는 원-핫 벡터 생성\n",
    "    target_seq = np.zeros((1,1))\n",
    "    target_seq[0, 0] = fra2idx['<start>']\n",
    "    \n",
    "    stop_condition = False\n",
    "    decoded_sentence = \"\"\n",
    "\n",
    "    # stop_condition이 True가 될 때까지 루프 반복\n",
    "    while not stop_condition:\n",
    "        # 이점 시점의 상태 states_value를 현 시점의 초기 상태로 사용\n",
    "        output_tokens, h, c = decoder_model.predict([target_seq] + states_value)\n",
    "\n",
    "        # 예측 결과를 문자로 변환\n",
    "        sampled_token_index = np.argmax(output_tokens[0, -1, :])\n",
    "        sampled_char = idx2fra[sampled_token_index]\n",
    "\n",
    "        # 현재 시점의 예측 문자를 예측 문장에 추가\n",
    "        decoded_sentence += ' '+sampled_char\n",
    "\n",
    "        # <eos>에 도달하거나 최대 길이를 넘으면 중단.\n",
    "        if (sampled_char == '<end>' or\n",
    "           len(decoded_sentence) > max_fra_seq_len):\n",
    "            stop_condition = True\n",
    "\n",
    "        # 현재 시점의 예측 결과를 다음 시점의 입력으로 사용하기 위해 저장\n",
    "        target_seq = np.zeros((1, 1))\n",
    "        target_seq[0, 0] = sampled_token_index\n",
    "\n",
    "        # 현재 시점의 상태를 다음 시점의 상태로 사용하기 위해 저장\n",
    "        states_value = [h, c]\n",
    "\n",
    "    return decoded_sentence"
   ]
  },
  {
   "cell_type": "code",
   "execution_count": 31,
   "id": "7eed7f5f",
   "metadata": {},
   "outputs": [],
   "source": [
    "# 원문의 정수 시퀀스를 텍스트 시퀀스로 변환\n",
    "def seq2src(input_seq):\n",
    "    temp=''\n",
    "    for i in input_seq:\n",
    "        if(i!=0):\n",
    "            temp = temp + idx2eng[i]+' '\n",
    "    return temp"
   ]
  },
  {
   "cell_type": "code",
   "execution_count": 32,
   "id": "5a3c5030",
   "metadata": {},
   "outputs": [],
   "source": [
    "# 번역문의 정수 시퀀스를 텍스트 시퀀스로 변환\n",
    "def seq2tar(input_seq):\n",
    "    temp=''\n",
    "    for i in input_seq:\n",
    "        if((i!=0 and i!=fra2idx['<start>']) and i!=fra2idx['<end>']):\n",
    "            temp = temp + idx2fra[i] + ' '\n",
    "    return temp"
   ]
  },
  {
   "cell_type": "code",
   "execution_count": 33,
   "id": "b997ca7a",
   "metadata": {},
   "outputs": [
    {
     "name": "stdout",
     "output_type": "stream",
     "text": [
      "-----------------------------------\n",
      "입력 문장: we ll manage . \n",
      "정답 문장: nous y arriverons . \n",
      "번역기가 번역한 문장:  nous . . . ? ? ? \n",
      "-----------------------------------\n",
      "입력 문장: i had to see you . \n",
      "정답 문장: il m a fallu vous voir . \n",
      "번역기가 번역한 문장:  il me me que . . \n",
      "-----------------------------------\n",
      "입력 문장: his son is sick . \n",
      "정답 문장: son fils est malade . \n",
      "번역기가 번역한 문장:  aime votre la la \n",
      "-----------------------------------\n",
      "입력 문장: he has a picasso . \n",
      "정답 문장: il a un picasso . \n",
      "번역기가 번역한 문장:  il d . . . ! . . \n",
      "-----------------------------------\n",
      "입력 문장: i m a law student . \n",
      "정답 문장: je suis tudiante en droit . \n",
      "번역기가 번역한 문장:  je un la la la l\n"
     ]
    }
   ],
   "source": [
    "for seq_index in [1,100,301,777,2222]:\n",
    "    input_seq = encoder_input_test[seq_index: seq_index + 1]\n",
    "    decoded_sentence = decode_sequence(input_seq)\n",
    "    print(35 * \"-\")\n",
    "    print('입력 문장:', seq2src(encoder_input_test[seq_index]))\n",
    "    print('정답 문장:', seq2tar(decoder_input_test[seq_index]))\n",
    "    print('번역기가 번역한 문장:', decoded_sentence[:len(decoded_sentence)-1])"
   ]
  },
  {
   "cell_type": "markdown",
   "id": "3a244c73",
   "metadata": {},
   "source": [
    "# 회고"
   ]
  },
  {
   "cell_type": "markdown",
   "id": "e831d914",
   "metadata": {},
   "source": [
    "### 전문적인 번역기와 비교하면 장난수준이지만 그래도 번역을 이렇게나마 해볼 수 있어서 즐거운 프로젝트였다.\n",
    "### 아직 미숙한 점은 여러 방식과 모델학습을 통해 보완해가면 더 나은 결과물을 낼 수 있을 것 같다.\n",
    "### 여러모로 흥미롭고 실전에서 사용해볼 수 있는 프로젝트여서 나름 뿌듯했다.\n",
    "### 영어 to 프랑스어 라서 조금 아쉬웠고, 한국어나 스페인어를 한번 더 해보고 싶다는 생각을 했다.\n",
    "### 요즘 거의 99%에 가까운 Deepl이라는 번역기 나와서 서로 비교해보면서 보완을 해보면 좋겠다.\n",
    "### 인풋과 아웃풋,그리고 과정에 대해 한번 더 배울수 있는 시간이었다.\n"
   ]
  }
 ],
 "metadata": {
  "kernelspec": {
   "display_name": "Python 3 (ipykernel)",
   "language": "python",
   "name": "python3"
  },
  "language_info": {
   "codemirror_mode": {
    "name": "ipython",
    "version": 3
   },
   "file_extension": ".py",
   "mimetype": "text/x-python",
   "name": "python",
   "nbconvert_exporter": "python",
   "pygments_lexer": "ipython3",
   "version": "3.9.7"
  }
 },
 "nbformat": 4,
 "nbformat_minor": 5
}
